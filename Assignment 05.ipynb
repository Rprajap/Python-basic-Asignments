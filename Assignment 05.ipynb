{
 "cells": [
  {
   "cell_type": "markdown",
   "id": "6b868051",
   "metadata": {},
   "source": [
    "1. What does an empty dictionary's code look like?"
   ]
  },
  {
   "cell_type": "markdown",
   "id": "6732efdc",
   "metadata": {},
   "source": [
    "Answer:- "
   ]
  },
  {
   "cell_type": "code",
   "execution_count": 1,
   "id": "4d752163",
   "metadata": {},
   "outputs": [
    {
     "data": {
      "text/plain": [
       "({}, dict)"
      ]
     },
     "execution_count": 1,
     "metadata": {},
     "output_type": "execute_result"
    }
   ],
   "source": [
    "# creating  Empty dictionary\n",
    "\n",
    "dict = {}\n",
    "\n",
    "dict,  type(dict)"
   ]
  },
  {
   "cell_type": "markdown",
   "id": "fe38f807",
   "metadata": {},
   "source": [
    "2. What is the value of a dictionary value with the key 'foo' and the value 42?"
   ]
  },
  {
   "cell_type": "markdown",
   "id": "e4951c22",
   "metadata": {},
   "source": [
    "Answer:-"
   ]
  },
  {
   "cell_type": "code",
   "execution_count": 2,
   "id": "5997b9a4",
   "metadata": {},
   "outputs": [],
   "source": [
    "dict1={'foo':42}"
   ]
  },
  {
   "cell_type": "code",
   "execution_count": 3,
   "id": "0fe88008",
   "metadata": {},
   "outputs": [
    {
     "data": {
      "text/plain": [
       "dict_values([42])"
      ]
     },
     "execution_count": 3,
     "metadata": {},
     "output_type": "execute_result"
    }
   ],
   "source": [
    "dict1.values()"
   ]
  },
  {
   "cell_type": "markdown",
   "id": "08814365",
   "metadata": {},
   "source": [
    "3. What is the most significant distinction between a dictionary and a list?"
   ]
  },
  {
   "cell_type": "markdown",
   "id": "a2b18f79",
   "metadata": {},
   "source": [
    "Answer;-"
   ]
  },
  {
   "cell_type": "markdown",
   "id": "a5eb4e58",
   "metadata": {},
   "source": [
    "list is collection of hetrogenous data in [] bracket where as dictonary is key,value pair collection of data in {} bracket"
   ]
  },
  {
   "cell_type": "markdown",
   "id": "9262e6e8",
   "metadata": {},
   "source": [
    "Example:-"
   ]
  },
  {
   "cell_type": "code",
   "execution_count": 4,
   "id": "b6ba01e2",
   "metadata": {},
   "outputs": [
    {
     "name": "stdout",
     "output_type": "stream",
     "text": [
      "<class 'list'>\n",
      "<class 'dict'>\n"
     ]
    }
   ],
   "source": [
    "# list \n",
    "l1=[12,23,'ineuron',45.2]\n",
    "print(type(l1))\n",
    "\n",
    "# Dictionary\n",
    "dict2 ={'A':20,'B':30,'C':'ineuron'}\n",
    "\n",
    "print(type(dict2))"
   ]
  },
  {
   "cell_type": "markdown",
   "id": "49bd2b61",
   "metadata": {},
   "source": [
    "4. What happens if you try to access spam['foo'] if spam is {'bar': 100}?"
   ]
  },
  {
   "cell_type": "markdown",
   "id": "e9e6c73c",
   "metadata": {},
   "source": [
    "Answer:-"
   ]
  },
  {
   "cell_type": "code",
   "execution_count": 5,
   "id": "953a8c6e",
   "metadata": {},
   "outputs": [
    {
     "ename": "NameError",
     "evalue": "name 'spam' is not defined",
     "output_type": "error",
     "traceback": [
      "\u001b[1;31m---------------------------------------------------------------------------\u001b[0m",
      "\u001b[1;31mNameError\u001b[0m                                 Traceback (most recent call last)",
      "\u001b[1;32m~\\AppData\\Local\\Temp/ipykernel_4492/2913942668.py\u001b[0m in \u001b[0;36m<module>\u001b[1;34m\u001b[0m\n\u001b[0;32m      1\u001b[0m \u001b[1;31m# Given Statement\u001b[0m\u001b[1;33m\u001b[0m\u001b[1;33m\u001b[0m\u001b[0m\n\u001b[0;32m      2\u001b[0m \u001b[0msapam\u001b[0m\u001b[1;33m=\u001b[0m\u001b[1;33m{\u001b[0m\u001b[1;34m'bar'\u001b[0m\u001b[1;33m:\u001b[0m\u001b[1;36m100\u001b[0m\u001b[1;33m}\u001b[0m\u001b[1;33m\u001b[0m\u001b[1;33m\u001b[0m\u001b[0m\n\u001b[1;32m----> 3\u001b[1;33m \u001b[0mspam\u001b[0m\u001b[1;33m[\u001b[0m\u001b[1;34m'foo'\u001b[0m\u001b[1;33m]\u001b[0m\u001b[1;33m\u001b[0m\u001b[1;33m\u001b[0m\u001b[0m\n\u001b[0m",
      "\u001b[1;31mNameError\u001b[0m: name 'spam' is not defined"
     ]
    }
   ],
   "source": [
    "# Given Statement\n",
    "sapam={'bar':100}\n",
    "spam['foo'] "
   ]
  },
  {
   "cell_type": "markdown",
   "id": "853a5f6f",
   "metadata": {},
   "source": [
    "* statement spaam={'bar':100} give error on calling span['foo'] beacuse in given statement 'foo' is not a key of dictionary"
   ]
  },
  {
   "cell_type": "markdown",
   "id": "71486445",
   "metadata": {},
   "source": [
    "5. If a dictionary is stored in spam, what is the difference between the expressions 'cat' in spam and 'cat' in spam.keys()?"
   ]
  },
  {
   "cell_type": "markdown",
   "id": "6039cb64",
   "metadata": {},
   "source": [
    "Answer:-\n",
    "\n",
    "There is no diffrence between expression  expressions 'cat' in spam and 'cat' in spam.keys() if dictionary spam stor key 'cat' or not ,\n",
    "\n",
    "'cat' in spam.keys()  will return  key of spam so it will ither return True or False thats depend on key of sapm and same for 'cat' in spam"
   ]
  },
  {
   "cell_type": "code",
   "execution_count": 7,
   "id": "f32b144c",
   "metadata": {},
   "outputs": [
    {
     "data": {
      "text/plain": [
       "True"
      ]
     },
     "execution_count": 7,
     "metadata": {},
     "output_type": "execute_result"
    }
   ],
   "source": [
    "#dict \n",
    "spam ={'cat':100}\n",
    "'cat' in spam"
   ]
  },
  {
   "cell_type": "code",
   "execution_count": 8,
   "id": "878336e0",
   "metadata": {},
   "outputs": [
    {
     "data": {
      "text/plain": [
       "True"
      ]
     },
     "execution_count": 8,
     "metadata": {},
     "output_type": "execute_result"
    }
   ],
   "source": [
    "#dict \n",
    "spam ={'cat':100}\n",
    "\n",
    "'cat' in spam.keys()"
   ]
  },
  {
   "cell_type": "markdown",
   "id": "bd243b71",
   "metadata": {},
   "source": [
    "6. If a dictionary is stored in spam, what is the difference between the expressions 'cat' in spam and 'cat' in spam.values()?"
   ]
  },
  {
   "cell_type": "markdown",
   "id": "1fc58a49",
   "metadata": {},
   "source": [
    "Answer:-"
   ]
  },
  {
   "cell_type": "markdown",
   "id": "83afac5d",
   "metadata": {},
   "source": [
    "Expression 'cat' in spam return True if 'cat' is there in spam or not and spam.values() return list of value of dictionary spam\n",
    "so 'cat' in spam.values() will return false "
   ]
  },
  {
   "cell_type": "markdown",
   "id": "7337da29",
   "metadata": {},
   "source": [
    "Example:-"
   ]
  },
  {
   "cell_type": "code",
   "execution_count": 9,
   "id": "d63922f4",
   "metadata": {},
   "outputs": [
    {
     "data": {
      "text/plain": [
       "True"
      ]
     },
     "execution_count": 9,
     "metadata": {},
     "output_type": "execute_result"
    }
   ],
   "source": [
    "spam={'cat':100}\n",
    "\n",
    "'cat' in spam"
   ]
  },
  {
   "cell_type": "code",
   "execution_count": 10,
   "id": "e19582da",
   "metadata": {},
   "outputs": [
    {
     "data": {
      "text/plain": [
       "False"
      ]
     },
     "execution_count": 10,
     "metadata": {},
     "output_type": "execute_result"
    }
   ],
   "source": [
    "'cat' in spam.values()"
   ]
  },
  {
   "cell_type": "markdown",
   "id": "e9e135ba",
   "metadata": {},
   "source": [
    "7. What is a shortcut for the following code?\n",
    "\n",
    "if 'color' not in spam:\n",
    "\n",
    "spam['color'] = 'black'\n"
   ]
  },
  {
   "cell_type": "markdown",
   "id": "8fd827e0",
   "metadata": {},
   "source": [
    "Answer :-\n",
    "\n",
    "This can be achieved by using setdefault() which Inserts key with a value of default if key is not in the dictionary.\n"
   ]
  },
  {
   "cell_type": "code",
   "execution_count": 11,
   "id": "bf52029f",
   "metadata": {},
   "outputs": [
    {
     "data": {
      "text/plain": [
       "{'cat': 100, 'color': 'black'}"
      ]
     },
     "execution_count": 11,
     "metadata": {},
     "output_type": "execute_result"
    }
   ],
   "source": [
    "spam={'cat':100}\n",
    "spam.setdefault('color','black')\n",
    "\n",
    "spam\n"
   ]
  },
  {
   "cell_type": "markdown",
   "id": "d0859708",
   "metadata": {},
   "source": [
    "8. How do you \"pretty print\" dictionary values using which module and function?"
   ]
  },
  {
   "cell_type": "markdown",
   "id": "3087fa3a",
   "metadata": {},
   "source": [
    "pprint is a Python module that provides the capability to pretty print Python data types to be more readable it uses a function with same name pprint to print given string or object."
   ]
  },
  {
   "cell_type": "code",
   "execution_count": 12,
   "id": "a33e4cf5",
   "metadata": {},
   "outputs": [],
   "source": [
    "import pprint"
   ]
  },
  {
   "cell_type": "code",
   "execution_count": 15,
   "id": "7da88410",
   "metadata": {},
   "outputs": [],
   "source": [
    "dict={'A':{'Age': '23', 'Qualification': 'MCA', 'Name': 'Ramdas'},\n",
    " \n",
    " 'B': {'Age': '44', 'Qualification': 'M.SC', 'Name': 'pavan'},\n",
    " \n",
    " 'c' :{'Age': '29', 'Qualification': 'DIPLOMA', 'Name': 'komal'},\n",
    " 'D':{'Age': '35', 'Qualification': 'B.sc.', 'Name': 'vishal'}\n",
    "}"
   ]
  },
  {
   "cell_type": "code",
   "execution_count": 16,
   "id": "d98781cd",
   "metadata": {},
   "outputs": [
    {
     "name": "stdout",
     "output_type": "stream",
     "text": [
      "{'A': {'Age': '23', 'Name': 'Ramdas', 'Qualification': 'MCA'},\n",
      " 'B': {'Age': '44', 'Name': 'pavan', 'Qualification': 'M.SC'},\n",
      " 'D': {'Age': '35', 'Name': 'vishal', 'Qualification': 'B.sc.'},\n",
      " 'c': {'Age': '29', 'Name': 'komal', 'Qualification': 'DIPLOMA'}}\n"
     ]
    }
   ],
   "source": [
    "pprint.pprint(dict)"
   ]
  }
 ],
 "metadata": {
  "kernelspec": {
   "display_name": "Python 3 (ipykernel)",
   "language": "python",
   "name": "python3"
  },
  "language_info": {
   "codemirror_mode": {
    "name": "ipython",
    "version": 3
   },
   "file_extension": ".py",
   "mimetype": "text/x-python",
   "name": "python",
   "nbconvert_exporter": "python",
   "pygments_lexer": "ipython3",
   "version": "3.9.7"
  }
 },
 "nbformat": 4,
 "nbformat_minor": 5
}
