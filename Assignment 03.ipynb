{
 "cells": [
  {
   "cell_type": "markdown",
   "id": "56d8c934",
   "metadata": {},
   "source": [
    "__Q.__1. Why are functions advantageous to have in your programs?"
   ]
  },
  {
   "cell_type": "markdown",
   "id": "9c2dc632",
   "metadata": {},
   "source": [
    "**Answer**:-"
   ]
  },
  {
   "cell_type": "markdown",
   "id": "5ab85856",
   "metadata": {},
   "source": [
    " Function in a program makes its easy to perform specific task\n",
    " * Advantages of function in program\n",
    " * Reusubility of code\n",
    " * Improving functionality\n",
    " * Dcomposing complex problem in simple one\n",
    " * Reducing dublication of same code"
   ]
  },
  {
   "cell_type": "markdown",
   "id": "1d5ad47f",
   "metadata": {},
   "source": [
    "Example"
   ]
  },
  {
   "cell_type": "code",
   "execution_count": 2,
   "id": "6403aced",
   "metadata": {},
   "outputs": [
    {
     "name": "stdout",
     "output_type": "stream",
     "text": [
      "Squareroot of 4 is :2.0\n",
      "Squareroot of 16 is :4.0\n"
     ]
    }
   ],
   "source": [
    "''' \n",
    "def is used to define a function name\n",
    "'''\n",
    "\n",
    "def SquareRoot(x):\n",
    "    '''\n",
    "    SquareRoot() will return squareroot of a given number\n",
    "    '''\n",
    "    return x**0.5\n",
    "print(F\"Squareroot of {4} is :{SquareRoot(4)}\")\n",
    "print(F\"Squareroot of {16} is :{SquareRoot(16)}\")"
   ]
  },
  {
   "cell_type": "markdown",
   "id": "c995f437",
   "metadata": {},
   "source": [
    "__Q.__2. When does the code in a function run: when it's specified or when it's called?"
   ]
  },
  {
   "cell_type": "markdown",
   "id": "e9d82de7",
   "metadata": {},
   "source": [
    "**Answer**:-"
   ]
  },
  {
   "cell_type": "code",
   "execution_count": null,
   "id": "6a063c3d",
   "metadata": {},
   "outputs": [],
   "source": [
    "When function call then code run in function.\n",
    "Example:-"
   ]
  },
  {
   "cell_type": "code",
   "execution_count": 4,
   "id": "d7e6f66e",
   "metadata": {},
   "outputs": [],
   "source": [
    "'''\n",
    "def is used to define a function name\n",
    "'''\n",
    "def SquareRoot(x):\n",
    "    '''\n",
    "    SquareRoot() will return squareroot of a given number\n",
    "    '''\n",
    "    return x**0.5"
   ]
  },
  {
   "cell_type": "code",
   "execution_count": 5,
   "id": "74887dd7",
   "metadata": {},
   "outputs": [
    {
     "data": {
      "text/plain": [
       "5.0"
      ]
     },
     "execution_count": 5,
     "metadata": {},
     "output_type": "execute_result"
    }
   ],
   "source": [
    "# calling function \n",
    "SquareRoot(25)"
   ]
  },
  {
   "cell_type": "markdown",
   "id": "964deab5",
   "metadata": {},
   "source": [
    "__Q.__3. What statement creates a function?"
   ]
  },
  {
   "cell_type": "markdown",
   "id": "4f0d9098",
   "metadata": {},
   "source": [
    "**Answer**:-"
   ]
  },
  {
   "cell_type": "markdown",
   "id": "54797e66",
   "metadata": {},
   "source": [
    " kyeword \"def\" is used to create a user defined function, in paranthesis one can define parameter of a function and function block start with colon(:)\n",
    " \n",
    " Example"
   ]
  },
  {
   "cell_type": "code",
   "execution_count": 8,
   "id": "092765c3",
   "metadata": {},
   "outputs": [],
   "source": [
    "def Ineuron(): # defining function name as Ineuron\n",
    "    print(\"Affordable Ineuron\") # Defining output of function"
   ]
  },
  {
   "cell_type": "code",
   "execution_count": 9,
   "id": "f6b37d67",
   "metadata": {},
   "outputs": [
    {
     "name": "stdout",
     "output_type": "stream",
     "text": [
      "Affordable Ineuron\n"
     ]
    }
   ],
   "source": [
    "# calling function\n",
    "Ineuron() # here no parameter is defined"
   ]
  },
  {
   "cell_type": "markdown",
   "id": "b0ec4ebd",
   "metadata": {},
   "source": [
    "__Q.__4 What is the difference between a function and a function call?"
   ]
  },
  {
   "cell_type": "markdown",
   "id": "3aa65586",
   "metadata": {},
   "source": [
    "Answer :-\n",
    "\n",
    "Function : A function is a block of code that does a particular operation and returns a result. It usually accepts inputs as parameters and returns a result. The parameters are not mandatory.\n",
    "\n",
    "Function Call : A function call is the code used to pass control to a function.\n",
    "\n",
    "Example :-"
   ]
  },
  {
   "cell_type": "code",
   "execution_count": 12,
   "id": "172c3e69",
   "metadata": {},
   "outputs": [],
   "source": [
    "# Function\n",
    "def add(a,b):\n",
    "    return a + b"
   ]
  },
  {
   "cell_type": "code",
   "execution_count": 13,
   "id": "88045549",
   "metadata": {},
   "outputs": [
    {
     "data": {
      "text/plain": [
       "12"
      ]
     },
     "execution_count": 13,
     "metadata": {},
     "output_type": "execute_result"
    }
   ],
   "source": [
    "# calling function\n",
    "add(5,7)"
   ]
  },
  {
   "cell_type": "markdown",
   "id": "f80d9a06",
   "metadata": {},
   "source": [
    "__Q.__5. How many global scopes are there in a Python program? How many local scopes?"
   ]
  },
  {
   "cell_type": "markdown",
   "id": "c9dcf0da",
   "metadata": {},
   "source": [
    "**Answer**:-"
   ]
  },
  {
   "cell_type": "markdown",
   "id": "a7a99159",
   "metadata": {},
   "source": [
    "A variable scope determines where our variables can be place within the program and what values are stored inside those variables."
   ]
  },
  {
   "cell_type": "markdown",
   "id": "a16b4728",
   "metadata": {},
   "source": [
    "* Local\n",
    "\n",
    "* Global"
   ]
  },
  {
   "cell_type": "markdown",
   "id": "936d0962",
   "metadata": {},
   "source": [
    "__Local Scope__ :A variable created inside a function belongs to the local scope of that function, and can only be used inside that function.\n",
    "    \n",
    " __Global Scope__ : A variable created in the main body of the Python code is a global variable and belongs to the global scope.There's only one global Python scope per program execution\n",
    "    "
   ]
  },
  {
   "cell_type": "markdown",
   "id": "30f57f0e",
   "metadata": {},
   "source": [
    "**Example**:-"
   ]
  },
  {
   "cell_type": "code",
   "execution_count": 1,
   "id": "1b7df23b",
   "metadata": {},
   "outputs": [
    {
     "name": "stdout",
     "output_type": "stream",
     "text": [
      "300\n"
     ]
    }
   ],
   "source": [
    "# Local Scope\n",
    "def myfunc():\n",
    "  x = 300   # Variable x is local variable of a local Scope of function 'myfunc'\n",
    "  print(x)\n",
    "\n",
    "myfunc()"
   ]
  },
  {
   "cell_type": "code",
   "execution_count": 2,
   "id": "5c1b4e9f",
   "metadata": {},
   "outputs": [
    {
     "name": "stdout",
     "output_type": "stream",
     "text": [
      "300\n",
      "300\n"
     ]
    }
   ],
   "source": [
    "#Gocal Scope\n",
    "x = 300 # global variable \n",
    "def myfunc():\n",
    "  print(x)\n",
    "\n",
    "myfunc() # calling function \n",
    "\n",
    "print(x) # printing  global varable ,means global variavle are available from any scope.\n"
   ]
  },
  {
   "cell_type": "markdown",
   "id": "da8d60fe",
   "metadata": {},
   "source": [
    "__Q.__6. What happens to variables in a local scope when the function call returns?"
   ]
  },
  {
   "cell_type": "markdown",
   "id": "a30d650b",
   "metadata": {},
   "source": [
    "**Answer**\"-\""
   ]
  },
  {
   "cell_type": "markdown",
   "id": "aafb24ad",
   "metadata": {},
   "source": [
    "When a function returns, the local scope is destroyed, and all the variables in it are forgotten."
   ]
  },
  {
   "cell_type": "markdown",
   "id": "2f4ce854",
   "metadata": {},
   "source": [
    "**Example**:-"
   ]
  },
  {
   "cell_type": "code",
   "execution_count": 9,
   "id": "ad288f91",
   "metadata": {},
   "outputs": [
    {
     "data": {
      "text/plain": [
       "300"
      ]
     },
     "execution_count": 9,
     "metadata": {},
     "output_type": "execute_result"
    }
   ],
   "source": [
    "def myfunc():\n",
    "  x =3\n",
    "  return x\n",
    "myfunc() # on calling this function itwill return 3\n",
    "x  # calling local variable after function excution \n"
   ]
  },
  {
   "cell_type": "code",
   "execution_count": 10,
   "id": "b27bcdd5",
   "metadata": {},
   "outputs": [
    {
     "data": {
      "text/plain": [
       "3"
      ]
     },
     "execution_count": 10,
     "metadata": {},
     "output_type": "execute_result"
    }
   ],
   "source": [
    "myfunc()"
   ]
  },
  {
   "cell_type": "markdown",
   "id": "c58a581d",
   "metadata": {},
   "source": [
    "__Q.__7 What is the concept of a return value? Is it possible to have a return value in an expression?"
   ]
  },
  {
   "cell_type": "markdown",
   "id": "17d4a5f0",
   "metadata": {},
   "source": [
    " return value in python function always return fundamental datatype in python  which can be further used for evaluation of an  expression.\n",
    " \n",
    " Example:-"
   ]
  },
  {
   "cell_type": "code",
   "execution_count": 28,
   "id": "68c5e225",
   "metadata": {},
   "outputs": [
    {
     "name": "stdout",
     "output_type": "stream",
     "text": [
      "Enter a 1st Number : 10\n",
      "Enter a 2nd Number : 5\n"
     ]
    },
    {
     "data": {
      "text/plain": [
       "'Division of 10 devide by  5 is : 2.0'"
      ]
     },
     "execution_count": 28,
     "metadata": {},
     "output_type": "execute_result"
    }
   ],
   "source": [
    "def Division():\n",
    "    \n",
    "    a = int(input(\"Enter a 1st Number : \"))\n",
    "    b = int(input(\"Enter a 2nd Number : \"))\n",
    "    \n",
    "    result = a/b\n",
    "    \n",
    "    return f\"Division of {a} devide by  {b} is : {result}\"  # explicit return statement\n",
    "\n",
    "Division() "
   ]
  },
  {
   "cell_type": "markdown",
   "id": "33072636",
   "metadata": {},
   "source": [
    "__Q.__8. If a function does not have a return statement, what is the return value of a call to that function?"
   ]
  },
  {
   "cell_type": "markdown",
   "id": "1902425a",
   "metadata": {},
   "source": [
    "If function does not have a return statement then return value is of None type"
   ]
  },
  {
   "cell_type": "code",
   "execution_count": 29,
   "id": "de7a57b7",
   "metadata": {},
   "outputs": [],
   "source": [
    "def addition(a, b):\n",
    "    \n",
    "    sum = a + b"
   ]
  },
  {
   "cell_type": "code",
   "execution_count": 31,
   "id": "d7db3e66",
   "metadata": {},
   "outputs": [
    {
     "data": {
      "text/plain": [
       "NoneType"
      ]
     },
     "execution_count": 31,
     "metadata": {},
     "output_type": "execute_result"
    }
   ],
   "source": [
    "type(addition(4,5))"
   ]
  },
  {
   "cell_type": "code",
   "execution_count": 33,
   "id": "a9a8295d",
   "metadata": {},
   "outputs": [],
   "source": [
    "x=addition(4,5)"
   ]
  },
  {
   "cell_type": "code",
   "execution_count": 34,
   "id": "11cede93",
   "metadata": {},
   "outputs": [
    {
     "data": {
      "text/plain": [
       "NoneType"
      ]
     },
     "execution_count": 34,
     "metadata": {},
     "output_type": "execute_result"
    }
   ],
   "source": [
    "type(x)"
   ]
  },
  {
   "cell_type": "markdown",
   "id": "27627e07",
   "metadata": {},
   "source": [
    "\n",
    "\n",
    "__Q.__9. How do you make a function variable refer to the global variable?\n",
    "\n",
    "Answer :-\n"
   ]
  },
  {
   "cell_type": "markdown",
   "id": "fb4c388a",
   "metadata": {},
   "source": [
    "We use global keyword before a variable inside a function to tell interpreter that we are using a global variable."
   ]
  },
  {
   "cell_type": "code",
   "execution_count": 38,
   "id": "e56a3fbb",
   "metadata": {},
   "outputs": [
    {
     "name": "stdout",
     "output_type": "stream",
     "text": [
      "x is greater then 1\n"
     ]
    }
   ],
   "source": [
    "# global variable\n",
    "x = 2\n",
    "def check():\n",
    "    global x\n",
    "    if x > 1:\n",
    "        print('x is greater then 1')\n",
    "    else:\n",
    "        print('x is not greater then 1')\n",
    "        \n",
    "check()\n"
   ]
  },
  {
   "cell_type": "markdown",
   "id": "51a6c865",
   "metadata": {},
   "source": [
    "__Q.__10 What is the data type of None?"
   ]
  },
  {
   "cell_type": "markdown",
   "id": "660003b5",
   "metadata": {},
   "source": [
    "The None keyword is used to define a null value, or no value at all.\n",
    "None is datatype that is  NoneType, print statement always return None datatype\n",
    "\n",
    "Example:-"
   ]
  },
  {
   "cell_type": "code",
   "execution_count": 5,
   "id": "3602804f",
   "metadata": {},
   "outputs": [
    {
     "name": "stdout",
     "output_type": "stream",
     "text": [
      "[1, 2, 5, 4, 6]\n"
     ]
    },
    {
     "data": {
      "text/plain": [
       "NoneType"
      ]
     },
     "execution_count": 5,
     "metadata": {},
     "output_type": "execute_result"
    }
   ],
   "source": [
    "l=[1,2,5,4,6]\n",
    "x=print(l)\n",
    "type(x)"
   ]
  },
  {
   "cell_type": "markdown",
   "id": "21147795",
   "metadata": {},
   "source": [
    "__Q.__11 What does the sentence import areallyourpetsnamederic do?"
   ]
  },
  {
   "cell_type": "markdown",
   "id": "fea99c00",
   "metadata": {},
   "source": [
    "**Answer**:-"
   ]
  },
  {
   "cell_type": "markdown",
   "id": "f62eb673",
   "metadata": {},
   "source": [
    "import keyword is used to import  module. so  \"mport areallyourpetsnamederic\" ststement will import module name \"reallyourpetsnamederic\" if this module exist."
   ]
  },
  {
   "cell_type": "code",
   "execution_count": 6,
   "id": "9d89b9c0",
   "metadata": {},
   "outputs": [
    {
     "ename": "ModuleNotFoundError",
     "evalue": "No module named 'areallyourpetsnamederic'",
     "output_type": "error",
     "traceback": [
      "\u001b[1;31m---------------------------------------------------------------------------\u001b[0m",
      "\u001b[1;31mModuleNotFoundError\u001b[0m                       Traceback (most recent call last)",
      "\u001b[1;32m~\\AppData\\Local\\Temp/ipykernel_7056/51184242.py\u001b[0m in \u001b[0;36m<module>\u001b[1;34m\u001b[0m\n\u001b[1;32m----> 1\u001b[1;33m \u001b[1;32mimport\u001b[0m \u001b[0mareallyourpetsnamederic\u001b[0m\u001b[1;33m\u001b[0m\u001b[1;33m\u001b[0m\u001b[0m\n\u001b[0m",
      "\u001b[1;31mModuleNotFoundError\u001b[0m: No module named 'areallyourpetsnamederic'"
     ]
    }
   ],
   "source": [
    "import areallyourpetsnamederic"
   ]
  },
  {
   "cell_type": "markdown",
   "id": "1bdeb3a0",
   "metadata": {},
   "source": [
    "__Q.__12 If you had a bacon() feature in a spam module, what would you call it after importing spam?"
   ]
  },
  {
   "cell_type": "markdown",
   "id": "760ccc22",
   "metadata": {},
   "source": [
    "**Answer**:-"
   ]
  },
  {
   "cell_type": "markdown",
   "id": "b6b7c97e",
   "metadata": {},
   "source": [
    "- Any function in spam module can be called using format,\n",
    "\n",
    "    * spam.<function_name>()\n",
    "\n",
    "- Therefore, bacon feature can be called using,\n",
    "\n",
    "    * spam.bacon()"
   ]
  },
  {
   "cell_type": "markdown",
   "id": "3ce760f3",
   "metadata": {},
   "source": [
    "__Q.__13 What can you do to save a programme from crashing if it encounters an error?"
   ]
  },
  {
   "cell_type": "markdown",
   "id": "aa9a04cd",
   "metadata": {},
   "source": [
    "To save program from crashing try and except  block is used.\n",
    "\n",
    "Exampele:-"
   ]
  },
  {
   "cell_type": "code",
   "execution_count": 9,
   "id": "bbbad08b",
   "metadata": {},
   "outputs": [
    {
     "name": "stdout",
     "output_type": "stream",
     "text": [
      "Enter a 1st Number : 5\n",
      "Enter a 2nd Number : 0\n"
     ]
    },
    {
     "ename": "ZeroDivisionError",
     "evalue": "division by zero",
     "output_type": "error",
     "traceback": [
      "\u001b[1;31m---------------------------------------------------------------------------\u001b[0m",
      "\u001b[1;31mZeroDivisionError\u001b[0m                         Traceback (most recent call last)",
      "\u001b[1;32m~\\AppData\\Local\\Temp/ipykernel_7056/687251842.py\u001b[0m in \u001b[0;36m<module>\u001b[1;34m\u001b[0m\n\u001b[0;32m      5\u001b[0m     \u001b[0mprint\u001b[0m\u001b[1;33m(\u001b[0m\u001b[0ma\u001b[0m\u001b[1;33m/\u001b[0m\u001b[0mb\u001b[0m\u001b[1;33m)\u001b[0m\u001b[1;33m\u001b[0m\u001b[1;33m\u001b[0m\u001b[0m\n\u001b[0;32m      6\u001b[0m \u001b[1;33m\u001b[0m\u001b[0m\n\u001b[1;32m----> 7\u001b[1;33m \u001b[0mdivision\u001b[0m\u001b[1;33m(\u001b[0m\u001b[1;33m)\u001b[0m\u001b[1;33m\u001b[0m\u001b[1;33m\u001b[0m\u001b[0m\n\u001b[0m",
      "\u001b[1;32m~\\AppData\\Local\\Temp/ipykernel_7056/687251842.py\u001b[0m in \u001b[0;36mdivision\u001b[1;34m()\u001b[0m\n\u001b[0;32m      3\u001b[0m     \u001b[0ma\u001b[0m \u001b[1;33m=\u001b[0m \u001b[0mint\u001b[0m\u001b[1;33m(\u001b[0m\u001b[0minput\u001b[0m\u001b[1;33m(\u001b[0m\u001b[1;34m\"Enter a 1st Number : \"\u001b[0m\u001b[1;33m)\u001b[0m\u001b[1;33m)\u001b[0m\u001b[1;33m\u001b[0m\u001b[1;33m\u001b[0m\u001b[0m\n\u001b[0;32m      4\u001b[0m     \u001b[0mb\u001b[0m \u001b[1;33m=\u001b[0m \u001b[0mint\u001b[0m\u001b[1;33m(\u001b[0m\u001b[0minput\u001b[0m\u001b[1;33m(\u001b[0m\u001b[1;34m\"Enter a 2nd Number : \"\u001b[0m\u001b[1;33m)\u001b[0m\u001b[1;33m)\u001b[0m\u001b[1;33m\u001b[0m\u001b[1;33m\u001b[0m\u001b[0m\n\u001b[1;32m----> 5\u001b[1;33m     \u001b[0mprint\u001b[0m\u001b[1;33m(\u001b[0m\u001b[0ma\u001b[0m\u001b[1;33m/\u001b[0m\u001b[0mb\u001b[0m\u001b[1;33m)\u001b[0m\u001b[1;33m\u001b[0m\u001b[1;33m\u001b[0m\u001b[0m\n\u001b[0m\u001b[0;32m      6\u001b[0m \u001b[1;33m\u001b[0m\u001b[0m\n\u001b[0;32m      7\u001b[0m \u001b[0mdivision\u001b[0m\u001b[1;33m(\u001b[0m\u001b[1;33m)\u001b[0m\u001b[1;33m\u001b[0m\u001b[1;33m\u001b[0m\u001b[0m\n",
      "\u001b[1;31mZeroDivisionError\u001b[0m: division by zero"
     ]
    }
   ],
   "source": [
    "def division():\n",
    "    \n",
    "    a = int(input(\"Enter a 1st Number : \"))\n",
    "    b = int(input(\"Enter a 2nd Number : \"))\n",
    "    print(a/b)\n",
    "\n",
    "division()"
   ]
  },
  {
   "cell_type": "code",
   "execution_count": 10,
   "id": "b32fc08e",
   "metadata": {},
   "outputs": [
    {
     "name": "stdout",
     "output_type": "stream",
     "text": [
      "Enter a 1st Number : 5\n",
      "Enter a 2nd Number : 0\n",
      "<class 'Exception'> division by zero\n"
     ]
    }
   ],
   "source": [
    "# Using try/except\n",
    "\n",
    "def addition():\n",
    "    \n",
    "    a = int(input(\"Enter a 1st Number : \"))\n",
    "    b = int(input(\"Enter a 2nd Number : \"))\n",
    "    try :\n",
    "        print(a/b)\n",
    "    except Exception as e:\n",
    "        print(Exception, e)\n",
    "\n",
    "addition()"
   ]
  },
  {
   "cell_type": "markdown",
   "id": "9d84f1b0",
   "metadata": {},
   "source": [
    "__Q.__14 What is the purpose of the try clause? What is the purpose of the except clause?"
   ]
  },
  {
   "cell_type": "markdown",
   "id": "09139642",
   "metadata": {},
   "source": [
    "**Answer**:-"
   ]
  },
  {
   "cell_type": "markdown",
   "id": "6dd45b15",
   "metadata": {},
   "source": [
    "The try block lets you test a block of code for errors. The except block lets you handle the error."
   ]
  },
  {
   "cell_type": "code",
   "execution_count": 11,
   "id": "4c36be48",
   "metadata": {},
   "outputs": [
    {
     "name": "stdout",
     "output_type": "stream",
     "text": [
      "integer division or modulo by zero\n"
     ]
    }
   ],
   "source": [
    "# working of try()\n",
    "def divide(x, y):\n",
    "    try:\n",
    "        # Floor Division : Gives only Fractional Part as Answer\n",
    "        result = x // y\n",
    "        print(\"Yeah ! Your answer is :\", result)\n",
    "    except Exception as e:\n",
    "        print(e)\n",
    " \n",
    "# Look at parameters and note the working of Program\n",
    "divide(3, 0)"
   ]
  }
 ],
 "metadata": {
  "kernelspec": {
   "display_name": "Python 3 (ipykernel)",
   "language": "python",
   "name": "python3"
  },
  "language_info": {
   "codemirror_mode": {
    "name": "ipython",
    "version": 3
   },
   "file_extension": ".py",
   "mimetype": "text/x-python",
   "name": "python",
   "nbconvert_exporter": "python",
   "pygments_lexer": "ipython3",
   "version": "3.9.7"
  }
 },
 "nbformat": 4,
 "nbformat_minor": 5
}
