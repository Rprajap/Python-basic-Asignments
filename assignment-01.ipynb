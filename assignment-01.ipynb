{
 "cells": [
  {
   "cell_type": "markdown",
   "id": "a821ab86",
   "metadata": {},
   "source": [
    "__Q.1.__ In the below elements which of them are values or an expression? eg:- values can be integer or string and expressions will be mathematical operators."
   ]
  },
  {
   "cell_type": "markdown",
   "id": "373d9898",
   "metadata": {},
   "source": [
    "*\n",
    "\n",
    "'hello'\n",
    "\n",
    "-87.8\n",
    "\n",
    "-\n",
    "\n",
    "/\n",
    "\n",
    "+\n",
    "\n",
    "6\n"
   ]
  },
  {
   "cell_type": "markdown",
   "id": "bd1f605b",
   "metadata": {},
   "source": [
    "__Answer :-__"
   ]
  },
  {
   "cell_type": "markdown",
   "id": "2c86c330",
   "metadata": {},
   "source": [
    "| Element | Value/Expression |\n",
    "| ---- | ---- |\n",
    "| * | Expression |\n",
    "| 'hello' | Value |\n",
    "| -87.8 | Value |\n",
    "| - | Expression |\n",
    "| / | Expression |\n",
    "| + | Expression |\n",
    "| 6 | Value |\n"
   ]
  },
  {
   "cell_type": "markdown",
   "id": "7eaa5346",
   "metadata": {},
   "source": [
    "__Q.2.__ What is the difference between string and variable?\n"
   ]
  },
  {
   "cell_type": "markdown",
   "id": "b8087191",
   "metadata": {},
   "source": [
    "**Answer :-**"
   ]
  },
  {
   "cell_type": "markdown",
   "id": "7277f465",
   "metadata": {},
   "source": [
    "- String :-  \n",
    "    * A sequence of character whicn is written in single or double quote\n",
    "- Variavle:- \n",
    "    * Variable is a Name which is used to store a data value or object   "
   ]
  },
  {
   "cell_type": "code",
   "execution_count": 3,
   "id": "a6465f2f",
   "metadata": {},
   "outputs": [
    {
     "name": "stdout",
     "output_type": "stream",
     "text": [
      "<class 'str'>\n"
     ]
    }
   ],
   "source": [
    "#Initialize string type variable\n",
    "City= 'Mumbai'\n",
    "print(type(City))  "
   ]
  },
  {
   "cell_type": "markdown",
   "id": "e5a2bcc4",
   "metadata": {},
   "source": [
    "__Q.3__ Describe three different data types.\n"
   ]
  },
  {
   "cell_type": "markdown",
   "id": "c06ed908",
   "metadata": {},
   "source": [
    "**Answer :-**\n",
    "   "
   ]
  },
  {
   "cell_type": "markdown",
   "id": "152e085a",
   "metadata": {},
   "source": [
    "-  Numeric Data type:- \n",
    "    * A data which is represnt by numberic value.\n",
    "    * It is of tptes\n",
    "     * Integer , \n",
    "     * Float\n",
    "     * Complex number"
   ]
  },
  {
   "cell_type": "markdown",
   "id": "5105f70e",
   "metadata": {},
   "source": [
    "**Example:-**"
   ]
  },
  {
   "cell_type": "code",
   "execution_count": 2,
   "id": "934709ec",
   "metadata": {},
   "outputs": [
    {
     "name": "stdout",
     "output_type": "stream",
     "text": [
      "2 is <class 'int'> data type \n",
      "10.2 is <class 'float'> data type \n",
      "(2+2j) is <class 'complex'> data type\n"
     ]
    }
   ],
   "source": [
    "x=2\n",
    "y=10.2\n",
    "z=2+2j\n",
    "print( f\"{x} is {type(x)} data type \\n{y} is {type(y)} data type \\n{z} is {type(z)} data type\")"
   ]
  },
  {
   "cell_type": "markdown",
   "id": "13fabebb",
   "metadata": {},
   "source": [
    "- Boolean Data type :-\n",
    "     * Bolean data have two value that is True or False And it is used for  logical comparision"
   ]
  },
  {
   "cell_type": "markdown",
   "id": "eb92df91",
   "metadata": {},
   "source": [
    "**Example:-**"
   ]
  },
  {
   "cell_type": "code",
   "execution_count": 4,
   "id": "676bb22b",
   "metadata": {},
   "outputs": [
    {
     "name": "stdout",
     "output_type": "stream",
     "text": [
      "False\n",
      "True\n"
     ]
    }
   ],
   "source": [
    "x=10\n",
    "y=20\n",
    "a=x>y\n",
    "b=x<y\n",
    "print(a)\n",
    "print(b)"
   ]
  },
  {
   "cell_type": "markdown",
   "id": "be91ed5b",
   "metadata": {},
   "source": [
    "- String Data type:-\n",
    "    * A collection  of a character which is written in single and duble quotes."
   ]
  },
  {
   "cell_type": "markdown",
   "id": "2ff6df6f",
   "metadata": {},
   "source": [
    "**Example:-**"
   ]
  },
  {
   "cell_type": "code",
   "execution_count": 5,
   "id": "060c0662",
   "metadata": {},
   "outputs": [
    {
     "data": {
      "text/plain": [
       "str"
      ]
     },
     "execution_count": 5,
     "metadata": {},
     "output_type": "execute_result"
    }
   ],
   "source": [
    "x= \"This is my First Assignment\" \n",
    "type(x)"
   ]
  },
  {
   "cell_type": "markdown",
   "id": "96f6fbf7",
   "metadata": {},
   "source": [
    "__Q.4.__ What is an expression made up of? What do all expressions do?"
   ]
  },
  {
   "cell_type": "markdown",
   "id": "c3c3a095",
   "metadata": {},
   "source": [
    "**Answer :-**"
   ]
  },
  {
   "cell_type": "markdown",
   "id": "35522ac7",
   "metadata": {},
   "source": [
    "Expression is made by value, variable and mahemaical or logical  operator and it is used to evaluate the results"
   ]
  },
  {
   "cell_type": "code",
   "execution_count": 7,
   "id": "42e090cf",
   "metadata": {},
   "outputs": [
    {
     "name": "stdout",
     "output_type": "stream",
     "text": [
      "8\n",
      "False\n"
     ]
    }
   ],
   "source": [
    "x=2\n",
    "y=3\n",
    "z=x+y*2\n",
    "print(z)\n",
    "w=x>y\n",
    "print(w)"
   ]
  },
  {
   "cell_type": "markdown",
   "id": "95a8887d",
   "metadata": {},
   "source": [
    "<font color=red> Ramdas</font>"
   ]
  },
  {
   "cell_type": "code",
   "execution_count": null,
   "id": "a834558d",
   "metadata": {},
   "outputs": [],
   "source": [
    "'Ramdas' + 25"
   ]
  },
  {
   "cell_type": "markdown",
   "id": "b9b5c9b6",
   "metadata": {},
   "source": [
    "<font color=red> 'Ramdas'</font> <font color=pink> +</font> <font color=green> 25</font>"
   ]
  },
  {
   "cell_type": "markdown",
   "id": "a808ed52",
   "metadata": {},
   "source": [
    "__Q__.5. This assignment statements, like spam = 10. What is the difference between an expression and a statement?"
   ]
  },
  {
   "cell_type": "markdown",
   "id": "9853a47d",
   "metadata": {},
   "source": [
    "__Answer__:-"
   ]
  },
  {
   "cell_type": "markdown",
   "id": "c65f2fd1",
   "metadata": {},
   "source": [
    "- Spam=10 is not a Expression ,as this statment not contain any mathematical or logical operator to  evaluate results so its a statment only \n",
    "note Expression are statement"
   ]
  },
  {
   "cell_type": "markdown",
   "id": "953886e6",
   "metadata": {},
   "source": [
    "__Q.__6. After running the following code, what does the variable bacon contain?"
   ]
  },
  {
   "cell_type": "markdown",
   "id": "77694abb",
   "metadata": {},
   "source": [
    "bacon = 22\n",
    "\n",
    "bacon + 1"
   ]
  },
  {
   "cell_type": "markdown",
   "id": "96d3d9fd",
   "metadata": {},
   "source": [
    "__Answer__:-"
   ]
  },
  {
   "cell_type": "code",
   "execution_count": 5,
   "id": "b3bbb8a3",
   "metadata": {},
   "outputs": [
    {
     "data": {
      "text/plain": [
       "23"
      ]
     },
     "execution_count": 5,
     "metadata": {},
     "output_type": "execute_result"
    }
   ],
   "source": [
    "bacon=22\n",
    "bacon+1"
   ]
  },
  {
   "cell_type": "markdown",
   "id": "5c77274f",
   "metadata": {},
   "source": [
    "After running above code bacon contain value 23"
   ]
  },
  {
   "cell_type": "markdown",
   "id": "7aeeec3b",
   "metadata": {},
   "source": [
    "__Q.__7. What should the values of the following two terms be?"
   ]
  },
  {
   "cell_type": "markdown",
   "id": "a27fc103",
   "metadata": {},
   "source": [
    "'spam' + 'spamspam'\n",
    "\n",
    "'spam' * 3 "
   ]
  },
  {
   "cell_type": "markdown",
   "id": "64c71bfb",
   "metadata": {},
   "source": [
    "**Answer**:-"
   ]
  },
  {
   "cell_type": "code",
   "execution_count": 6,
   "id": "321e05a6",
   "metadata": {},
   "outputs": [
    {
     "data": {
      "text/plain": [
       "'spamspamspam'"
      ]
     },
     "execution_count": 6,
     "metadata": {},
     "output_type": "execute_result"
    }
   ],
   "source": [
    "'spam' + 'spamspam'"
   ]
  },
  {
   "cell_type": "code",
   "execution_count": 7,
   "id": "4eefa440",
   "metadata": {},
   "outputs": [
    {
     "data": {
      "text/plain": [
       "'spamspamspam'"
      ]
     },
     "execution_count": 7,
     "metadata": {},
     "output_type": "execute_result"
    }
   ],
   "source": [
    "'spam' * 3"
   ]
  },
  {
   "cell_type": "markdown",
   "id": "391fe651",
   "metadata": {},
   "source": [
    "__Q.__8. Why is eggs a valid variable name while 100 is invalid?"
   ]
  },
  {
   "cell_type": "markdown",
   "id": "0d24db22",
   "metadata": {},
   "source": [
    "**Answer**:-"
   ]
  },
  {
   "cell_type": "markdown",
   "id": "deefa254",
   "metadata": {},
   "source": [
    "- There are some rule to write a variable name in python \n",
    "    * 1.The first character of can start with lower or upper case of alphabates or with underscore(_) but can not start with number.\n",
    "    * 2.After first character of variable second character can be alphabet or number."
   ]
  },
  {
   "cell_type": "code",
   "execution_count": 11,
   "id": "3941a4a6",
   "metadata": {},
   "outputs": [
    {
     "data": {
      "text/plain": [
       "20"
      ]
     },
     "execution_count": 11,
     "metadata": {},
     "output_type": "execute_result"
    }
   ],
   "source": [
    "eggs=20\n",
    "eggs"
   ]
  },
  {
   "cell_type": "code",
   "execution_count": 12,
   "id": "40f2fd4e",
   "metadata": {},
   "outputs": [
    {
     "ename": "SyntaxError",
     "evalue": "cannot assign to literal (Temp/ipykernel_12792/3088465907.py, line 1)",
     "output_type": "error",
     "traceback": [
      "\u001b[1;36m  File \u001b[1;32m\"C:\\Users\\Ramdas\\AppData\\Local\\Temp/ipykernel_12792/3088465907.py\"\u001b[1;36m, line \u001b[1;32m1\u001b[0m\n\u001b[1;33m    100='This is my first Assignment'\u001b[0m\n\u001b[1;37m    ^\u001b[0m\n\u001b[1;31mSyntaxError\u001b[0m\u001b[1;31m:\u001b[0m cannot assign to literal\n"
     ]
    }
   ],
   "source": [
    "100='This is my first Assignment'\n",
    "100"
   ]
  },
  {
   "cell_type": "markdown",
   "id": "5a8c8bb4",
   "metadata": {},
   "source": [
    "__Q.__9. What three functions can be used to get the integer, floating-point number, or string version of a value?"
   ]
  },
  {
   "cell_type": "markdown",
   "id": "dac6145e",
   "metadata": {},
   "source": [
    "**Answer**:-"
   ]
  },
  {
   "cell_type": "markdown",
   "id": "ea11de1f",
   "metadata": {},
   "source": [
    "int():- To get integer value\n",
    "\n",
    "float():- To get Floatign point value\n",
    "\n",
    "str():- TO get string value"
   ]
  },
  {
   "cell_type": "markdown",
   "id": "56061afd",
   "metadata": {},
   "source": [
    "**Exapmle**:-"
   ]
  },
  {
   "cell_type": "code",
   "execution_count": 18,
   "id": "f13d0c51",
   "metadata": {},
   "outputs": [
    {
     "name": "stdout",
     "output_type": "stream",
     "text": [
      "256\n"
     ]
    },
    {
     "data": {
      "text/plain": [
       "(str, int)"
      ]
     },
     "execution_count": 18,
     "metadata": {},
     "output_type": "execute_result"
    }
   ],
   "source": [
    "#string to int datatype \n",
    "a='256'\n",
    "b=int(a)\n",
    "print(b)\n",
    "type(a),type(b)\n"
   ]
  },
  {
   "cell_type": "code",
   "execution_count": 19,
   "id": "74fc920a",
   "metadata": {},
   "outputs": [
    {
     "name": "stdout",
     "output_type": "stream",
     "text": [
      "256.0\n"
     ]
    },
    {
     "data": {
      "text/plain": [
       "(str, float)"
      ]
     },
     "execution_count": 19,
     "metadata": {},
     "output_type": "execute_result"
    }
   ],
   "source": [
    "# string to float\n",
    "c='256'\n",
    "d=float(a)\n",
    "print(d)\n",
    "type(c),type(d)"
   ]
  },
  {
   "cell_type": "code",
   "execution_count": 20,
   "id": "dc9a079f",
   "metadata": {},
   "outputs": [
    {
     "name": "stdout",
     "output_type": "stream",
     "text": [
      "25\n"
     ]
    },
    {
     "data": {
      "text/plain": [
       "(int, str)"
      ]
     },
     "execution_count": 20,
     "metadata": {},
     "output_type": "execute_result"
    }
   ],
   "source": [
    "# integer to string\n",
    "x=25\n",
    "y=str(x)\n",
    "print(y)\n",
    "type(x),type(y)"
   ]
  },
  {
   "cell_type": "markdown",
   "id": "cf0f03cc",
   "metadata": {},
   "source": [
    "__Q.__10. Why does this expression cause an error? How can you fix it?"
   ]
  },
  {
   "cell_type": "markdown",
   "id": "ea2ae29d",
   "metadata": {},
   "source": [
    " 'I have eaten' + 99 + 'burritos.'"
   ]
  },
  {
   "cell_type": "markdown",
   "id": "e752819c",
   "metadata": {},
   "source": [
    "**Answer**:-"
   ]
  },
  {
   "cell_type": "markdown",
   "id": "76b2639d",
   "metadata": {},
   "source": [
    " Above statement is a exapmle of a concatination where 99 is a integer and rest is sting type hence it throw error to fix this  error we have to make 99 in a string formates"
   ]
  },
  {
   "cell_type": "code",
   "execution_count": 23,
   "id": "98171470",
   "metadata": {},
   "outputs": [
    {
     "data": {
      "text/plain": [
       "'I have eaten99burritos.'"
      ]
     },
     "execution_count": 23,
     "metadata": {},
     "output_type": "execute_result"
    }
   ],
   "source": [
    "'I have eaten' + '99' + 'burritos.'"
   ]
  }
 ],
 "metadata": {
  "kernelspec": {
   "display_name": "Python 3 (ipykernel)",
   "language": "python",
   "name": "python3"
  },
  "language_info": {
   "codemirror_mode": {
    "name": "ipython",
    "version": 3
   },
   "file_extension": ".py",
   "mimetype": "text/x-python",
   "name": "python",
   "nbconvert_exporter": "python",
   "pygments_lexer": "ipython3",
   "version": "3.9.7"
  }
 },
 "nbformat": 4,
 "nbformat_minor": 5
}
