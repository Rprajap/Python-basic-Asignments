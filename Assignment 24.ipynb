{
 "cells": [
  {
   "cell_type": "markdown",
   "id": "9ecd7995",
   "metadata": {},
   "source": [
    "**Q1**. What is the relationship between def statements and lambda expressions ?\n",
    "\n",
    "**Answer**:-"
   ]
  },
  {
   "cell_type": "markdown",
   "id": "00dbdada",
   "metadata": {},
   "source": [
    "The relationship between def statements & lambda expression is :\n",
    "\n",
    "* **def Statement** :-\n",
    "\n",
    " * Keyword def that marks the start of the function header.\n",
    " * A function name to uniquely identify the function.\n",
    " * Function naming follows the same rules of writing identifiers in Python.\n",
    "\n",
    "* **lambda expressions** :-\n",
    "\n",
    " * lambdas are one-line methods without a name.\n",
    " * They work practically the same as any other method in Python.\n",
    " * Lambdas differ from normal Python methods because they can have only one expression, can't contain multiple statements and their return type is a function object."
   ]
  },
  {
   "cell_type": "markdown",
   "id": "8e26bed1",
   "metadata": {},
   "source": [
    "**Q2**. What is the benefit of lambda?\n",
    "\n",
    "**Answer** :-"
   ]
  },
  {
   "cell_type": "markdown",
   "id": "6272be46",
   "metadata": {},
   "source": [
    "**The benefits of lambda function is below**:-"
   ]
  },
  {
   "cell_type": "markdown",
   "id": "f3ec3cf7",
   "metadata": {},
   "source": [
    "* Reduces the lines of code.\n",
    "* Lambda functions are inline functions and thus execute comparatively faster.\n",
    "* Many times lambda functions make code much more readable by avoiding the logical jumps caused by function calls."
   ]
  },
  {
   "cell_type": "markdown",
   "id": "7220cf6a",
   "metadata": {},
   "source": [
    "**Q3**. Compare and contrast map, filter, and reduce.\n",
    "\n",
    "**Answer** :-"
   ]
  },
  {
   "cell_type": "markdown",
   "id": "71f17692",
   "metadata": {},
   "source": [
    "**map**:-\n",
    "\n",
    "* Map applies as a transformation to an element.\n",
    "* The map() function iterates through all items in the given iterable and executes the function we passed as an argument on each of them.\n",
    "\n",
    "**Syntax** : map(function, iterable(s))"
   ]
  },
  {
   "cell_type": "code",
   "execution_count": 1,
   "id": "515031d7",
   "metadata": {},
   "outputs": [
    {
     "name": "stdout",
     "output_type": "stream",
     "text": [
      "<map object at 0x00000291A05DE970>\n",
      "[1, 4, 27, 256]\n"
     ]
    }
   ],
   "source": [
    "#Example:-\n",
    "def MyFunc(a):\n",
    "    return a**a\n",
    "x = map(MyFunc, (1,2,3,4))  # x is the map object\n",
    "print(x)\n",
    "print(list(x))"
   ]
  },
  {
   "cell_type": "markdown",
   "id": "8316b009",
   "metadata": {},
   "source": [
    "**filter** :\n",
    "\n",
    "* Filter accumulates only elements matching a condition.\n",
    "* filter() forms a new list that contains only elements that satisfy a certain condition, i.e. The function we passed returns True.\n",
    "\n",
    "**Syntax** : filter(function, iterable(s))"
   ]
  },
  {
   "cell_type": "code",
   "execution_count": 2,
   "id": "a9e1f7a5",
   "metadata": {},
   "outputs": [
    {
     "name": "stdout",
     "output_type": "stream",
     "text": [
      "<filter object at 0x00000291A05DE370>\n",
      "[3, 4, 8, 5, 6]\n"
     ]
    }
   ],
   "source": [
    "# Exampele \n",
    "def Func(x):\n",
    "    if x>=3:\n",
    "        return x\n",
    "y = filter(Func, (1,2,3,4,8,5,6))  \n",
    "print(y)\n",
    "print(list(y))"
   ]
  },
  {
   "cell_type": "markdown",
   "id": "6aebc345",
   "metadata": {},
   "source": [
    "**reduce** :\n",
    "\n",
    "* Reduce accumulates all elements to a single value, by using immutable values.\n",
    "* reduce() works by calling the function we passed for the first two items in the sequence.\n",
    "The result returned by the function is used in another call to function alongside with the next (third in this case), element.\n",
    "\n",
    "**Syntax** : reduce(function, sequence[, initial])"
   ]
  },
  {
   "cell_type": "code",
   "execution_count": 3,
   "id": "e83d6ea7",
   "metadata": {},
   "outputs": [
    {
     "data": {
      "text/plain": [
       "187"
      ]
     },
     "execution_count": 3,
     "metadata": {},
     "output_type": "execute_result"
    }
   ],
   "source": [
    "# Example:-\n",
    "from functools import reduce\n",
    "reduce(lambda a,b: a+b,[23,21,45,98])"
   ]
  },
  {
   "cell_type": "markdown",
   "id": "d45ea6ad",
   "metadata": {},
   "source": [
    "**Q4**. What are function annotations, and how are they used?\n",
    "\n",
    "**Answer** :-\n",
    "\n",
    "Function annotation is the standard way to access the metadata with the arguments and the return value of the function.\n",
    "These are nothing but some random and optional Python expressions that get allied to different parts of the function.\n",
    "They get evaluated only during the compile-time and have no significance during the run-time of the code.\n",
    "They do not have any significance or meaning associated with them until accessed by some third-party libraries.\n",
    "They are used to type check the functions by declaring the type of the parameters and the return value for the functions.\n",
    "The string-based annotations help us to improve the help messages."
   ]
  },
  {
   "cell_type": "markdown",
   "id": "2077affd",
   "metadata": {},
   "source": [
    "**Syntax**\n",
    "\n",
    "  def func(a : 'int') -> 'int':\n",
    "    pass\n",
    "* Annotations for simple parameters:\n",
    "\n",
    "  def func(x : 'float' = 10.8, y : 'argument2'):\n",
    "  In the above code the argument,\n",
    "  ‘x’ of the function func, has been annotated to float data type   and The argument ‘y’ has a string-based annotation.\n",
    "  The argument can also be assigned to a default value using a     ‘=’ symbol followed by the default value.\n",
    "  These default values are optional to the code.\n",
    "\n",
    "* Annotations for return values:\n",
    "\n",
    "  def func(a: expression) -> 'int':\n",
    "  The annotations for the return value is written after the ‘->’   symbol.\n",
    "\n",
    "**Example** :-"
   ]
  },
  {
   "cell_type": "code",
   "execution_count": 7,
   "id": "0cf662a1",
   "metadata": {},
   "outputs": [
    {
     "name": "stdout",
     "output_type": "stream",
     "text": [
      "[1, 1, 2, 3, 5]\n"
     ]
    }
   ],
   "source": [
    "# Python program to print Fibonacci series\n",
    "def fib(n:'int', output:'list'=[])-> 'list':\n",
    "    if n == 0:\n",
    "        return output\n",
    "    else:\n",
    "        if len(output)< 2:\n",
    "            output.append(1)\n",
    "            fib(n-1, output)\n",
    "        else:\n",
    "            last = output[-1]\n",
    "            second_last = output[-2]\n",
    "            output.append(last + second_last)\n",
    "            fib(n-1, output)\n",
    "        return output\n",
    "print(fib(5))"
   ]
  },
  {
   "cell_type": "markdown",
   "id": "371adb74",
   "metadata": {},
   "source": [
    "**Q5**. What are recursive functions, and how are they used?\n",
    "\n",
    "**Answer** :-\n",
    "\n",
    "A recursive function is a function that calls itself during its execution.\n",
    "This means that the function will continue to call itself and repeat its behavior until some condition is met to return a result.\n",
    "\n",
    "**Example** :-"
   ]
  },
  {
   "cell_type": "code",
   "execution_count": 8,
   "id": "85375549",
   "metadata": {},
   "outputs": [
    {
     "data": {
      "text/plain": [
       "720"
      ]
     },
     "execution_count": 8,
     "metadata": {},
     "output_type": "execute_result"
    }
   ],
   "source": [
    "# recursive example :\n",
    "def Fact(a):\n",
    "    if a == 1 :\n",
    "        return 1\n",
    "    else :\n",
    "        return a * Fact(a-1) #recurtion\n",
    "    \n",
    "Fact(6)"
   ]
  },
  {
   "cell_type": "markdown",
   "id": "5ed915f3",
   "metadata": {},
   "source": [
    "**Q6**. What are some general design guidelines for coding functions?\n",
    "\n",
    "**Answer** :-\n",
    "\n",
    "General design guidelines for coding function :\n",
    "\n",
    "1. Use 4-space indentation and no tabs.\n",
    "2. Use docstrings.\n",
    "3. Wrap linethat they don’t exceed 79 characters.\n",
    "4. Use of regular and updated comments are valuable to both the coders and users.\n",
    "5. Use of trailing commas : in case of tuple -> ('good',).\n",
    "6. Use Python’s default UTF-8 or ASCII encodings and not any fancy encodings.\n",
    "7. Naming Conventions.\n",
    "8. Characters that should not be used for identifiers :\n",
    "* ‘l’ (lowercase letter el)\n",
    "* ‘O’ (uppercase letter oh)\n",
    "* ‘I’ (uppercase letter eye) as single character variable names as these are similar to the numerals one and zero.\n",
    "9. Don’t use non-ASCII characters in identifiers.\n",
    "10. Name your classes and functions consistently.\n",
    "11. While naming of function of methods always use self for the first argument."
   ]
  },
  {
   "cell_type": "markdown",
   "id": "8b32a24b",
   "metadata": {},
   "source": [
    "**Q7**. Name three or more ways that functions can communicate results to a caller.\n",
    "\n",
    "**Answer** :-\n",
    "\n",
    "The ways that functions can communicate results to a caller :\n",
    "\n",
    "* Function can return single value\n",
    "* Can return multiple values, tuple\n",
    "* can return list,dictionary\n",
    "* can return function object\n",
    "* can return class object"
   ]
  }
 ],
 "metadata": {
  "kernelspec": {
   "display_name": "Python 3 (ipykernel)",
   "language": "python",
   "name": "python3"
  },
  "language_info": {
   "codemirror_mode": {
    "name": "ipython",
    "version": 3
   },
   "file_extension": ".py",
   "mimetype": "text/x-python",
   "name": "python",
   "nbconvert_exporter": "python",
   "pygments_lexer": "ipython3",
   "version": "3.9.7"
  }
 },
 "nbformat": 4,
 "nbformat_minor": 5
}
