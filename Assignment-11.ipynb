{
 "cells": [
  {
   "cell_type": "markdown",
   "id": "eff558e7",
   "metadata": {},
   "source": [
    "**Q1**. Create an assert statement that throws an AssertionError if the variable spam is a negative integer.\n",
    "\n",
    "**Answer :-**"
   ]
  },
  {
   "cell_type": "markdown",
   "id": "c8916192",
   "metadata": {},
   "source": [
    "Assert statement is used to continue the execute function if the given condition is True. If the assert condition evaluates to False, then it raises the AssertionError exception with the specified error message"
   ]
  },
  {
   "cell_type": "markdown",
   "id": "8095ff03",
   "metadata": {},
   "source": [
    "**Example :-**"
   ]
  },
  {
   "cell_type": "code",
   "execution_count": 1,
   "id": "4bb2e4be",
   "metadata": {},
   "outputs": [
    {
     "name": "stdout",
     "output_type": "stream",
     "text": [
      "Enter Positive Number :-1\n"
     ]
    },
    {
     "ename": "AssertionError",
     "evalue": "",
     "output_type": "error",
     "traceback": [
      "\u001b[1;31m---------------------------------------------------------------------------\u001b[0m",
      "\u001b[1;31mAssertionError\u001b[0m                            Traceback (most recent call last)",
      "\u001b[1;32m~\\AppData\\Local\\Temp/ipykernel_3656/1048749148.py\u001b[0m in \u001b[0;36m<module>\u001b[1;34m\u001b[0m\n\u001b[0;32m      2\u001b[0m \u001b[1;33m\u001b[0m\u001b[0m\n\u001b[0;32m      3\u001b[0m \u001b[0mspam\u001b[0m \u001b[1;33m=\u001b[0m \u001b[0mpyip\u001b[0m\u001b[1;33m.\u001b[0m\u001b[0minputNum\u001b[0m\u001b[1;33m(\u001b[0m\u001b[1;34m\"Enter Positive Number :\"\u001b[0m\u001b[1;33m)\u001b[0m\u001b[1;33m\u001b[0m\u001b[1;33m\u001b[0m\u001b[0m\n\u001b[1;32m----> 4\u001b[1;33m \u001b[1;32massert\u001b[0m \u001b[0mspam\u001b[0m \u001b[1;33m>\u001b[0m \u001b[1;36m0\u001b[0m  \u001b[1;31m#if number is negative it will throw AssertionError\u001b[0m\u001b[1;33m\u001b[0m\u001b[1;33m\u001b[0m\u001b[0m\n\u001b[0m\u001b[0;32m      5\u001b[0m \u001b[0mprint\u001b[0m\u001b[1;33m(\u001b[0m\u001b[0mspam\u001b[0m\u001b[1;33m,\u001b[0m\u001b[1;34m'is a positive number'\u001b[0m\u001b[1;33m)\u001b[0m\u001b[1;33m\u001b[0m\u001b[1;33m\u001b[0m\u001b[0m\n",
      "\u001b[1;31mAssertionError\u001b[0m: "
     ]
    }
   ],
   "source": [
    "import pyinputplus as pyip\n",
    "\n",
    "spam = pyip.inputNum(\"Enter Positive Number :\")\n",
    "assert spam > 0  #if number is negative it will throw AssertionError\n",
    "print(spam,'is a positive number')"
   ]
  },
  {
   "cell_type": "markdown",
   "id": "c1400266",
   "metadata": {},
   "source": [
    "**Q2**. Write an assert statement that triggers an AssertionError if the variables eggs and bacon contain strings that are the same as each other, even if their cases are different (that is, 'hello' and 'Hello' are considered the same, and 'goodbye' and 'GOODbye' are also considered the same).\n",
    "\n",
    "**Answer :-**\n"
   ]
  },
  {
   "cell_type": "code",
   "execution_count": 2,
   "id": "6dde5dbf",
   "metadata": {},
   "outputs": [
    {
     "ename": "AssertionError",
     "evalue": "",
     "output_type": "error",
     "traceback": [
      "\u001b[1;31m---------------------------------------------------------------------------\u001b[0m",
      "\u001b[1;31mAssertionError\u001b[0m                            Traceback (most recent call last)",
      "\u001b[1;32m~\\AppData\\Local\\Temp/ipykernel_3656/3774594351.py\u001b[0m in \u001b[0;36m<module>\u001b[1;34m\u001b[0m\n\u001b[0;32m      2\u001b[0m \u001b[0mbacon\u001b[0m \u001b[1;33m=\u001b[0m\u001b[1;34m'Hello'\u001b[0m\u001b[1;33m\u001b[0m\u001b[1;33m\u001b[0m\u001b[0m\n\u001b[0;32m      3\u001b[0m \u001b[1;33m\u001b[0m\u001b[0m\n\u001b[1;32m----> 4\u001b[1;33m \u001b[1;32massert\u001b[0m \u001b[0meggs\u001b[0m\u001b[1;33m.\u001b[0m\u001b[0mlower\u001b[0m\u001b[1;33m(\u001b[0m\u001b[1;33m)\u001b[0m \u001b[1;33m!=\u001b[0m \u001b[0mbacon\u001b[0m\u001b[1;33m.\u001b[0m\u001b[0mlower\u001b[0m\u001b[1;33m(\u001b[0m\u001b[1;33m)\u001b[0m \u001b[1;32mor\u001b[0m \u001b[0meggs\u001b[0m\u001b[1;33m.\u001b[0m\u001b[0mupper\u001b[0m\u001b[1;33m(\u001b[0m\u001b[1;33m)\u001b[0m \u001b[1;33m!=\u001b[0m \u001b[0mbacon\u001b[0m\u001b[1;33m.\u001b[0m\u001b[0mupper\u001b[0m\u001b[1;33m(\u001b[0m\u001b[1;33m)\u001b[0m\u001b[1;33m\u001b[0m\u001b[1;33m\u001b[0m\u001b[0m\n\u001b[0m\u001b[0;32m      5\u001b[0m \u001b[0mprint\u001b[0m\u001b[1;33m(\u001b[0m\u001b[1;34m'The eggs and bacon variables are not the same!'\u001b[0m\u001b[1;33m)\u001b[0m\u001b[1;33m\u001b[0m\u001b[1;33m\u001b[0m\u001b[0m\n",
      "\u001b[1;31mAssertionError\u001b[0m: "
     ]
    }
   ],
   "source": [
    "eggs='hello'\n",
    "bacon ='Hello'\n",
    "\n",
    "assert eggs.lower() != bacon.lower() or eggs.upper() != bacon.upper()\n",
    "print('The eggs and bacon variables are not the same!')"
   ]
  },
  {
   "cell_type": "markdown",
   "id": "ccda6b25",
   "metadata": {},
   "source": [
    "**Q3**. Create an assert statement that throws an AssertionError every time.\n",
    "\n",
    "**Answer :-**\n",
    "\n",
    "assert False : This assertion always triggers AssertionError.\n"
   ]
  },
  {
   "cell_type": "markdown",
   "id": "935eaa2d",
   "metadata": {},
   "source": [
    "**Q4.** What are the two lines that must be present in your software in order to call logging.debug()?"
   ]
  },
  {
   "cell_type": "markdown",
   "id": "2fec1b73",
   "metadata": {},
   "source": [
    "**answer**:-"
   ]
  },
  {
   "cell_type": "markdown",
   "id": "76bac957",
   "metadata": {},
   "source": [
    "To be able to call logging.debug(), we must have these two lines at the start of our program:"
   ]
  },
  {
   "cell_type": "code",
   "execution_count": 3,
   "id": "21624371",
   "metadata": {},
   "outputs": [],
   "source": [
    "import logging \n",
    "logging.basicConfig(level=logging.DEBUG, format=' %(asctime)s - %(levelname)s - %(message)s')"
   ]
  },
  {
   "cell_type": "markdown",
   "id": "40b0c530",
   "metadata": {},
   "source": [
    "**Q5**. What are the two lines that your program must have in order to have logging.debug() send a logging message to a file named programLog.txt?\n",
    "\n",
    "**Answer :-**\n"
   ]
  },
  {
   "cell_type": "code",
   "execution_count": 4,
   "id": "0aba7e68",
   "metadata": {},
   "outputs": [],
   "source": [
    "import logging as lg\n",
    "lg.basicConfig(filename='ProgramLog.txt', level=lg.DEBUG, format=' %(asctime)s - %(levelname)s - %(message)s')"
   ]
  },
  {
   "cell_type": "markdown",
   "id": "610d1f5f",
   "metadata": {},
   "source": [
    "**Q6**. What are the five levels of logging?\n"
   ]
  },
  {
   "cell_type": "markdown",
   "id": "8aea79f8",
   "metadata": {},
   "source": [
    "**Answer:-**\n",
    "\n",
    "Five level of loggins are DEBUG, INFO, WARNING, ERROR, and CRITICAL :\n",
    "\n",
    "* logging.debug() : Variable's state and small details.\n",
    "* logging.info() : General events, confirm a program is working.\n",
    "* logging.warning() : Potiental problem to work on in the future.\n",
    "* logging.error() : Record an error that caused program to fail to do something.\n",
    "* logging.critical() : Fatal error that has caused.\n",
    "\n"
   ]
  },
  {
   "cell_type": "markdown",
   "id": "685f7945",
   "metadata": {},
   "source": [
    "**Q7**. What line of code would you add to your software to disable all logging messages?\n",
    "\n",
    "**Answer :-**\n",
    "\n",
    "logging.disable(level) : Disables all logging calls of severity 'level' and below.\n",
    "\n",
    "Set level = logging.CRITICAL\n",
    "\n",
    "Since, CRITICAL being the highest level, every other level loggings will be disabled.\n"
   ]
  },
  {
   "cell_type": "markdown",
   "id": "ac97054b",
   "metadata": {},
   "source": [
    "**Q8**. Why is using logging messages better than using print() to display the same message?\n"
   ]
  },
  {
   "cell_type": "markdown",
   "id": "57f38eff",
   "metadata": {},
   "source": [
    "**Answer :-**\n",
    "\n",
    "We can disable logging messages without removing the logging function calls. We can selectively disable lower-level logging messages. We can create logging messages. Logging messages provides a timestamp.\n"
   ]
  },
  {
   "cell_type": "markdown",
   "id": "40b3918f",
   "metadata": {},
   "source": [
    "**Q9**. What are the differences between the Step Over, Step In, and Step Out buttons in the debugger?\n",
    "\n",
    "**Answer :-**\n",
    "\n",
    "The difference between Step Over, Step In and Step Out is :\n",
    "\n",
    "* Step Over : Step Over button will quickly execute the function call without stepping into it.\n",
    "* Step In : Step In button will move the debugger into a function call.\n",
    "* Step Out : Step Out button will quickly execute the rest of the code until it steps out of the function it currently is in.\n",
    "\n"
   ]
  },
  {
   "cell_type": "markdown",
   "id": "d7f51b93",
   "metadata": {},
   "source": [
    "**Q10**. After you click Continue, when will the debugger stop ?\n",
    "\n",
    "**Answer :-**\n",
    "\n",
    "Afetr clicking continue it will stops at next breakpoint, if there are no further breakpoints the program will be fully executed.\n"
   ]
  },
  {
   "cell_type": "markdown",
   "id": "14100d7a",
   "metadata": {},
   "source": [
    "**Q11**. What is the concept of a breakpoint?\n",
    "\n",
    "**Answer :-**\n",
    "\n",
    "A breakpoint is a setting on a line of code that causes the debugger to pause when the program execution reaches the line.\n"
   ]
  }
 ],
 "metadata": {
  "kernelspec": {
   "display_name": "Python 3 (ipykernel)",
   "language": "python",
   "name": "python3"
  },
  "language_info": {
   "codemirror_mode": {
    "name": "ipython",
    "version": 3
   },
   "file_extension": ".py",
   "mimetype": "text/x-python",
   "name": "python",
   "nbconvert_exporter": "python",
   "pygments_lexer": "ipython3",
   "version": "3.9.7"
  }
 },
 "nbformat": 4,
 "nbformat_minor": 5
}
