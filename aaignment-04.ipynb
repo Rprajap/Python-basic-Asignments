{
 "cells": [
  {
   "cell_type": "markdown",
   "id": "1b2316c6",
   "metadata": {},
   "source": [
    "1. What exactly is []?"
   ]
  },
  {
   "cell_type": "markdown",
   "id": "b3a247f0",
   "metadata": {},
   "source": [
    "**Answer**:-"
   ]
  },
  {
   "cell_type": "markdown",
   "id": "cb2ac00c",
   "metadata": {},
   "source": [
    "[]  This represent empty list in python."
   ]
  },
  {
   "cell_type": "markdown",
   "id": "7b299b4f",
   "metadata": {},
   "source": [
    "**Example**:-"
   ]
  },
  {
   "cell_type": "code",
   "execution_count": 1,
   "id": "ca1a7f39",
   "metadata": {},
   "outputs": [
    {
     "name": "stdout",
     "output_type": "stream",
     "text": [
      "<class 'list'>\n"
     ]
    }
   ],
   "source": [
    "x=[]\n",
    "print(type(x))"
   ]
  },
  {
   "cell_type": "markdown",
   "id": "0a86cdd9",
   "metadata": {},
   "source": [
    "2. In a list of values stored in a variable called spam, how would you assign the value 'hello' as the third value? (Assume [2, 4, 6, 8, 10] are in spam.)"
   ]
  },
  {
   "cell_type": "code",
   "execution_count": 2,
   "id": "5dd58ee3",
   "metadata": {},
   "outputs": [],
   "source": [
    "spam=[2,4,6,8,10] # given\n",
    "spam[2]='hello'"
   ]
  },
  {
   "cell_type": "code",
   "execution_count": null,
   "id": "714ceb10",
   "metadata": {},
   "outputs": [],
   "source": [
    "spam"
   ]
  },
  {
   "cell_type": "markdown",
   "id": "569d36a7",
   "metadata": {},
   "source": [
    "Let's pretend the spam includes the list ['a', 'b', 'c', 'd'] for the next three queries."
   ]
  },
  {
   "cell_type": "code",
   "execution_count": 3,
   "id": "e9a22d31",
   "metadata": {},
   "outputs": [],
   "source": [
    "spam=['a', 'b', 'c', 'd']"
   ]
  },
  {
   "cell_type": "markdown",
   "id": "f252d788",
   "metadata": {},
   "source": [
    "3. What is the value of spam[int(int('3' * 2) / 11)]?"
   ]
  },
  {
   "cell_type": "markdown",
   "id": "4a39f61f",
   "metadata": {},
   "source": [
    "**Answer**:-"
   ]
  },
  {
   "cell_type": "code",
   "execution_count": 4,
   "id": "234e67b8",
   "metadata": {},
   "outputs": [
    {
     "data": {
      "text/plain": [
       "'d'"
      ]
     },
     "execution_count": 4,
     "metadata": {},
     "output_type": "execute_result"
    }
   ],
   "source": [
    "spam[int(int('3' * 2) / 11)]"
   ]
  },
  {
   "cell_type": "markdown",
   "id": "a82831eb",
   "metadata": {},
   "source": [
    " Value of spam[int(int('3' * 2) / 11)]  is 'd'   \n",
    " This is a example of type casting  that is from string to integer type"
   ]
  },
  {
   "cell_type": "markdown",
   "id": "9adfae10",
   "metadata": {},
   "source": [
    "__Q.__4 What is the value of spam[-1]?"
   ]
  },
  {
   "cell_type": "markdown",
   "id": "9dfefc70",
   "metadata": {},
   "source": [
    "**Answer**:-"
   ]
  },
  {
   "cell_type": "code",
   "execution_count": 5,
   "id": "0eddc281",
   "metadata": {},
   "outputs": [
    {
     "data": {
      "text/plain": [
       "'d'"
      ]
     },
     "execution_count": 5,
     "metadata": {},
     "output_type": "execute_result"
    }
   ],
   "source": [
    "spam=['a', 'b', 'c', 'd']\n",
    "\n",
    "spam[-1]  #  negative index is given"
   ]
  },
  {
   "cell_type": "markdown",
   "id": "63bb0a1f",
   "metadata": {},
   "source": [
    "__Q.__5 What is the value of spam[:2]?"
   ]
  },
  {
   "cell_type": "markdown",
   "id": "1b86dd81",
   "metadata": {},
   "source": [
    "**Answer**:-"
   ]
  },
  {
   "cell_type": "code",
   "execution_count": 6,
   "id": "9f10a8a6",
   "metadata": {},
   "outputs": [
    {
     "data": {
      "text/plain": [
       "['a', 'b']"
      ]
     },
     "execution_count": 6,
     "metadata": {},
     "output_type": "execute_result"
    }
   ],
   "source": [
    "spam=['a', 'b', 'c', 'd']\n",
    "\n",
    "spam[:2]  # return every other number"
   ]
  },
  {
   "cell_type": "markdown",
   "id": "201ed56f",
   "metadata": {},
   "source": [
    "**Let's pretend bacon has the list [3.14, 'cat,' 11, 'cat,' True] for the next three questions.**"
   ]
  },
  {
   "cell_type": "markdown",
   "id": "6e99473a",
   "metadata": {},
   "source": [
    "__Q.__6 What is the value of bacon.index('cat')?"
   ]
  },
  {
   "cell_type": "markdown",
   "id": "375d0034",
   "metadata": {},
   "source": [
    "**Answer**:-"
   ]
  },
  {
   "cell_type": "code",
   "execution_count": 7,
   "id": "83046760",
   "metadata": {},
   "outputs": [
    {
     "data": {
      "text/plain": [
       "1"
      ]
     },
     "execution_count": 7,
     "metadata": {},
     "output_type": "execute_result"
    }
   ],
   "source": [
    "bacon=[3.14, 'cat', 11, 'cat', True]\n",
    "\n",
    "bacon.index('cat') # return Index value of first occurence of 'cat'\n"
   ]
  },
  {
   "cell_type": "markdown",
   "id": "cbe59e5d",
   "metadata": {},
   "source": [
    "__Q.__7 How does bacon.append(99) change the look of the list value in bacon?"
   ]
  },
  {
   "cell_type": "markdown",
   "id": "2cb28381",
   "metadata": {},
   "source": [
    "**Answer**:-"
   ]
  },
  {
   "cell_type": "code",
   "execution_count": 8,
   "id": "8234c293",
   "metadata": {},
   "outputs": [
    {
     "data": {
      "text/plain": [
       "[3.14, 'cat', 11, 'cat', True, 99]"
      ]
     },
     "execution_count": 8,
     "metadata": {},
     "output_type": "execute_result"
    }
   ],
   "source": [
    "bacon=[3.14, 'cat', 11, 'cat', True]\n",
    "\n",
    "bacon.append(99) # adding 99 at the end of list bacon \n",
    "\n",
    "bacon"
   ]
  },
  {
   "cell_type": "markdown",
   "id": "9600a4fa",
   "metadata": {},
   "source": [
    "__Q.__8 How does bacon.remove('cat') change the look of the list in bacon?"
   ]
  },
  {
   "cell_type": "markdown",
   "id": "ba6ded59",
   "metadata": {},
   "source": [
    "**Answer**:-"
   ]
  },
  {
   "cell_type": "code",
   "execution_count": 9,
   "id": "5d4bfe70",
   "metadata": {},
   "outputs": [
    {
     "data": {
      "text/plain": [
       "[3.14, 11, 'cat', True]"
      ]
     },
     "execution_count": 9,
     "metadata": {},
     "output_type": "execute_result"
    }
   ],
   "source": [
    "bacon=[3.14, 'cat', 11, 'cat', True]\n",
    "\n",
    "bacon.remove('cat') # remove first occurence of 'cat' fron list bacon\n",
    "\n",
    "bacon"
   ]
  },
  {
   "cell_type": "markdown",
   "id": "84d7084c",
   "metadata": {},
   "source": [
    "__Q.__9 What are the list concatenation and list replication operators?"
   ]
  },
  {
   "cell_type": "markdown",
   "id": "a88cfaa4",
   "metadata": {},
   "source": [
    "**Answer**:-"
   ]
  },
  {
   "cell_type": "markdown",
   "id": "56098771",
   "metadata": {},
   "source": [
    " __*__ :- is a list replication operator\n",
    "\n",
    " __+__ :- is list concatenation operator\n",
    "    \n",
    "Example:-"
   ]
  },
  {
   "cell_type": "code",
   "execution_count": 10,
   "id": "ad4fc327",
   "metadata": {},
   "outputs": [
    {
     "data": {
      "text/plain": [
       "[2, 3, 4, 2, 3, 4]"
      ]
     },
     "execution_count": 10,
     "metadata": {},
     "output_type": "execute_result"
    }
   ],
   "source": [
    "# list replication operator \n",
    "l=[2,3,4]\n",
    "l*2\n"
   ]
  },
  {
   "cell_type": "code",
   "execution_count": 11,
   "id": "5669ef6f",
   "metadata": {},
   "outputs": [
    {
     "data": {
      "text/plain": [
       "['a', 'b', 'c', 'x', 'y', 'z']"
      ]
     },
     "execution_count": 11,
     "metadata": {},
     "output_type": "execute_result"
    }
   ],
   "source": [
    "# list concatenation operator\n",
    "\n",
    "l=['a','b','c']\n",
    "m=['x','y','z']\n",
    "\n",
    "l+m"
   ]
  },
  {
   "cell_type": "markdown",
   "id": "f0042dbc",
   "metadata": {},
   "source": [
    "__Q.__10. What is difference between the list methods append() and insert()?"
   ]
  },
  {
   "cell_type": "markdown",
   "id": "dfcaceef",
   "metadata": {},
   "source": [
    "**Answer**:-"
   ]
  },
  {
   "cell_type": "markdown",
   "id": "e6e7008b",
   "metadata": {},
   "source": [
    " - Append method:- Append method adds a new element at the end of the list. The length of the list increases by one\n",
    "    \n",
    "   Exampple:-"
   ]
  },
  {
   "cell_type": "code",
   "execution_count": 12,
   "id": "79e7610f",
   "metadata": {},
   "outputs": [
    {
     "name": "stdout",
     "output_type": "stream",
     "text": [
      "['ineuron', 'oneneuron', 'techneuron']\n"
     ]
    }
   ],
   "source": [
    "# append() method\n",
    "l=['ineuron','oneneuron']\n",
    "l.append('techneuron')\n",
    "print(l)"
   ]
  },
  {
   "cell_type": "markdown",
   "id": "2410840f",
   "metadata": {},
   "source": [
    "- Insert method:- Insert method is the method which inserts a given element at a given index in a list. \n",
    "\n",
    "Example:-"
   ]
  },
  {
   "cell_type": "code",
   "execution_count": 13,
   "id": "6fc1ec82",
   "metadata": {},
   "outputs": [
    {
     "name": "stdout",
     "output_type": "stream",
     "text": [
      "['Mango', 'Orange', 'Bamama', 'Grapes']\n"
     ]
    }
   ],
   "source": [
    "#insert() method\n",
    "l=['Mango','Orange','Grapes']\n",
    "l.insert(2,'Bamama') #inserting 'Banana at 2nd index\n",
    "print(l)\n"
   ]
  },
  {
   "cell_type": "markdown",
   "id": "36a54ef1",
   "metadata": {},
   "source": [
    "__Q.__11. What are the two methods for removing items from a list?"
   ]
  },
  {
   "cell_type": "markdown",
   "id": "220a50dd",
   "metadata": {},
   "source": [
    "**Answer**:-"
   ]
  },
  {
   "cell_type": "markdown",
   "id": "7dc1360a",
   "metadata": {},
   "source": [
    " There are two method to remove an elements from a list that is\n",
    "pop() method and remove() method\n",
    "\n",
    "The pop() method removes an element from the list based on the index given.\n",
    "\n",
    "The remove method remove  very first matching elements from a list."
   ]
  },
  {
   "cell_type": "code",
   "execution_count": 15,
   "id": "a1fa15d4",
   "metadata": {},
   "outputs": [
    {
     "name": "stdout",
     "output_type": "stream",
     "text": [
      "['Mango', 'Orange']\n"
     ]
    }
   ],
   "source": [
    "# pop() method\n",
    "l=['Mango','Orange','Grapes']\n",
    "l.pop(2) # removing elements present at 2nd index\n",
    "print(l)"
   ]
  },
  {
   "cell_type": "code",
   "execution_count": 16,
   "id": "8b226b7a",
   "metadata": {},
   "outputs": [
    {
     "name": "stdout",
     "output_type": "stream",
     "text": [
      "['Orange', 'Grapes', 'Watermelon', 'Mango']\n"
     ]
    }
   ],
   "source": [
    "# remove() method\n",
    "l=['Mango','Orange','Grapes','Watermelon','Mango']\n",
    "l.remove('Mango')\n",
    "print(l)"
   ]
  },
  {
   "cell_type": "markdown",
   "id": "58ba23d7",
   "metadata": {},
   "source": [
    "__Q.__12 Describe how list values and string values are identical.\n",
    "\n",
    "__Answer__ :-\n"
   ]
  },
  {
   "cell_type": "markdown",
   "id": "d4990002",
   "metadata": {},
   "source": [
    "- List values and String values are identical because both are a sequence of character\n",
    "\n",
    "Example :-\n"
   ]
  },
  {
   "cell_type": "code",
   "execution_count": 18,
   "id": "f20fbd3e",
   "metadata": {},
   "outputs": [
    {
     "name": "stdout",
     "output_type": "stream",
     "text": [
      "7\n",
      "7\n"
     ]
    }
   ],
   "source": [
    "# len() function similarity\n",
    "string = \"ineuron\"\n",
    "print(len(string))\n",
    "list1 = ['i', 'n', 'e', 'u', 'r','o','n']\n",
    "print(len(list1))"
   ]
  },
  {
   "cell_type": "code",
   "execution_count": 19,
   "id": "74a6716f",
   "metadata": {},
   "outputs": [
    {
     "data": {
      "text/plain": [
       "'iern'"
      ]
     },
     "execution_count": 19,
     "metadata": {},
     "output_type": "execute_result"
    }
   ],
   "source": [
    "# slicing operation \n",
    "string[::2]"
   ]
  },
  {
   "cell_type": "code",
   "execution_count": 20,
   "id": "b8633b36",
   "metadata": {},
   "outputs": [
    {
     "data": {
      "text/plain": [
       "['i', 'e', 'r', 'n']"
      ]
     },
     "execution_count": 20,
     "metadata": {},
     "output_type": "execute_result"
    }
   ],
   "source": [
    "list1[::2]"
   ]
  },
  {
   "cell_type": "code",
   "execution_count": 21,
   "id": "21ee4cbe",
   "metadata": {},
   "outputs": [
    {
     "name": "stdout",
     "output_type": "stream",
     "text": [
      "i\n",
      "n\n",
      "e\n",
      "u\n",
      "r\n",
      "o\n",
      "n\n"
     ]
    }
   ],
   "source": [
    "for i in string:\n",
    "    print(i)"
   ]
  },
  {
   "cell_type": "code",
   "execution_count": 22,
   "id": "5dc1d60d",
   "metadata": {},
   "outputs": [
    {
     "name": "stdout",
     "output_type": "stream",
     "text": [
      "i\n",
      "n\n",
      "e\n",
      "u\n",
      "r\n",
      "o\n",
      "n\n"
     ]
    }
   ],
   "source": [
    "for i in list1:\n",
    "    print(i)"
   ]
  },
  {
   "cell_type": "markdown",
   "id": "0997c093",
   "metadata": {},
   "source": [
    "__Q.__13 What's the difference between tuples and lists?\n",
    "\n",
    "Answer :-\n"
   ]
  },
  {
   "cell_type": "markdown",
   "id": "0212220f",
   "metadata": {},
   "source": [
    "- tuples:- Tuple is a collection which is ordered and unchangeable. Allows duplicate value are also allowed\n",
    " it is writen in open bracket. '()'\n",
    " tuple does not support with iten assignment \n",
    " tuple is imutable datatype.\n",
    " \n",
    " Example:-"
   ]
  },
  {
   "cell_type": "code",
   "execution_count": 23,
   "id": "c5800059",
   "metadata": {},
   "outputs": [
    {
     "name": "stdout",
     "output_type": "stream",
     "text": [
      "<class 'tuple'>\n"
     ]
    }
   ],
   "source": [
    "a=(1,2,5,4,6,9,7,9,10)\n",
    "print(type(a))"
   ]
  },
  {
   "cell_type": "code",
   "execution_count": 24,
   "id": "e8f8a94a",
   "metadata": {},
   "outputs": [
    {
     "ename": "TypeError",
     "evalue": "'tuple' object does not support item assignment",
     "output_type": "error",
     "traceback": [
      "\u001b[1;31m---------------------------------------------------------------------------\u001b[0m",
      "\u001b[1;31mTypeError\u001b[0m                                 Traceback (most recent call last)",
      "\u001b[1;32m~\\AppData\\Local\\Temp/ipykernel_9760/3184962333.py\u001b[0m in \u001b[0;36m<module>\u001b[1;34m\u001b[0m\n\u001b[1;32m----> 1\u001b[1;33m \u001b[0ma\u001b[0m\u001b[1;33m[\u001b[0m\u001b[1;36m2\u001b[0m\u001b[1;33m]\u001b[0m\u001b[1;33m=\u001b[0m\u001b[1;36m3\u001b[0m\u001b[1;33m\u001b[0m\u001b[1;33m\u001b[0m\u001b[0m\n\u001b[0m",
      "\u001b[1;31mTypeError\u001b[0m: 'tuple' object does not support item assignment"
     ]
    }
   ],
   "source": [
    "a[2]=3"
   ]
  },
  {
   "cell_type": "markdown",
   "id": "58c6b90d",
   "metadata": {},
   "source": [
    "- list:- it is builtin datatype  in python .it is written in square brackets '[]'it store multiple datatype .\n",
    "     list support iten assignment  it is mutale .\n",
    "    "
   ]
  },
  {
   "cell_type": "markdown",
   "id": "422e2488",
   "metadata": {},
   "source": [
    "__Example__:-"
   ]
  },
  {
   "cell_type": "code",
   "execution_count": 25,
   "id": "54a1775d",
   "metadata": {},
   "outputs": [
    {
     "name": "stdout",
     "output_type": "stream",
     "text": [
      "<class 'list'>\n"
     ]
    }
   ],
   "source": [
    "l=['Ram',12,25.6,3+4j]\n",
    "print(type(l))"
   ]
  },
  {
   "cell_type": "code",
   "execution_count": 26,
   "id": "7f79c3dc",
   "metadata": {},
   "outputs": [
    {
     "name": "stdout",
     "output_type": "stream",
     "text": [
      "['Ram', 12, 'das', (3+4j)]\n"
     ]
    }
   ],
   "source": [
    "l[2]='das'\n",
    "print(l)"
   ]
  },
  {
   "cell_type": "markdown",
   "id": "2835fed6",
   "metadata": {},
   "source": [
    "__Q.__14 How do you type a tuple value that only contains the integer 42?"
   ]
  },
  {
   "cell_type": "markdown",
   "id": "5fbd6024",
   "metadata": {},
   "source": [
    "**Answer**:-"
   ]
  },
  {
   "cell_type": "code",
   "execution_count": 27,
   "id": "405f2959",
   "metadata": {},
   "outputs": [
    {
     "data": {
      "text/plain": [
       "tuple"
      ]
     },
     "execution_count": 27,
     "metadata": {},
     "output_type": "execute_result"
    }
   ],
   "source": [
    "t=(42,)\n",
    "type(t)"
   ]
  },
  {
   "cell_type": "markdown",
   "id": "518983b5",
   "metadata": {},
   "source": [
    "__Q.__15 How do you get a list value's tuple form? How do you get a tuple value's list form?"
   ]
  },
  {
   "cell_type": "markdown",
   "id": "849d68b9",
   "metadata": {},
   "source": [
    "**Answer**:-"
   ]
  },
  {
   "cell_type": "code",
   "execution_count": 28,
   "id": "abd7c140",
   "metadata": {},
   "outputs": [
    {
     "name": "stdout",
     "output_type": "stream",
     "text": [
      "<class 'list'>\n",
      "(45, 23, 65, 9, 'Komal')\n",
      "<class 'tuple'>\n"
     ]
    }
   ],
   "source": [
    "# get a list value's tuple form\n",
    "l=[45,23,65,9,'Komal']\n",
    "print(type(l))\n",
    "l2=tuple(l)  \n",
    "print(l2)\n",
    "print(type(l2))"
   ]
  },
  {
   "cell_type": "code",
   "execution_count": 29,
   "id": "fc0072d4",
   "metadata": {},
   "outputs": [
    {
     "name": "stdout",
     "output_type": "stream",
     "text": [
      "<class 'tuple'>\n",
      "[12, 23, 'Komal', 'Ineuron']\n",
      "<class 'list'>\n"
     ]
    }
   ],
   "source": [
    "#tuple value's list form\n",
    "t=(12,23,'Komal','Ineuron')\n",
    "print(type(t))\n",
    "t2=list(t)\n",
    "print(t2)\n",
    "print(type(t2))"
   ]
  },
  {
   "cell_type": "markdown",
   "id": "d3b0a84d",
   "metadata": {},
   "source": [
    "__Q.__16 Variables that \"contain\" list values are not necessarily lists themselves. Instead, what do they contain?\n",
    "\n",
    "Answer :-\n"
   ]
  },
  {
   "cell_type": "markdown",
   "id": "a502a19f",
   "metadata": {},
   "source": [
    " Variables do not store values directly.\n",
    "\n",
    " Python variables work with references to objects representing the values.\n",
    "\n",
    "    For example, we have\n",
    "        A = [7, 5, 3]\n",
    "\n",
    " Python creates a new reference for A to point at the object representing the value [7, 5, 3] in the memory.\n"
   ]
  },
  {
   "cell_type": "markdown",
   "id": "04760d3c",
   "metadata": {},
   "source": [
    "__Q.__17 How do you distinguish between copy.copy() and copy.deepcopy()?"
   ]
  },
  {
   "cell_type": "markdown",
   "id": "1bf56238",
   "metadata": {},
   "source": [
    "**Answer**:-"
   ]
  },
  {
   "cell_type": "markdown",
   "id": "079b1ed6",
   "metadata": {},
   "source": [
    "The copy.copy() function will do a shallow copy of a list.\n",
    "\n",
    "The copy.deepcopy() function will do a deep copy of a list."
   ]
  },
  {
   "cell_type": "markdown",
   "id": "42068fb6",
   "metadata": {},
   "source": [
    "**Example**:-"
   ]
  },
  {
   "cell_type": "code",
   "execution_count": 30,
   "id": "ff9a8944",
   "metadata": {},
   "outputs": [],
   "source": [
    "# import copy module\n",
    "\n",
    "import copy\n",
    "\n",
    "# initialize our list\n",
    "l = [1, [3, 5], 7]\n"
   ]
  },
  {
   "cell_type": "code",
   "execution_count": 31,
   "id": "b951f13d",
   "metadata": {},
   "outputs": [
    {
     "name": "stdout",
     "output_type": "stream",
     "text": [
      "1834961257472\n",
      "1834960859264\n",
      "1834960853440\n",
      "1834960853440\n"
     ]
    }
   ],
   "source": [
    "copy_l = copy.copy(l)\n",
    "\n",
    "print(id(l))\n",
    "print(id(copy_l))\n",
    "\n",
    "print(id(l[1]))\n",
    "print(id(copy_l[1]))"
   ]
  },
  {
   "cell_type": "markdown",
   "id": "f2cf74e2",
   "metadata": {},
   "source": [
    " copy_l is new object but id of  l[1] is same as id  of copy_l[1]"
   ]
  },
  {
   "cell_type": "code",
   "execution_count": 32,
   "id": "e44ced6b",
   "metadata": {},
   "outputs": [
    {
     "name": "stdout",
     "output_type": "stream",
     "text": [
      "1834961257472\n",
      "1834960854784\n",
      "1834960853440\n",
      "1834960862400\n"
     ]
    }
   ],
   "source": [
    "deepcopy_l = copy.deepcopy(l)\n",
    "\n",
    "print(id(l))\n",
    "print(id(deepcopy_l))\n",
    "\n",
    "print(id(l[1]))\n",
    "print(id(deepcopy_l[1]))"
   ]
  }
 ],
 "metadata": {
  "kernelspec": {
   "display_name": "Python 3 (ipykernel)",
   "language": "python",
   "name": "python3"
  },
  "language_info": {
   "codemirror_mode": {
    "name": "ipython",
    "version": 3
   },
   "file_extension": ".py",
   "mimetype": "text/x-python",
   "name": "python",
   "nbconvert_exporter": "python",
   "pygments_lexer": "ipython3",
   "version": "3.9.7"
  }
 },
 "nbformat": 4,
 "nbformat_minor": 5
}
