{
 "cells": [
  {
   "cell_type": "markdown",
   "id": "19d1a8fa",
   "metadata": {},
   "source": [
    "Q.1. What is the name of the feature responsible for generating Regex objects?"
   ]
  },
  {
   "cell_type": "markdown",
   "id": "9854039e",
   "metadata": {},
   "source": [
    "\n",
    "\n",
    "Answer :-\n",
    "\n",
    "    re.compile() : re.compile() is the name of the feature responsible for generating Regex Object.\n",
    "\n"
   ]
  },
  {
   "cell_type": "markdown",
   "id": "a2dbf12b",
   "metadata": {},
   "source": [
    "Exapmle:-"
   ]
  },
  {
   "cell_type": "code",
   "execution_count": 1,
   "id": "f52e3f32",
   "metadata": {},
   "outputs": [
    {
     "data": {
      "text/plain": [
       "re.compile(r'Affordable Ineuron', re.UNICODE)"
      ]
     },
     "execution_count": 1,
     "metadata": {},
     "output_type": "execute_result"
    }
   ],
   "source": [
    "import re\n",
    "re.compile(\"Affordable Ineuron\")"
   ]
  },
  {
   "cell_type": "markdown",
   "id": "a147226a",
   "metadata": {},
   "source": [
    "Q.2. Why do raw strings often appear in Regex objects?"
   ]
  },
  {
   "cell_type": "markdown",
   "id": "e406d7b6",
   "metadata": {},
   "source": [
    "Answer:-"
   ]
  },
  {
   "cell_type": "markdown",
   "id": "e05b8f61",
   "metadata": {},
   "source": [
    "Raw string notation keeps regular expression meaningful and confusion free. Without it every backslash('\\') in regular expression would have to be prefixed with another one to escape it."
   ]
  },
  {
   "cell_type": "code",
   "execution_count": 2,
   "id": "bf682dcb",
   "metadata": {},
   "outputs": [
    {
     "name": "stdout",
     "output_type": "stream",
     "text": [
      " Non tech to tech \n",
      " Transition with ineuron\n"
     ]
    }
   ],
   "source": [
    "str = \" Non tech to tech \\n Transition with ineuron\"\n",
    "print(str)"
   ]
  },
  {
   "cell_type": "markdown",
   "id": "17dec6bb",
   "metadata": {},
   "source": [
    "Q.3. What is the return value of the search() method?\n",
    "\n",
    "**Answer**:-"
   ]
  },
  {
   "cell_type": "markdown",
   "id": "101b22d0",
   "metadata": {},
   "source": [
    "The search() method searches through a string looking for the first location where the regular expression pattern produces a match, and return a corresponding match object. It returns None if no position in the string matches the pattern."
   ]
  },
  {
   "cell_type": "code",
   "execution_count": 3,
   "id": "8dd8fa7c",
   "metadata": {},
   "outputs": [
    {
     "name": "stdout",
     "output_type": "stream",
     "text": [
      "The first white-space character is located in position: 6\n"
     ]
    }
   ],
   "source": [
    "s= 'Hello ! How are you'\n",
    "sub_str=re.search('\\s',s)\n",
    "\n",
    "#match found\n",
    "\n",
    "s = \"Hello! How are you\"\n",
    "sub_s = re.search(\"\\s\", s)\n",
    "print(\"The first white-space character is located in position:\", sub_s.start())"
   ]
  },
  {
   "cell_type": "code",
   "execution_count": 5,
   "id": "5e27491a",
   "metadata": {},
   "outputs": [
    {
     "name": "stdout",
     "output_type": "stream",
     "text": [
      "The first white-space character is located in position: None\n"
     ]
    }
   ],
   "source": [
    "#no match found\n",
    "s = \"Hello! How are you\"\n",
    "sub_s = re.search(\"\\n\", s)\n",
    "print(\"The first white-space character is located in position:\", sub_s)"
   ]
  },
  {
   "cell_type": "markdown",
   "id": "739d5d2a",
   "metadata": {},
   "source": [
    "**Q4**. From a Match item, how do you get the actual strings that match the pattern?\n",
    "\n",
    "**Answer** :-"
   ]
  },
  {
   "cell_type": "markdown",
   "id": "8121f2c9",
   "metadata": {},
   "source": [
    "The group() method returns strings of the matched text"
   ]
  },
  {
   "cell_type": "code",
   "execution_count": 6,
   "id": "0cc73577",
   "metadata": {},
   "outputs": [
    {
     "name": "stdout",
     "output_type": "stream",
     "text": [
      "Phone number found: 970-297-3048\n"
     ]
    }
   ],
   "source": [
    "phoneNumRegex = re.compile(r'\\d\\d\\d-\\d\\d\\d-\\d\\d\\d\\d')\n",
    "mo = phoneNumRegex.search('My number is 970-297-3048')\n",
    "print('Phone number found: ' + mo.group())"
   ]
  },
  {
   "cell_type": "markdown",
   "id": "0b26adf9",
   "metadata": {},
   "source": [
    "**Q5**. In the regex which created from the r'(\\d\\d\\d)-(\\d\\d\\d-\\d\\d\\d\\d)', what does group zero cover? Group 2? Group 1?\n",
    "\n",
    "**Answer**:-"
   ]
  },
  {
   "cell_type": "code",
   "execution_count": 7,
   "id": "83da4ff8",
   "metadata": {},
   "outputs": [],
   "source": [
    "MobNumRegex = re.compile(r'(\\d\\d\\d)-(\\d\\d\\d-\\d\\d\\d\\d)')\n",
    "mob = MobNumRegex.search('My number is 982-516-2543.')"
   ]
  },
  {
   "cell_type": "code",
   "execution_count": 8,
   "id": "e7296525",
   "metadata": {},
   "outputs": [
    {
     "data": {
      "text/plain": [
       "('982', '516-2543')"
      ]
     },
     "execution_count": 8,
     "metadata": {},
     "output_type": "execute_result"
    }
   ],
   "source": [
    "mob.groups()"
   ]
  },
  {
   "cell_type": "code",
   "execution_count": 9,
   "id": "683936ef",
   "metadata": {},
   "outputs": [
    {
     "data": {
      "text/plain": [
       "'982-516-2543'"
      ]
     },
     "execution_count": 9,
     "metadata": {},
     "output_type": "execute_result"
    }
   ],
   "source": [
    "mob.group(0)  # group(0) cover this"
   ]
  },
  {
   "cell_type": "code",
   "execution_count": 10,
   "id": "f3d5e8ce",
   "metadata": {},
   "outputs": [
    {
     "data": {
      "text/plain": [
       "'982'"
      ]
     },
     "execution_count": 10,
     "metadata": {},
     "output_type": "execute_result"
    }
   ],
   "source": [
    "mob.group(1) # group(1) cover this"
   ]
  },
  {
   "cell_type": "code",
   "execution_count": 11,
   "id": "43184547",
   "metadata": {},
   "outputs": [
    {
     "data": {
      "text/plain": [
       "'516-2543'"
      ]
     },
     "execution_count": 11,
     "metadata": {},
     "output_type": "execute_result"
    }
   ],
   "source": [
    "mob.group(2) # group(2) cover this"
   ]
  },
  {
   "cell_type": "markdown",
   "id": "780cb543",
   "metadata": {},
   "source": [
    "**Q6**. In standard expression syntax, parentheses and intervals have distinct meanings. How can you tell a regex that you want it to fit real parentheses and periods?\n",
    "\n",
    "**Answer**:-"
   ]
  },
  {
   "cell_type": "markdown",
   "id": "92955072",
   "metadata": {},
   "source": [
    "Periods and parentheses can be escaped with a backslash : \\., \\(, and \\)."
   ]
  },
  {
   "cell_type": "markdown",
   "id": "294182ba",
   "metadata": {},
   "source": [
    "**Q7** The findall() method returns a string list or a list of string tuples. What causes it to return one of the two options?\n",
    "\n",
    "**Answer**:-"
   ]
  },
  {
   "cell_type": "markdown",
   "id": "e895200d",
   "metadata": {},
   "source": [
    "If the regex has no groups, a list of strings is returned. If the regex has groups, a list of tuples of strings is returned.\n",
    "\n",
    "**Example**:-"
   ]
  },
  {
   "cell_type": "code",
   "execution_count": 12,
   "id": "b2fa28ed",
   "metadata": {},
   "outputs": [
    {
     "name": "stdout",
     "output_type": "stream",
     "text": [
      "['9', '162', '666', '688', '6888']\n"
     ]
    }
   ],
   "source": [
    "s2 = 'We live at 9-162 Mumbai. My phone number is 666-688-6888.'\n",
    "#search using regex\n",
    "x = re.findall('[0-9]+', s2)\n",
    "print(x)"
   ]
  },
  {
   "cell_type": "code",
   "execution_count": 17,
   "id": "4661c4fe",
   "metadata": {},
   "outputs": [
    {
     "data": {
      "text/plain": [
       "[('Am', 'herst')]"
      ]
     },
     "execution_count": 17,
     "metadata": {},
     "output_type": "execute_result"
    }
   ],
   "source": [
    "a=\"Amherst, Massachusetts\" \n",
    "re.findall(\"(Am)(herst)\",a)"
   ]
  },
  {
   "cell_type": "markdown",
   "id": "0f318b42",
   "metadata": {},
   "source": [
    "Q.8. In standard expressions, what does the | character mean?"
   ]
  },
  {
   "cell_type": "markdown",
   "id": "a86c4d4a",
   "metadata": {},
   "source": [
    "\n",
    "\n",
    "Answer :-\n",
    "\n",
    "The | character signifies matching \"either, or\" between two groups.\n",
    "\n",
    "Character| this is also called pipe.\n"
   ]
  },
  {
   "cell_type": "markdown",
   "id": "8ae8b1fe",
   "metadata": {},
   "source": [
    "Example:-"
   ]
  },
  {
   "cell_type": "code",
   "execution_count": 18,
   "id": "ff393992",
   "metadata": {},
   "outputs": [
    {
     "data": {
      "text/plain": [
       "'Nokia'"
      ]
     },
     "execution_count": 18,
     "metadata": {},
     "output_type": "execute_result"
    }
   ],
   "source": [
    "MobRegex = re.compile (r'Nokia|LG')\n",
    "mob = MobRegex.search('Nokia and LG')\n",
    "mob.group()"
   ]
  },
  {
   "cell_type": "code",
   "execution_count": 19,
   "id": "81852248",
   "metadata": {},
   "outputs": [
    {
     "data": {
      "text/plain": [
       "'LG'"
      ]
     },
     "execution_count": 19,
     "metadata": {},
     "output_type": "execute_result"
    }
   ],
   "source": [
    "mob1 = MobRegex.search('LG and Nokia')\n",
    "mob1.group()"
   ]
  },
  {
   "cell_type": "markdown",
   "id": "5f7acab4",
   "metadata": {},
   "source": [
    "From, Above example we can see that regular expression match either 'LG' or 'Nokia'.\n",
    "\n",
    "If 'LG' and 'Nokia' occur in the searched string, the first occurrence of matching text will be returned as the Match object."
   ]
  },
  {
   "cell_type": "markdown",
   "id": "f4c597b1",
   "metadata": {},
   "source": [
    "Q.9. In regular expressions, what does the character stand for?\n",
    "\n",
    "Answer :-"
   ]
  },
  {
   "cell_type": "markdown",
   "id": "9b15302a",
   "metadata": {},
   "source": [
    "The ? character can either mean “match zero or one of the preceding group”.\n",
    "\n",
    "Example :-"
   ]
  },
  {
   "cell_type": "code",
   "execution_count": 3,
   "id": "bb287a9e",
   "metadata": {},
   "outputs": [
    {
     "data": {
      "text/plain": [
       "'Spiderman'"
      ]
     },
     "execution_count": 3,
     "metadata": {},
     "output_type": "execute_result"
    }
   ],
   "source": [
    "SpiderRegex = re.compile (r'Spider(wo)?man')\n",
    "s = SpiderRegex.search('The latest movie of Spiderman')\n",
    "s.group()"
   ]
  },
  {
   "cell_type": "code",
   "execution_count": 4,
   "id": "30f7c0b1",
   "metadata": {},
   "outputs": [
    {
     "data": {
      "text/plain": [
       "'Spiderwoman'"
      ]
     },
     "execution_count": 4,
     "metadata": {},
     "output_type": "execute_result"
    }
   ],
   "source": [
    "s1 = SpiderRegex.search('The latest movie of Spiderwoman')\n",
    "s1.group()"
   ]
  },
  {
   "cell_type": "markdown",
   "id": "76042db5",
   "metadata": {},
   "source": [
    "Q.10. In regular expressions, what is the difference between the + and * characters?\n",
    "\n",
    "Answer :-"
   ]
  },
  {
   "cell_type": "markdown",
   "id": "4edcb9ed",
   "metadata": {},
   "source": [
    "\n",
    "    + means 1 or many (at least one occurrence for the match to succeed)\n",
    "    * means 0 or many (the match succeeds regardless of the presence of the search string)\n",
    "\n",
    "Example :- + using\n"
   ]
  },
  {
   "cell_type": "code",
   "execution_count": 5,
   "id": "5a37355d",
   "metadata": {},
   "outputs": [
    {
     "data": {
      "text/plain": [
       "['123']"
      ]
     },
     "execution_count": 5,
     "metadata": {},
     "output_type": "execute_result"
    }
   ],
   "source": [
    "re.findall(r'[0-9]+', 'abc123xyz')"
   ]
  },
  {
   "cell_type": "code",
   "execution_count": 6,
   "id": "bc310b6f",
   "metadata": {},
   "outputs": [
    {
     "data": {
      "text/plain": [
       "[]"
      ]
     },
     "execution_count": 6,
     "metadata": {},
     "output_type": "execute_result"
    }
   ],
   "source": [
    "re.findall(r'9+', 'abc123xyz')"
   ]
  },
  {
   "cell_type": "markdown",
   "id": "b5320417",
   "metadata": {},
   "source": [
    "Example :- * using"
   ]
  },
  {
   "cell_type": "code",
   "execution_count": 7,
   "id": "0b954a1a",
   "metadata": {},
   "outputs": [
    {
     "data": {
      "text/plain": [
       "['abc', '', '', '', 'xyz', '']"
      ]
     },
     "execution_count": 7,
     "metadata": {},
     "output_type": "execute_result"
    }
   ],
   "source": [
    "re.findall(r'[a-z]*', 'abc123xyz')"
   ]
  },
  {
   "cell_type": "code",
   "execution_count": 8,
   "id": "8253fbfa",
   "metadata": {},
   "outputs": [
    {
     "data": {
      "text/plain": [
       "['a', '', '', '', '', '', '', '', '', '']"
      ]
     },
     "execution_count": 8,
     "metadata": {},
     "output_type": "execute_result"
    }
   ],
   "source": [
    "re.findall(r'a*', 'abc123xyz')"
   ]
  },
  {
   "cell_type": "markdown",
   "id": "923f21bd",
   "metadata": {},
   "source": [
    "Q.11. What is the difference between {4} and {4,5} in regular expression?\n",
    "\n",
    "Answer :-\n",
    "\n",
    "The difference between {4} and {4,5} is :\n",
    "\n",
    "*    The {4} matches exactly four instances of the preceding group.\n",
    "\n",
    "*   The {4,5} matches between four and five instances.\n",
    "\n"
   ]
  },
  {
   "cell_type": "markdown",
   "id": "8229b0da",
   "metadata": {},
   "source": [
    "Q.12. What do you mean by the \\d, \\w, and \\s shorthand character classes signify in regular expressions?\n",
    "\n",
    "Answer :-\n",
    "\n",
    "\\d : Stands for single digit, Any numeric digit from 0 to 9.\n",
    "\n",
    "\\w : Stands for single word, Any letter, numeric digit, or the underscore character.\n",
    "\n",
    "\\s : Stands for single space character, Any space, tab, or newline character.\n"
   ]
  },
  {
   "cell_type": "markdown",
   "id": "a9e4160d",
   "metadata": {},
   "source": [
    "Q.13. What do means by \\D, \\W, and \\S shorthand character classes signify in regular expressions?\n",
    "\n",
    "Answer :-\n",
    "\n",
    "\\D : Any character that is not a numeric digit from 0 to 9.\n",
    "\n",
    "\\W : Any character that is not a letter, numeric digit, or the underscore character.\n",
    "\n",
    "\\S : Any character that is not a space, tab, or newline.\n"
   ]
  },
  {
   "cell_type": "markdown",
   "id": "bf069d63",
   "metadata": {},
   "source": [
    "Q.14. What is the difference between .*? and .*?\n",
    "\n",
    "Answer :-\n",
    "\n",
    ".* : The dot-star uses greedy mode: It will always try to match as much text as possible.\n",
    "\n",
    ".*? : To match any and all text in a non-greedy fashion, use the dot, star, and question mark (.*?).\n",
    "\n",
    "Example :-"
   ]
  },
  {
   "cell_type": "code",
   "execution_count": 9,
   "id": "ffbf42a6",
   "metadata": {},
   "outputs": [
    {
     "data": {
      "text/plain": [
       "'<This is my> 7th Assignment.>'"
      ]
     },
     "execution_count": 9,
     "metadata": {},
     "output_type": "execute_result"
    }
   ],
   "source": [
    "#Greedy fashion using (.*)\n",
    "\n",
    "GreedyRegex = re.compile(r'<.*>')\n",
    "g = GreedyRegex.search('<This is my> 7th Assignment.>')\n",
    "g.group()"
   ]
  },
  {
   "cell_type": "code",
   "execution_count": 10,
   "id": "991ff65c",
   "metadata": {},
   "outputs": [
    {
     "data": {
      "text/plain": [
       "'<This is my>'"
      ]
     },
     "execution_count": 10,
     "metadata": {},
     "output_type": "execute_result"
    }
   ],
   "source": [
    "#Non Greedy fashion using (.*?)\n",
    "\n",
    "NonGreedyRegex = re.compile(r'<.*?>')\n",
    "g1 = NonGreedyRegex.search('<This is my> 7th Assignment.>')\n",
    "g1.group()"
   ]
  },
  {
   "cell_type": "markdown",
   "id": "07da3994",
   "metadata": {},
   "source": [
    "Q.15. What is the syntax for matching both numbers and lowercase letters with a character class?\n",
    "\n",
    "Answer :-"
   ]
  },
  {
   "cell_type": "markdown",
   "id": "2e4adcf1",
   "metadata": {},
   "source": [
    "The syntax of for matching both numbers and lowercase letters with a character class is either using [0-9a-z] or [a-z0-9].\n",
    "\n",
    "Example :-"
   ]
  },
  {
   "cell_type": "code",
   "execution_count": 11,
   "id": "a3f2e64a",
   "metadata": {},
   "outputs": [
    {
     "data": {
      "text/plain": [
       "'1'"
      ]
     },
     "execution_count": 11,
     "metadata": {},
     "output_type": "execute_result"
    }
   ],
   "source": [
    "\n",
    "mo1 = reg.search('1000 of times I am trying to solve my problem')\n",
    "mo1.group()"
   ]
  },
  {
   "cell_type": "code",
   "execution_count": 12,
   "id": "bd2eac8e",
   "metadata": {},
   "outputs": [
    {
     "data": {
      "text/plain": [
       "'a'"
      ]
     },
     "execution_count": 12,
     "metadata": {},
     "output_type": "execute_result"
    }
   ],
   "source": [
    "regg = re.compile(r'[a-z0-9]')\n",
    "\n",
    "mo2 = regg.search('I am trying to solve my problem 1000 times')\n",
    "mo2.group()"
   ]
  },
  {
   "cell_type": "markdown",
   "id": "b5367c28",
   "metadata": {},
   "source": [
    "**Q16**. What is the procedure for making a normal expression in regax case insensitive?\n",
    "\n",
    "**Answer**:-"
   ]
  },
  {
   "cell_type": "markdown",
   "id": "d6cc915f",
   "metadata": {},
   "source": [
    "Passing re.I or re.IGNORECASE as the second argument to re.compile() will make the matching case insensitive.\n",
    "\n",
    "Example :-"
   ]
  },
  {
   "cell_type": "code",
   "execution_count": 2,
   "id": "52eb9fa6",
   "metadata": {},
   "outputs": [
    {
     "data": {
      "text/plain": [
       "'Mobile'"
      ]
     },
     "execution_count": 2,
     "metadata": {},
     "output_type": "execute_result"
    }
   ],
   "source": [
    "C_Sensitive = re.compile(r'Mobile', re.I)\n",
    "C_Sensitive.search('Mobile  know our day to day life').group()"
   ]
  },
  {
   "cell_type": "markdown",
   "id": "d687e93f",
   "metadata": {},
   "source": [
    "**Q17** What does the . character normally match? What does it match if re.DOTALL is passed as 2nd argument in re.compile()?\n",
    "\n",
    "**Answer**:-\n",
    "\n",
    "The . character normally matches any character except the newline character.\n",
    "\n",
    "If re.DOTALL is passed as the second argument to re.compile(), then the dot(.) will also match newline characters.\n"
   ]
  },
  {
   "cell_type": "markdown",
   "id": "587d9818",
   "metadata": {},
   "source": [
    "**Q18** If numReg = re.compile(r'\\d+'), what will numRegex.sub('X', '11 drummers, 10 pipers, five rings, 4 hen') return?\n",
    "\n",
    "**Answer**:-"
   ]
  },
  {
   "cell_type": "code",
   "execution_count": 3,
   "id": "40b4bccf",
   "metadata": {},
   "outputs": [
    {
     "data": {
      "text/plain": [
       "'X drummers, X pipers, five rings, X hen'"
      ]
     },
     "execution_count": 3,
     "metadata": {},
     "output_type": "execute_result"
    }
   ],
   "source": [
    "numRegex = re.compile(r'\\d+')\n",
    "re = numRegex.sub('X', '11 drummers, 10 pipers, five rings, 4 hen')\n",
    "re"
   ]
  },
  {
   "cell_type": "markdown",
   "id": "87d70251",
   "metadata": {},
   "source": [
    "'X drummers, X pipers, five rings, X hen'"
   ]
  },
  {
   "cell_type": "markdown",
   "id": "8e3cb24f",
   "metadata": {},
   "source": [
    "**Q**19 What does passing re.VERBOSE as the 2nd argument to re.compile() allow to do?\n",
    "\n",
    "**Answer**:-\n",
    "\n",
    "The re.VERBOSE argument allows you to add whitespace and comments to the string passed to re.compile()."
   ]
  },
  {
   "cell_type": "markdown",
   "id": "accd235c",
   "metadata": {},
   "source": [
    "**Q20** How would you write a regex that match a number with comma for every three digits? It must match the given following :\n",
    "\n",
    "'42'\n",
    "    '1,234'\n",
    "    '6,368,745'\n",
    "\n",
    "but not the following :\n",
    "\n",
    "'12,34,567' (which has only two digits between the commas)\n",
    "    '1234' (which lacks commas)\n",
    "\n",
    "**Answer**:-\n",
    "\n",
    "re.compile(r'^\\d{1,3}(,\\d{3})*$') match a number with comma for every three digits.\n"
   ]
  },
  {
   "cell_type": "code",
   "execution_count": 5,
   "id": "c0ff2c7a",
   "metadata": {},
   "outputs": [
    {
     "data": {
      "text/plain": [
       "'42'"
      ]
     },
     "execution_count": 5,
     "metadata": {},
     "output_type": "execute_result"
    }
   ],
   "source": [
    "import re\n",
    "\n",
    "reg = re.compile(r'^\\d{1,3}(,\\d{3})*$')\n",
    "mo = reg.search('42')\n",
    "mo.group()"
   ]
  },
  {
   "cell_type": "code",
   "execution_count": 6,
   "id": "5fdde78b",
   "metadata": {},
   "outputs": [
    {
     "data": {
      "text/plain": [
       "'1,234'"
      ]
     },
     "execution_count": 6,
     "metadata": {},
     "output_type": "execute_result"
    }
   ],
   "source": [
    "reg = re.compile(r'^\\d{1,3}(,\\d{3})*$')\n",
    "mo = reg.search('1,234')\n",
    "mo.group()"
   ]
  },
  {
   "cell_type": "code",
   "execution_count": 7,
   "id": "154bf856",
   "metadata": {},
   "outputs": [
    {
     "data": {
      "text/plain": [
       "'6,368,745'"
      ]
     },
     "execution_count": 7,
     "metadata": {},
     "output_type": "execute_result"
    }
   ],
   "source": [
    "reg = re.compile(r'^\\d{1,3}(,\\d{3})*$')\n",
    "mo = reg.search('6,368,745')\n",
    "mo.group()"
   ]
  },
  {
   "cell_type": "code",
   "execution_count": 8,
   "id": "bf939ddb",
   "metadata": {},
   "outputs": [
    {
     "ename": "AttributeError",
     "evalue": "'NoneType' object has no attribute 'group'",
     "output_type": "error",
     "traceback": [
      "\u001b[1;31m---------------------------------------------------------------------------\u001b[0m",
      "\u001b[1;31mAttributeError\u001b[0m                            Traceback (most recent call last)",
      "\u001b[1;32m~\\AppData\\Local\\Temp/ipykernel_1388/1295938608.py\u001b[0m in \u001b[0;36m<module>\u001b[1;34m\u001b[0m\n\u001b[0;32m      3\u001b[0m \u001b[0mreg\u001b[0m \u001b[1;33m=\u001b[0m \u001b[0mre\u001b[0m\u001b[1;33m.\u001b[0m\u001b[0mcompile\u001b[0m\u001b[1;33m(\u001b[0m\u001b[1;34mr'^\\d{1,3}(,\\d{3})*$'\u001b[0m\u001b[1;33m)\u001b[0m\u001b[1;33m\u001b[0m\u001b[1;33m\u001b[0m\u001b[0m\n\u001b[0;32m      4\u001b[0m \u001b[0mmo\u001b[0m \u001b[1;33m=\u001b[0m \u001b[0mreg\u001b[0m\u001b[1;33m.\u001b[0m\u001b[0msearch\u001b[0m\u001b[1;33m(\u001b[0m\u001b[1;34m'12,34,567'\u001b[0m\u001b[1;33m)\u001b[0m\u001b[1;33m\u001b[0m\u001b[1;33m\u001b[0m\u001b[0m\n\u001b[1;32m----> 5\u001b[1;33m \u001b[0mmo\u001b[0m\u001b[1;33m.\u001b[0m\u001b[0mgroup\u001b[0m\u001b[1;33m(\u001b[0m\u001b[1;33m)\u001b[0m\u001b[1;33m\u001b[0m\u001b[1;33m\u001b[0m\u001b[0m\n\u001b[0m",
      "\u001b[1;31mAttributeError\u001b[0m: 'NoneType' object has no attribute 'group'"
     ]
    }
   ],
   "source": [
    "#This progarm for not the following\n",
    "\n",
    "reg = re.compile(r'^\\d{1,3}(,\\d{3})*$')\n",
    "mo = reg.search('12,34,567')\n",
    "mo.group()"
   ]
  },
  {
   "cell_type": "markdown",
   "id": "00f4445a",
   "metadata": {},
   "source": [
    "**Q21** How would you write a regex that matches the full name of someone whose last name is Watanabe? You can assume that the first name that comes before it will always be one word that begins with a capital letter. The regex must match the following :\n",
    "\n",
    "'Haruto Watanabe'\n",
    "\n",
    "    'Alice Watanabe'\n",
    "    \n",
    "    'RoboCop Watanabe'\n",
    "\n",
    "but not the following :\n",
    "\n",
    "'haruto Watanabe' (where the first name is not capitalized)\n",
    "\n",
    "    'Mr. Watanabe' (where the preceding word has a nonletter character)\n",
    "    \n",
    "    'Watanabe' (which has no first name)\n",
    "    \n",
    "    'Haruto watanabe' (where Watanabe is not capitalized)\n",
    "\n",
    "**Answer**:-"
   ]
  },
  {
   "cell_type": "code",
   "execution_count": 9,
   "id": "25381ff1",
   "metadata": {},
   "outputs": [
    {
     "data": {
      "text/plain": [
       "'Haruto Watanabe'"
      ]
     },
     "execution_count": 9,
     "metadata": {},
     "output_type": "execute_result"
    }
   ],
   "source": [
    "name = re.compile(r'[A-Z][a-z]*\\sWatanabe')\n",
    "reg = re.compile(r'^\\d{1,3}(,\\d{haruto Watanabe3})*$')\n",
    "mo1 = name.search('Haruto Watanabe')\n",
    "mo1.group()"
   ]
  },
  {
   "cell_type": "code",
   "execution_count": 10,
   "id": "6e88cd04",
   "metadata": {},
   "outputs": [
    {
     "data": {
      "text/plain": [
       "'Alice Watanabe'"
      ]
     },
     "execution_count": 10,
     "metadata": {},
     "output_type": "execute_result"
    }
   ],
   "source": [
    "name = re.compile(r'[A-Z][a-z]*\\sWatanabe')\n",
    "reg = re.compile(r'^\\d{1,3}(,\\d{3})*$')\n",
    "mo2 = name.search('Alice Watanabe')\n",
    "mo2.group()"
   ]
  },
  {
   "cell_type": "code",
   "execution_count": 11,
   "id": "8ba8d39e",
   "metadata": {},
   "outputs": [
    {
     "data": {
      "text/plain": [
       "'Robocop Watanabe'"
      ]
     },
     "execution_count": 11,
     "metadata": {},
     "output_type": "execute_result"
    }
   ],
   "source": [
    "name = re.compile(r'[A-Z][a-z]*\\sWatanabe')\n",
    "reg = re.compile(r'^\\d{1,3}(,\\d{3})*$')\n",
    "mo3 = name.search('Robocop Watanabe')\n",
    "mo3.group()"
   ]
  },
  {
   "cell_type": "code",
   "execution_count": 12,
   "id": "a56074f7",
   "metadata": {},
   "outputs": [
    {
     "ename": "AttributeError",
     "evalue": "'NoneType' object has no attribute 'group'",
     "output_type": "error",
     "traceback": [
      "\u001b[1;31m---------------------------------------------------------------------------\u001b[0m",
      "\u001b[1;31mAttributeError\u001b[0m                            Traceback (most recent call last)",
      "\u001b[1;32m~\\AppData\\Local\\Temp/ipykernel_1388/2720553402.py\u001b[0m in \u001b[0;36m<module>\u001b[1;34m\u001b[0m\n\u001b[0;32m      4\u001b[0m \u001b[0mreg\u001b[0m \u001b[1;33m=\u001b[0m \u001b[0mre\u001b[0m\u001b[1;33m.\u001b[0m\u001b[0mcompile\u001b[0m\u001b[1;33m(\u001b[0m\u001b[1;34mr'^\\d{1,3}(,\\d{3})*$'\u001b[0m\u001b[1;33m)\u001b[0m\u001b[1;33m\u001b[0m\u001b[1;33m\u001b[0m\u001b[0m\n\u001b[0;32m      5\u001b[0m \u001b[0mmo4\u001b[0m \u001b[1;33m=\u001b[0m \u001b[0mname\u001b[0m\u001b[1;33m.\u001b[0m\u001b[0msearch\u001b[0m\u001b[1;33m(\u001b[0m\u001b[1;34m'haruto Watanabe'\u001b[0m\u001b[1;33m)\u001b[0m\u001b[1;33m\u001b[0m\u001b[1;33m\u001b[0m\u001b[0m\n\u001b[1;32m----> 6\u001b[1;33m \u001b[0mmo4\u001b[0m\u001b[1;33m.\u001b[0m\u001b[0mgroup\u001b[0m\u001b[1;33m(\u001b[0m\u001b[1;33m)\u001b[0m\u001b[1;33m\u001b[0m\u001b[1;33m\u001b[0m\u001b[0m\n\u001b[0m",
      "\u001b[1;31mAttributeError\u001b[0m: 'NoneType' object has no attribute 'group'"
     ]
    }
   ],
   "source": [
    "#This progarm for not the following\n",
    "\n",
    "name = re.compile(r'[A-Z][a-z]*\\sWatanabe')\n",
    "reg = re.compile(r'^\\d{1,3}(,\\d{3})*$')\n",
    "mo4 = name.search('haruto Watanabe')\n",
    "mo4.group()"
   ]
  },
  {
   "cell_type": "markdown",
   "id": "6c713057",
   "metadata": {},
   "source": [
    "**Q**22. How would you write a regex that matches a sentence where the first word is either Alice, Bob, or Carol; the second word is either eats, pets, or throws; the third word is apples, cats, or baseballs; and the sentence ends with a period? This regex should be case-insensitive. It must match the following :\n",
    "\n",
    "'Alice eats apples.'\n",
    "\n",
    "    'Bob pets cats.'\n",
    "    \n",
    "    'Carol throws baseballs.'\n",
    "    \n",
    "    'Alice throws Apples.'\n",
    "    \n",
    "    'BOB EATS CATS.'\n",
    "\n",
    "but not the following :\n",
    "\n",
    "'RoboCop eats apples.'\n",
    "\n",
    "    'ALICE THROWS FOOTBALLS.'\n",
    "    \n",
    "    'Carol eats 7 cats.'\n",
    "\n",
    "**Answer**:-"
   ]
  },
  {
   "cell_type": "code",
   "execution_count": 13,
   "id": "beca642c",
   "metadata": {},
   "outputs": [
    {
     "data": {
      "text/plain": [
       "'Alice eats apples.'"
      ]
     },
     "execution_count": 13,
     "metadata": {},
     "output_type": "execute_result"
    }
   ],
   "source": [
    "name = re.compile(r'(Alice|Bob|Carol)\\s(eats|pets|throws)\\s(apples|cats|baseballs)\\.', re.IGNORECASE)\n",
    "\n",
    "mo1 = name.search('Alice eats apples.')\n",
    "mo1.group()"
   ]
  },
  {
   "cell_type": "code",
   "execution_count": 14,
   "id": "3fb9847a",
   "metadata": {},
   "outputs": [
    {
     "data": {
      "text/plain": [
       "'Bob pets cats.'"
      ]
     },
     "execution_count": 14,
     "metadata": {},
     "output_type": "execute_result"
    }
   ],
   "source": [
    "name = re.compile(r'(Alice|Bob|Carol)\\s(eats|pets|throws)\\s(apples|cats|baseballs)\\.', re.IGNORECASE)\n",
    "\n",
    "mo2 = name.search('Bob pets cats.')\n",
    "mo2.group()"
   ]
  },
  {
   "cell_type": "code",
   "execution_count": 15,
   "id": "74e2cb1d",
   "metadata": {},
   "outputs": [
    {
     "data": {
      "text/plain": [
       "'Carol throws baseballs.'"
      ]
     },
     "execution_count": 15,
     "metadata": {},
     "output_type": "execute_result"
    }
   ],
   "source": [
    "name = re.compile(r'(Alice|Bob|Carol)\\s(eats|pets|throws)\\s(apples|cats|baseballs)\\.', re.IGNORECASE)\n",
    "\n",
    "mo3 = name.search('Carol throws baseballs.')\n",
    "mo3.group()"
   ]
  },
  {
   "cell_type": "code",
   "execution_count": 16,
   "id": "1a23910d",
   "metadata": {},
   "outputs": [
    {
     "data": {
      "text/plain": [
       "'Alice throws Apples.'"
      ]
     },
     "execution_count": 16,
     "metadata": {},
     "output_type": "execute_result"
    }
   ],
   "source": [
    "name = re.compile(r'(Alice|Bob|Carol)\\s(eats|pets|throws)\\s(apples|cats|baseballs)\\.', re.IGNORECASE)\n",
    "\n",
    "mo4 = name.search('Alice throws Apples.')\n",
    "mo4.group()"
   ]
  },
  {
   "cell_type": "code",
   "execution_count": 17,
   "id": "0d8de879",
   "metadata": {},
   "outputs": [
    {
     "data": {
      "text/plain": [
       "'BOB EATS CATS.'"
      ]
     },
     "execution_count": 17,
     "metadata": {},
     "output_type": "execute_result"
    }
   ],
   "source": [
    "name = re.compile(r'(Alice|Bob|Carol)\\s(eats|pets|throws)\\s(apples|cats|baseballs)\\.', re.IGNORECASE)\n",
    "\n",
    "mo5 = name.search('BOB EATS CATS.')\n",
    "mo5.group()"
   ]
  },
  {
   "cell_type": "code",
   "execution_count": 18,
   "id": "94bd7ead",
   "metadata": {},
   "outputs": [
    {
     "ename": "AttributeError",
     "evalue": "'NoneType' object has no attribute 'group'",
     "output_type": "error",
     "traceback": [
      "\u001b[1;31m---------------------------------------------------------------------------\u001b[0m",
      "\u001b[1;31mAttributeError\u001b[0m                            Traceback (most recent call last)",
      "\u001b[1;32m~\\AppData\\Local\\Temp/ipykernel_1388/4007721890.py\u001b[0m in \u001b[0;36m<module>\u001b[1;34m\u001b[0m\n\u001b[0;32m      4\u001b[0m \u001b[1;33m\u001b[0m\u001b[0m\n\u001b[0;32m      5\u001b[0m \u001b[0mmo1\u001b[0m \u001b[1;33m=\u001b[0m \u001b[0mname\u001b[0m\u001b[1;33m.\u001b[0m\u001b[0msearch\u001b[0m\u001b[1;33m(\u001b[0m\u001b[1;34m'RoboCop eats apples.'\u001b[0m\u001b[1;33m)\u001b[0m\u001b[1;33m\u001b[0m\u001b[1;33m\u001b[0m\u001b[0m\n\u001b[1;32m----> 6\u001b[1;33m \u001b[0mmo1\u001b[0m\u001b[1;33m.\u001b[0m\u001b[0mgroup\u001b[0m\u001b[1;33m(\u001b[0m\u001b[1;33m)\u001b[0m\u001b[1;33m\u001b[0m\u001b[1;33m\u001b[0m\u001b[0m\n\u001b[0m",
      "\u001b[1;31mAttributeError\u001b[0m: 'NoneType' object has no attribute 'group'"
     ]
    }
   ],
   "source": [
    "#This progarm for not the following\n",
    "\n",
    "name = re.compile(r'(Alice|Bob|Carol)\\s(eats|pets|throws)\\s(apples|cats|baseballs)\\.', re.IGNORECASE)\n",
    "\n",
    "mo1 = name.search('RoboCop eats apples.')\n",
    "mo1.group()"
   ]
  },
  {
   "cell_type": "code",
   "execution_count": null,
   "id": "901067aa",
   "metadata": {},
   "outputs": [],
   "source": []
  },
  {
   "cell_type": "code",
   "execution_count": null,
   "id": "1d3acc43",
   "metadata": {},
   "outputs": [],
   "source": []
  },
  {
   "cell_type": "code",
   "execution_count": null,
   "id": "ed7a07bb",
   "metadata": {},
   "outputs": [],
   "source": []
  }
 ],
 "metadata": {
  "kernelspec": {
   "display_name": "Python 3 (ipykernel)",
   "language": "python",
   "name": "python3"
  },
  "language_info": {
   "codemirror_mode": {
    "name": "ipython",
    "version": 3
   },
   "file_extension": ".py",
   "mimetype": "text/x-python",
   "name": "python",
   "nbconvert_exporter": "python",
   "pygments_lexer": "ipython3",
   "version": "3.9.7"
  }
 },
 "nbformat": 4,
 "nbformat_minor": 5
}
