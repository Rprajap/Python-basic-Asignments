{
 "cells": [
  {
   "cell_type": "markdown",
   "id": "4318ca9d",
   "metadata": {},
   "source": [
    "1. What are escape characters, and how do you use them?"
   ]
  },
  {
   "cell_type": "markdown",
   "id": "c3e4b97d",
   "metadata": {},
   "source": [
    "Answer:-"
   ]
  },
  {
   "cell_type": "markdown",
   "id": "15e1b7ab",
   "metadata": {},
   "source": [
    "An escape character is a backslash \\ followed by the character you want to insert. To insert characters that are illegal in a string we use escape character to do so.\n",
    "\n",
    "Example:-"
   ]
  },
  {
   "cell_type": "code",
   "execution_count": 1,
   "id": "db2c089b",
   "metadata": {},
   "outputs": [
    {
     "ename": "SyntaxError",
     "evalue": "invalid syntax (Temp/ipykernel_10864/7934146.py, line 1)",
     "output_type": "error",
     "traceback": [
      "\u001b[1;36m  File \u001b[1;32m\"C:\\Users\\Ramdas\\AppData\\Local\\Temp/ipykernel_10864/7934146.py\"\u001b[1;36m, line \u001b[1;32m1\u001b[0m\n\u001b[1;33m    txt = \"We are the so-called \"Vikings\" from the north.\"\u001b[0m\n\u001b[1;37m                                 ^\u001b[0m\n\u001b[1;31mSyntaxError\u001b[0m\u001b[1;31m:\u001b[0m invalid syntax\n"
     ]
    }
   ],
   "source": [
    "txt = \"We are the so-called \"Vikings\" from the north.\""
   ]
  },
  {
   "cell_type": "markdown",
   "id": "77326f0b",
   "metadata": {},
   "source": [
    "to fix above problem we use backslash(\\)\n"
   ]
  },
  {
   "cell_type": "code",
   "execution_count": 3,
   "id": "eb53bd18",
   "metadata": {},
   "outputs": [],
   "source": [
    "txt = \"We are the so-called \\\"Vikings\\\" from the north.\""
   ]
  },
  {
   "cell_type": "markdown",
   "id": "3b59c5eb",
   "metadata": {},
   "source": [
    "2. What do the escape characters n and t stand for?"
   ]
  },
  {
   "cell_type": "markdown",
   "id": "34de0949",
   "metadata": {},
   "source": [
    "Answer:-"
   ]
  },
  {
   "cell_type": "markdown",
   "id": "f40580a2",
   "metadata": {},
   "source": [
    "|Code |  Result |\n",
    "| ---- | ---- |\n",
    "| \\n| New Line |\n",
    "| \\t | Tab |\n",
    "\n"
   ]
  },
  {
   "cell_type": "markdown",
   "id": "8b17d12c",
   "metadata": {},
   "source": [
    "Example:-"
   ]
  },
  {
   "cell_type": "code",
   "execution_count": 7,
   "id": "9fbb5b4c",
   "metadata": {},
   "outputs": [
    {
     "name": "stdout",
     "output_type": "stream",
     "text": [
      "Ineuron courses are affordable\n",
      "They help in carier transition\n"
     ]
    }
   ],
   "source": [
    "txt=\"Ineuron courses are affordable\\nThey help in carier transition\"\n",
    "print(txt)"
   ]
  },
  {
   "cell_type": "code",
   "execution_count": 8,
   "id": "f0bf6fb5",
   "metadata": {},
   "outputs": [
    {
     "name": "stdout",
     "output_type": "stream",
     "text": [
      "Ineuron courses are affordable\tThey help in carier transition\n"
     ]
    }
   ],
   "source": [
    "txt1=\"Ineuron courses are affordable\\tThey help in carier transition\"\n",
    "print(txt1)"
   ]
  },
  {
   "cell_type": "markdown",
   "id": "f146b755",
   "metadata": {},
   "source": [
    "3. What is the way to include backslash characters in a string?"
   ]
  },
  {
   "cell_type": "markdown",
   "id": "f42bf633",
   "metadata": {},
   "source": [
    "Answer:- \n",
    "\n",
    "To insert backslash character in string we use \\b character"
   ]
  },
  {
   "cell_type": "markdown",
   "id": "21941678",
   "metadata": {},
   "source": [
    "Example:-"
   ]
  },
  {
   "cell_type": "code",
   "execution_count": 10,
   "id": "4884b3fa",
   "metadata": {},
   "outputs": [
    {
     "name": "stdout",
     "output_type": "stream",
     "text": [
      "Ineuron courses are affordable\bThey help in carier transition\n"
     ]
    }
   ],
   "source": [
    "txt2=\"Ineuron courses are affordable\\bThey help in carier transition\"\n",
    "print(txt2)"
   ]
  },
  {
   "cell_type": "markdown",
   "id": "314f1733",
   "metadata": {},
   "source": [
    "4. The string \"Howl's Moving Castle\" is a correct value. Why isn't the single quote character in the word Howl's not escaped a problem?"
   ]
  },
  {
   "cell_type": "code",
   "execution_count": 11,
   "id": "968656e6",
   "metadata": {},
   "outputs": [
    {
     "name": "stdout",
     "output_type": "stream",
     "text": [
      "Howl's Moving Castle\n"
     ]
    }
   ],
   "source": [
    "string= \"Howl's Moving Castle\"\n",
    "\n",
    "print(string)"
   ]
  },
  {
   "cell_type": "markdown",
   "id": "a1d325eb",
   "metadata": {},
   "source": [
    "In this string  \"Howl's Moving Castle\" Howl's not escaped a problem beacuse double quote is mentioned at begining and end of string."
   ]
  },
  {
   "cell_type": "markdown",
   "id": "3e044241",
   "metadata": {},
   "source": [
    "5. How do you write a string of newlines if you don't want to use the n character?"
   ]
  },
  {
   "cell_type": "markdown",
   "id": "9cabeda9",
   "metadata": {},
   "source": [
    "Answer:-"
   ]
  },
  {
   "cell_type": "markdown",
   "id": "ede11d97",
   "metadata": {},
   "source": [
    "one can use triple quote(\"\"\"  \"\"\") to write a multiline string without n character"
   ]
  },
  {
   "cell_type": "markdown",
   "id": "ce86002b",
   "metadata": {},
   "source": [
    "\"\"\"Infeuron is Good Educational institute\n",
    "it provide costeffection courses\n",
    "\"\"\""
   ]
  },
  {
   "cell_type": "markdown",
   "id": "77b306c6",
   "metadata": {},
   "source": [
    "6. What are the values of the given expressions?\n",
    "\n",
    "'Hello, world!'[1]\n",
    "\n",
    "'Hello, world!'[0:5]\n",
    "\n",
    "'Hello, world!'[:5]\n",
    "\n",
    "'Hello, world!'[3:]\n"
   ]
  },
  {
   "cell_type": "markdown",
   "id": "e3c9bacc",
   "metadata": {},
   "source": [
    "Answer\"-"
   ]
  },
  {
   "cell_type": "code",
   "execution_count": 12,
   "id": "218cf913",
   "metadata": {},
   "outputs": [
    {
     "name": "stdout",
     "output_type": "stream",
     "text": [
      "e\n",
      "Hello\n",
      "Hello\n",
      "lo, world!\n"
     ]
    }
   ],
   "source": [
    "'Hello, world!'\n",
    "print('Hello, world!'[1]) # print character at indes at 1 index\n",
    "print('Hello, world!'[0:5]) # print character start at o index to index 5-1\n",
    "print('Hello, world!'[:5]) # print character start at o index to index 5-1  here defoult begining index is 0\n",
    "print('Hello, world!'[3:]) # print character start at 3 index to index len(string)-1 index"
   ]
  },
  {
   "cell_type": "markdown",
   "id": "1f9b4292",
   "metadata": {},
   "source": [
    "7. What are the values of the following expressions?\n",
    "\n",
    "'Hello'.upper()\n",
    "\n",
    "'Hello'.upper().isupper()\n",
    "\n",
    "'Hello'.upper().lower()\n"
   ]
  },
  {
   "cell_type": "markdown",
   "id": "27257fad",
   "metadata": {},
   "source": [
    "Answer:-"
   ]
  },
  {
   "cell_type": "code",
   "execution_count": 15,
   "id": "7dd082c5",
   "metadata": {},
   "outputs": [
    {
     "name": "stdout",
     "output_type": "stream",
     "text": [
      "HELLO\n",
      "HELLO\n",
      "True\n",
      "hello\n"
     ]
    }
   ],
   "source": [
    "print('Hello'.upper()) \n",
    "\n",
    "print('Hello'.upper().isupper())\n",
    "\n",
    "print('Hello'.upper().lower())\n"
   ]
  },
  {
   "cell_type": "markdown",
   "id": "03103568",
   "metadata": {},
   "source": [
    "8. What are the values of the following expressions?\n",
    "\n",
    "'Remember, remember, the fifth of July.'.split()\n",
    "\n",
    "'-'.join('There can only one.'.split())\n"
   ]
  },
  {
   "cell_type": "markdown",
   "id": "5013f6cf",
   "metadata": {},
   "source": [
    "Answer:- \n",
    "* Split() split a  string into a list where each word is a list item\n",
    "\n",
    "* Join() Join all items in a tuple into a string, using any separator."
   ]
  },
  {
   "cell_type": "code",
   "execution_count": 16,
   "id": "ea8d90a9",
   "metadata": {},
   "outputs": [
    {
     "data": {
      "text/plain": [
       "['Remember,', 'remember,', 'the', 'fifth', 'of', 'July.']"
      ]
     },
     "execution_count": 16,
     "metadata": {},
     "output_type": "execute_result"
    }
   ],
   "source": [
    "'Remember, remember, the fifth of July.'.split() "
   ]
  },
  {
   "cell_type": "code",
   "execution_count": 17,
   "id": "7c2674d2",
   "metadata": {},
   "outputs": [
    {
     "data": {
      "text/plain": [
       "'There-can-only-one.'"
      ]
     },
     "execution_count": 17,
     "metadata": {},
     "output_type": "execute_result"
    }
   ],
   "source": [
    "'-'.join('There can only one.'.split()) # first split string into tuple and then join all value with '-'  character."
   ]
  },
  {
   "cell_type": "markdown",
   "id": "fa114183",
   "metadata": {},
   "source": [
    "9. What are the methods for right-justifying, left-justifying, and centering a string?"
   ]
  },
  {
   "cell_type": "markdown",
   "id": "a55f21a5",
   "metadata": {},
   "source": [
    "Answer:-"
   ]
  },
  {
   "cell_type": "markdown",
   "id": "292b5684",
   "metadata": {},
   "source": [
    "str.ljust(), str.rjust(),str.center() these function are left-justify, right-justify andcenter a string in a field of given width. They return a string that is at least width characters wide, created by padding the string s with the character fillchar (default is a space) until the given width on the right, left or both sides. The string is never truncated."
   ]
  },
  {
   "cell_type": "markdown",
   "id": "f7e782e2",
   "metadata": {},
   "source": [
    "Example:-"
   ]
  },
  {
   "cell_type": "code",
   "execution_count": 8,
   "id": "234399e8",
   "metadata": {},
   "outputs": [],
   "source": [
    "str=\"Ineruron is tech company\""
   ]
  },
  {
   "cell_type": "code",
   "execution_count": 9,
   "id": "50284b3a",
   "metadata": {},
   "outputs": [
    {
     "data": {
      "text/plain": [
       "'        Ineruron is tech company        '"
      ]
     },
     "execution_count": 9,
     "metadata": {},
     "output_type": "execute_result"
    }
   ],
   "source": [
    "# center()\n",
    "str.center(40)"
   ]
  },
  {
   "cell_type": "code",
   "execution_count": 10,
   "id": "9f696ad3",
   "metadata": {},
   "outputs": [
    {
     "data": {
      "text/plain": [
       "'********Ineruron is tech company********'"
      ]
     },
     "execution_count": 10,
     "metadata": {},
     "output_type": "execute_result"
    }
   ],
   "source": [
    "# center() with fillchar\n",
    "str.center(40,'*')"
   ]
  },
  {
   "cell_type": "code",
   "execution_count": 12,
   "id": "b150cdf0",
   "metadata": {},
   "outputs": [
    {
     "data": {
      "text/plain": [
       "'Ineruron is tech company                '"
      ]
     },
     "execution_count": 12,
     "metadata": {},
     "output_type": "execute_result"
    }
   ],
   "source": [
    "# left allignment of string\n",
    "str.ljust(40)"
   ]
  },
  {
   "cell_type": "code",
   "execution_count": 13,
   "id": "93f58a08",
   "metadata": {},
   "outputs": [
    {
     "data": {
      "text/plain": [
       "'                Ineruron is tech company'"
      ]
     },
     "execution_count": 13,
     "metadata": {},
     "output_type": "execute_result"
    }
   ],
   "source": [
    "# Right allignment of string\n",
    "\n",
    "str.rjust(40)"
   ]
  },
  {
   "cell_type": "markdown",
   "id": "6b1d3e47",
   "metadata": {},
   "source": [
    "10. What is the best way to remove whitespace characters from the start or end?"
   ]
  },
  {
   "cell_type": "markdown",
   "id": "2b93fb7d",
   "metadata": {},
   "source": [
    "Answer:- "
   ]
  },
  {
   "cell_type": "markdown",
   "id": "2b6262c7",
   "metadata": {},
   "source": [
    "The strip method removes the spaces on both sides of the string (leading and trailing) and returns a copy of that string."
   ]
  },
  {
   "cell_type": "markdown",
   "id": "a8a4ee36",
   "metadata": {},
   "source": [
    "Example:-"
   ]
  },
  {
   "cell_type": "code",
   "execution_count": 18,
   "id": "2202cda1",
   "metadata": {},
   "outputs": [
    {
     "name": "stdout",
     "output_type": "stream",
     "text": [
      "   Ineuron provide affordable and quality education      \n",
      "Ineuron provide affordable and quality education\n"
     ]
    }
   ],
   "source": [
    "str=\"   Ineuron provide affordable and quality education      \"\n",
    "print(str)\n",
    "\n",
    "str1=str.strip()\n",
    "print(str1)"
   ]
  },
  {
   "cell_type": "code",
   "execution_count": null,
   "id": "3f10d4f2",
   "metadata": {},
   "outputs": [],
   "source": []
  },
  {
   "cell_type": "code",
   "execution_count": null,
   "id": "75d8e2af",
   "metadata": {},
   "outputs": [],
   "source": []
  },
  {
   "cell_type": "code",
   "execution_count": null,
   "id": "10c15333",
   "metadata": {},
   "outputs": [],
   "source": []
  },
  {
   "cell_type": "code",
   "execution_count": null,
   "id": "821384f2",
   "metadata": {},
   "outputs": [],
   "source": []
  },
  {
   "cell_type": "code",
   "execution_count": null,
   "id": "db495f27",
   "metadata": {},
   "outputs": [],
   "source": []
  },
  {
   "cell_type": "code",
   "execution_count": null,
   "id": "1b8bdbdf",
   "metadata": {},
   "outputs": [],
   "source": []
  },
  {
   "cell_type": "code",
   "execution_count": null,
   "id": "6c53d009",
   "metadata": {},
   "outputs": [],
   "source": []
  },
  {
   "cell_type": "code",
   "execution_count": null,
   "id": "9116647a",
   "metadata": {},
   "outputs": [],
   "source": []
  },
  {
   "cell_type": "code",
   "execution_count": null,
   "id": "99e5e7cb",
   "metadata": {},
   "outputs": [],
   "source": []
  },
  {
   "cell_type": "code",
   "execution_count": null,
   "id": "85d0b642",
   "metadata": {},
   "outputs": [],
   "source": []
  },
  {
   "cell_type": "code",
   "execution_count": null,
   "id": "21b6bae9",
   "metadata": {},
   "outputs": [],
   "source": []
  },
  {
   "cell_type": "code",
   "execution_count": null,
   "id": "5e8f93d5",
   "metadata": {},
   "outputs": [],
   "source": []
  },
  {
   "cell_type": "code",
   "execution_count": null,
   "id": "b19d827c",
   "metadata": {},
   "outputs": [],
   "source": []
  },
  {
   "cell_type": "code",
   "execution_count": null,
   "id": "bbabe028",
   "metadata": {},
   "outputs": [],
   "source": []
  },
  {
   "cell_type": "code",
   "execution_count": null,
   "id": "8ca458cb",
   "metadata": {},
   "outputs": [],
   "source": []
  },
  {
   "cell_type": "code",
   "execution_count": null,
   "id": "082f1166",
   "metadata": {},
   "outputs": [],
   "source": []
  }
 ],
 "metadata": {
  "kernelspec": {
   "display_name": "Python 3 (ipykernel)",
   "language": "python",
   "name": "python3"
  },
  "language_info": {
   "codemirror_mode": {
    "name": "ipython",
    "version": 3
   },
   "file_extension": ".py",
   "mimetype": "text/x-python",
   "name": "python",
   "nbconvert_exporter": "python",
   "pygments_lexer": "ipython3",
   "version": "3.9.7"
  }
 },
 "nbformat": 4,
 "nbformat_minor": 5
}
