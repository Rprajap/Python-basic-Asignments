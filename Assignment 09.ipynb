{
 "cells": [
  {
   "cell_type": "markdown",
   "id": "51e467ef",
   "metadata": {},
   "source": [
    "**Q.1** To what does a relative path refer?\n",
    "\n",
    "**Answer :-**\n",
    "\n",
    "Relative path is the path of a file with respect to your current working directory(pwd()).\n"
   ]
  },
  {
   "cell_type": "markdown",
   "id": "cb3c1e6f",
   "metadata": {},
   "source": [
    "**Q.2** What does an absolute path start with your operating system?\n",
    "\n",
    "**Answer :-**\n",
    "\n",
    "An absolute, or full, path begins with a drive letter followed by a colon, such as D:.\n",
    "\n",
    "eg. D:\\python program\\ineuron lecture.\n"
   ]
  },
  {
   "cell_type": "markdown",
   "id": "cc155997",
   "metadata": {},
   "source": [
    "**Q.3** What do the functions os.getcwd() and os.chdir() do?\n",
    "\n",
    "**Answer :-**\n",
    "\n",
    "   * os.getcwd() :CWD stands for Current Working Directory. This function allows you to see what your current working directory is. \n",
    "   *  os.chdir() :  This function allows you to set the current working directory to a path of your choice."
   ]
  },
  {
   "cell_type": "markdown",
   "id": "172ab79c",
   "metadata": {},
   "source": [
    "**Q.4** What are the . and .. folders?\n",
    "\n",
    "**Answer :-**\n",
    "\n",
    "Relative paths make use of two special symbols, a dot (.) and a double-dot (..), which translate into the current directory and the parent directory. Double dots are used for moving up in the hierarchy. A single dot represents the current directory itself.\n"
   ]
  },
  {
   "cell_type": "markdown",
   "id": "80b55307",
   "metadata": {},
   "source": [
    "**Q.5** In C:\\bacon\\eggs\\spam.txt, which part is the dir name, and which part is the base name?\n",
    "\n",
    "**Answer :-**\n",
    "\n",
    "From C:\\bacon\\eggs\\spam.txt, C:\\bacon\\eggs is dir name and spam.txt is base name.\n",
    "\n",
    "By using os.path.basename() can be used to extract base name from the path and os.path.dirname() can be used to extract dir name form path.\n"
   ]
  },
  {
   "cell_type": "markdown",
   "id": "3aaff49e",
   "metadata": {},
   "source": [
    "**Q.6** What are the three “mode” arguments that can be passed to the open() function?\n",
    "\n",
    "**Answer :-**\n",
    "\n",
    "The three “mode” arguments that can be passed to the open() function is :\n",
    "\n",
    "    * String 'r' for read mode\n",
    "    * String 'w' for write mode\n",
    "    * String 'a'  for append mode\n",
    "\n"
   ]
  },
  {
   "cell_type": "markdown",
   "id": "d200031a",
   "metadata": {},
   "source": [
    "**Q.7** What happens if an existing file is opened in write mode?\n",
    "\n",
    "**Answer :-**\n",
    "\n",
    "When a existing file is opened in write mode, contens which were previously present will be overwritten by new content passed.\n"
   ]
  },
  {
   "cell_type": "markdown",
   "id": "857738ca",
   "metadata": {},
   "source": [
    "**Q.8** How do you tell the difference between read() and readlines()?\n",
    "\n",
    "**Answer :-**\n",
    "   \n",
    "   * read() method returns the file’s entire contents as a single string value.\n",
    "\n",
    "   * readlines() method returns a list of strings, where each string is a line from the file’s contents."
   ]
  },
  {
   "cell_type": "markdown",
   "id": "485cb8bf",
   "metadata": {},
   "source": [
    "**Q.9** What data structure does a shelf value resemble?\n",
    "\n",
    "**Answer :-**\n",
    "\n",
    "A shelf value resembles a dictionary value; it has keys and values, along with keys() and values() methods that work similarly to the dictionary methods of the same names\n"
   ]
  }
 ],
 "metadata": {
  "kernelspec": {
   "display_name": "Python 3 (ipykernel)",
   "language": "python",
   "name": "python3"
  },
  "language_info": {
   "codemirror_mode": {
    "name": "ipython",
    "version": 3
   },
   "file_extension": ".py",
   "mimetype": "text/x-python",
   "name": "python",
   "nbconvert_exporter": "python",
   "pygments_lexer": "ipython3",
   "version": "3.9.7"
  }
 },
 "nbformat": 4,
 "nbformat_minor": 5
}
