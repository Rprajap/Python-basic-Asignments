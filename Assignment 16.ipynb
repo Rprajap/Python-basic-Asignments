{
 "cells": [
  {
   "cell_type": "markdown",
   "id": "9b55f0c7",
   "metadata": {},
   "source": [
    "**Q1**. Create a list called years_list, starting with the year of your birth, and each year thereafter until the year of your fifth birthday. For example, if you were born in 1980. the list would be years_list = [1980, 1981, 1982, 1983, 1984, 1985].\n",
    "\n",
    "**Answer :-**"
   ]
  },
  {
   "cell_type": "code",
   "execution_count": 1,
   "id": "9a96bb69",
   "metadata": {},
   "outputs": [],
   "source": [
    "years_list = [1980, 1981, 1982, 1983, 1984, 1985]"
   ]
  },
  {
   "cell_type": "markdown",
   "id": "0c084585",
   "metadata": {},
   "source": [
    "**Q2**. In which year in years_list was your third birthday? Remember, you were 0 years of age for your first year.\n",
    "\n",
    "**Answer :-**\n"
   ]
  },
  {
   "cell_type": "code",
   "execution_count": 2,
   "id": "3a56e636",
   "metadata": {},
   "outputs": [
    {
     "data": {
      "text/plain": [
       "1982"
      ]
     },
     "execution_count": 2,
     "metadata": {},
     "output_type": "execute_result"
    }
   ],
   "source": [
    "years_list[2]"
   ]
  },
  {
   "cell_type": "markdown",
   "id": "4714fa6f",
   "metadata": {},
   "source": [
    "**Q3**. In the years list, which year were you the oldest?\n",
    "\n",
    "**Answer :-**"
   ]
  },
  {
   "cell_type": "code",
   "execution_count": 3,
   "id": "ca72823e",
   "metadata": {},
   "outputs": [
    {
     "data": {
      "text/plain": [
       "5"
      ]
     },
     "execution_count": 3,
     "metadata": {},
     "output_type": "execute_result"
    }
   ],
   "source": [
    "len(years_list)-1"
   ]
  },
  {
   "cell_type": "code",
   "execution_count": 4,
   "id": "7feff774",
   "metadata": {},
   "outputs": [
    {
     "data": {
      "text/plain": [
       "1985"
      ]
     },
     "execution_count": 4,
     "metadata": {},
     "output_type": "execute_result"
    }
   ],
   "source": [
    "years_list[len(years_list)-1]"
   ]
  },
  {
   "cell_type": "markdown",
   "id": "90746ef9",
   "metadata": {},
   "source": [
    "**Q4**. Make a list called things with these three strings as elements: \"mozzarella\", \"cinderella\", \"salmonella\".\n",
    "\n",
    "**Answer :-**"
   ]
  },
  {
   "cell_type": "code",
   "execution_count": 5,
   "id": "93e33dca",
   "metadata": {},
   "outputs": [],
   "source": [
    "things = [\"mozzarella\", \"cinderella\", \"salmonella\"]"
   ]
  },
  {
   "cell_type": "markdown",
   "id": "11f1d416",
   "metadata": {},
   "source": [
    "**Q5**. Capitalize the element in things that refers to a person and then print the list. Did it change the element in the list?\n",
    "\n",
    "**Answer :-**"
   ]
  },
  {
   "cell_type": "code",
   "execution_count": 6,
   "id": "5f0c7f27",
   "metadata": {},
   "outputs": [
    {
     "name": "stdout",
     "output_type": "stream",
     "text": [
      "Mozzarella\n",
      "Cinderella\n",
      "Salmonella\n"
     ]
    },
    {
     "data": {
      "text/plain": [
       "['mozzarella', 'cinderella', 'salmonella']"
      ]
     },
     "execution_count": 6,
     "metadata": {},
     "output_type": "execute_result"
    }
   ],
   "source": [
    "things = [\"mozzarella\", \"cinderella\", \"salmonella\"]\n",
    "for i in things:\n",
    "    print(i.capitalize())\n",
    "things"
   ]
  },
  {
   "cell_type": "markdown",
   "id": "d02a5fda",
   "metadata": {},
   "source": [
    "Capitalize() the element in things does not changes the elements of the list"
   ]
  },
  {
   "cell_type": "markdown",
   "id": "84db28ad",
   "metadata": {},
   "source": [
    "**Q6**. Make a surprise list with the elements \"Groucho,\" \"Chico,\" and \"Harpo.\"\n",
    "\n",
    "**Answer:-**"
   ]
  },
  {
   "cell_type": "code",
   "execution_count": 7,
   "id": "72bc95a0",
   "metadata": {},
   "outputs": [
    {
     "data": {
      "text/plain": [
       "['Groucho,', 'Chico,', 'Harpo']"
      ]
     },
     "execution_count": 7,
     "metadata": {},
     "output_type": "execute_result"
    }
   ],
   "source": [
    "surprise_list=[\"Groucho,\", \"Chico,\", \"Harpo\"]\n",
    "surprise_list"
   ]
  },
  {
   "cell_type": "markdown",
   "id": "95e06329",
   "metadata": {},
   "source": [
    "**Q7**. Lowercase the last element of the surprise list, reverse it, and then capitalize it.\n",
    "\n",
    "**Answer:-**"
   ]
  },
  {
   "cell_type": "code",
   "execution_count": 8,
   "id": "ac104ec8",
   "metadata": {},
   "outputs": [],
   "source": [
    "surprise_list=[\"Groucho,\", \"Chico,\", \"Harpo\"]"
   ]
  },
  {
   "cell_type": "code",
   "execution_count": 9,
   "id": "ed6a0e5d",
   "metadata": {},
   "outputs": [
    {
     "data": {
      "text/plain": [
       "'harpo'"
      ]
     },
     "execution_count": 9,
     "metadata": {},
     "output_type": "execute_result"
    }
   ],
   "source": [
    "surprise_list[2].lower() # Lowercase the last element of the surprise list"
   ]
  },
  {
   "cell_type": "code",
   "execution_count": 10,
   "id": "dae884b9",
   "metadata": {},
   "outputs": [
    {
     "data": {
      "text/plain": [
       "'opraH'"
      ]
     },
     "execution_count": 10,
     "metadata": {},
     "output_type": "execute_result"
    }
   ],
   "source": [
    "surprise_list[2][::-1] # reverse  Lowercase the last element of the surprise list"
   ]
  },
  {
   "cell_type": "code",
   "execution_count": 11,
   "id": "edcd9a04",
   "metadata": {},
   "outputs": [
    {
     "data": {
      "text/plain": [
       "'Oprah'"
      ]
     },
     "execution_count": 11,
     "metadata": {},
     "output_type": "execute_result"
    }
   ],
   "source": [
    "surprise_list[2][::-1].capitalize()"
   ]
  },
  {
   "cell_type": "markdown",
   "id": "c77e3ef2",
   "metadata": {},
   "source": [
    "**Q8**. Make an English-to-French dictionary called e2f and print it. Here are your starter words: dog is chien, cat is chat, and walrus is morse.\n",
    "    \n",
    " **Answer:-**"
   ]
  },
  {
   "cell_type": "code",
   "execution_count": 12,
   "id": "a80cb9ac",
   "metadata": {},
   "outputs": [
    {
     "name": "stdout",
     "output_type": "stream",
     "text": [
      "{'dog': 'chien', 'cat': 'chat', 'walrus': 'morse'}\n"
     ]
    }
   ],
   "source": [
    "e2f = {'dog':'chien','cat':'chat','walrus':'morse'}\n",
    "print(e2f)"
   ]
  },
  {
   "cell_type": "markdown",
   "id": "1d5f50f7",
   "metadata": {},
   "source": [
    "**Q9**. Write the French word for walrus in your three-word dictionary e2f.\n",
    "\n",
    "**Answer**:-"
   ]
  },
  {
   "cell_type": "code",
   "execution_count": 13,
   "id": "136b1551",
   "metadata": {},
   "outputs": [
    {
     "data": {
      "text/plain": [
       "'morse'"
      ]
     },
     "execution_count": 13,
     "metadata": {},
     "output_type": "execute_result"
    }
   ],
   "source": [
    "e2f['walrus']"
   ]
  },
  {
   "cell_type": "markdown",
   "id": "e221ab00",
   "metadata": {},
   "source": [
    "**Q10**. Make a French-to-English dictionary called f2e from e2f. Use the items method.\n",
    "\n",
    "**Answer :-**"
   ]
  },
  {
   "cell_type": "code",
   "execution_count": 14,
   "id": "439a9937",
   "metadata": {},
   "outputs": [
    {
     "data": {
      "text/plain": [
       "dict_items([('dog', 'chien'), ('cat', 'chat'), ('walrus', 'morse')])"
      ]
     },
     "execution_count": 14,
     "metadata": {},
     "output_type": "execute_result"
    }
   ],
   "source": [
    "e2f = {'dog':'chien','cat':'chat','walrus':'morse'}\n",
    "e2f.items()"
   ]
  },
  {
   "cell_type": "code",
   "execution_count": 15,
   "id": "357121b8",
   "metadata": {},
   "outputs": [],
   "source": [
    "f2e=dict((key,value)  for key,value in e2f.items())"
   ]
  },
  {
   "cell_type": "code",
   "execution_count": 16,
   "id": "ae305f1e",
   "metadata": {},
   "outputs": [
    {
     "data": {
      "text/plain": [
       "{'dog': 'chien', 'cat': 'chat', 'walrus': 'morse'}"
      ]
     },
     "execution_count": 16,
     "metadata": {},
     "output_type": "execute_result"
    }
   ],
   "source": [
    "f2e"
   ]
  },
  {
   "cell_type": "markdown",
   "id": "fce41cb8",
   "metadata": {},
   "source": [
    "**Q11**. Print the English version of the French word chien using f2e.\n",
    "\n",
    "**Answer :-**\n"
   ]
  },
  {
   "cell_type": "code",
   "execution_count": 17,
   "id": "7b1d9f58",
   "metadata": {},
   "outputs": [
    {
     "data": {
      "text/plain": [
       "'chien'"
      ]
     },
     "execution_count": 17,
     "metadata": {},
     "output_type": "execute_result"
    }
   ],
   "source": [
    "f2e['dog']"
   ]
  },
  {
   "cell_type": "markdown",
   "id": "334773d7",
   "metadata": {},
   "source": [
    "**Q12**. Make and print a set of English words from the keys in e2f.\n",
    "\n",
    "**Answer**:-"
   ]
  },
  {
   "cell_type": "code",
   "execution_count": 18,
   "id": "65bfed5b",
   "metadata": {},
   "outputs": [
    {
     "name": "stdout",
     "output_type": "stream",
     "text": [
      "{'dog', 'cat', 'walrus'}\n"
     ]
    }
   ],
   "source": [
    "s=set(e2f.keys())\n",
    "print(s)"
   ]
  },
  {
   "cell_type": "markdown",
   "id": "17bbefae",
   "metadata": {},
   "source": [
    "**Q13**. Make a multilevel dictionary called life. Use these strings for the topmost keys: 'animals', 'plants', and 'other'. Make the 'animals' key refer to another dictionary with the keys 'cats', 'octopi', and 'emus'. Make the 'cats' key refer to a list of strings with the values 'Henri', 'Grumpy', and 'Lucy'. Make all the other keys refer to empty dictionaries.\n",
    "    \n",
    "**Answer**:-"
   ]
  },
  {
   "cell_type": "code",
   "execution_count": 19,
   "id": "600af4dc",
   "metadata": {},
   "outputs": [],
   "source": [
    "life={\n",
    "    'animals':{'cats':['Henri', 'Grumpy', 'Lucy'], 'octopi':'','emus':''},\n",
    "    'plants':\"\",\n",
    "    'other':\"\"\n",
    "}"
   ]
  },
  {
   "cell_type": "code",
   "execution_count": 20,
   "id": "af06d500",
   "metadata": {},
   "outputs": [
    {
     "data": {
      "text/plain": [
       "{'animals': {'cats': ['Henri', 'Grumpy', 'Lucy'], 'octopi': '', 'emus': ''},\n",
       " 'plants': '',\n",
       " 'other': ''}"
      ]
     },
     "execution_count": 20,
     "metadata": {},
     "output_type": "execute_result"
    }
   ],
   "source": [
    "life"
   ]
  },
  {
   "cell_type": "markdown",
   "id": "ff428338",
   "metadata": {},
   "source": [
    "**Q14**. Print the top-level keys of life\n",
    "\n",
    "**Answer**:-"
   ]
  },
  {
   "cell_type": "code",
   "execution_count": 21,
   "id": "de0746d7",
   "metadata": {},
   "outputs": [
    {
     "data": {
      "text/plain": [
       "dict_keys(['animals', 'plants', 'other'])"
      ]
     },
     "execution_count": 21,
     "metadata": {},
     "output_type": "execute_result"
    }
   ],
   "source": [
    "life={\n",
    "    'animals':{'cats':['Henri', 'Grumpy', 'Lucy'], 'octopi':'','emus':''},\n",
    "    'plants':\"\",\n",
    "    'other':\"\"\n",
    "}\n",
    "\n",
    "life.keys()"
   ]
  },
  {
   "cell_type": "markdown",
   "id": "c392614b",
   "metadata": {},
   "source": [
    "**Q15**. Print the keys for life['animals'].\n",
    "\n",
    "**Answer :-**"
   ]
  },
  {
   "cell_type": "code",
   "execution_count": 22,
   "id": "58532557",
   "metadata": {},
   "outputs": [
    {
     "data": {
      "text/plain": [
       "dict_keys(['cats', 'octopi', 'emus'])"
      ]
     },
     "execution_count": 22,
     "metadata": {},
     "output_type": "execute_result"
    }
   ],
   "source": [
    "life['animals'].keys()"
   ]
  },
  {
   "cell_type": "markdown",
   "id": "6cdcca13",
   "metadata": {},
   "source": [
    "**Q16**. Print the values for life['animals']['cats']\n",
    "\n",
    "**Answer**:-"
   ]
  },
  {
   "cell_type": "code",
   "execution_count": 23,
   "id": "f87d984c",
   "metadata": {},
   "outputs": [
    {
     "data": {
      "text/plain": [
       "['Henri', 'Grumpy', 'Lucy']"
      ]
     },
     "execution_count": 23,
     "metadata": {},
     "output_type": "execute_result"
    }
   ],
   "source": [
    "life['animals']['cats']"
   ]
  }
 ],
 "metadata": {
  "kernelspec": {
   "display_name": "Python 3 (ipykernel)",
   "language": "python",
   "name": "python3"
  },
  "language_info": {
   "codemirror_mode": {
    "name": "ipython",
    "version": 3
   },
   "file_extension": ".py",
   "mimetype": "text/x-python",
   "name": "python",
   "nbconvert_exporter": "python",
   "pygments_lexer": "ipython3",
   "version": "3.9.7"
  }
 },
 "nbformat": 4,
 "nbformat_minor": 5
}
