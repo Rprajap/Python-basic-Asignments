{
 "cells": [
  {
   "cell_type": "markdown",
   "id": "1f559468",
   "metadata": {},
   "source": [
    "**Q1**. Create a zoo.py file first. Define the hours() function, which prints the string 'Open 9-5 daily'. Then, use the interactive interpreter to import the zoo module and call its hours() function.\n",
    "\n",
    "**Answer**:-"
   ]
  },
  {
   "cell_type": "code",
   "execution_count": 1,
   "id": "07d4a1f2",
   "metadata": {},
   "outputs": [
    {
     "data": {
      "text/plain": [
       "'Open 9-5 daily'"
      ]
     },
     "execution_count": 1,
     "metadata": {},
     "output_type": "execute_result"
    }
   ],
   "source": [
    "from Assignmentproject import zoo\n",
    "zoo.hours()"
   ]
  },
  {
   "cell_type": "markdown",
   "id": "a3567e12",
   "metadata": {},
   "source": [
    "**Q2**. In the interactive interpreter, import the zoo module as menagerie and call its hours() function.\n",
    "\n",
    "**Answer**:-"
   ]
  },
  {
   "cell_type": "code",
   "execution_count": 2,
   "id": "fb21b67d",
   "metadata": {},
   "outputs": [],
   "source": [
    "from Assignmentproject import zoo as menagerie"
   ]
  },
  {
   "cell_type": "code",
   "execution_count": 3,
   "id": "03bdfe7b",
   "metadata": {},
   "outputs": [
    {
     "data": {
      "text/plain": [
       "'Open 9-5 daily'"
      ]
     },
     "execution_count": 3,
     "metadata": {},
     "output_type": "execute_result"
    }
   ],
   "source": [
    "menagerie.hours()"
   ]
  },
  {
   "cell_type": "markdown",
   "id": "efd91b07",
   "metadata": {},
   "source": [
    "**Q3**. Using the interpreter, explicitly import and call the hours() function from zoo.\n",
    "\n",
    "**Answer**:-"
   ]
  },
  {
   "cell_type": "code",
   "execution_count": 4,
   "id": "6206fc69",
   "metadata": {},
   "outputs": [
    {
     "data": {
      "text/plain": [
       "'Open 9-5 daily'"
      ]
     },
     "execution_count": 4,
     "metadata": {},
     "output_type": "execute_result"
    }
   ],
   "source": [
    "from Assignmentproject import zoo\n",
    "zoo.hours()"
   ]
  },
  {
   "cell_type": "markdown",
   "id": "63a40340",
   "metadata": {},
   "source": [
    "**Q4**. Import the hours() function as info and call it.\n",
    "\n",
    "**Answer**:-\n",
    "    "
   ]
  },
  {
   "cell_type": "code",
   "execution_count": 5,
   "id": "f985ccea",
   "metadata": {},
   "outputs": [],
   "source": [
    "from Assignmentproject import zoo \n",
    "from zoo import hours as info"
   ]
  },
  {
   "cell_type": "code",
   "execution_count": 6,
   "id": "81d300ce",
   "metadata": {},
   "outputs": [
    {
     "data": {
      "text/plain": [
       "'Open 9-5 daily'"
      ]
     },
     "execution_count": 6,
     "metadata": {},
     "output_type": "execute_result"
    }
   ],
   "source": [
    "from zoo import hours as info\n",
    "info()"
   ]
  },
  {
   "cell_type": "markdown",
   "id": "1e8f62f5",
   "metadata": {},
   "source": [
    "**Q5**. Create a plain dictionary with the key-value pairs 'a': 1, 'b': 2, and 'c': 3, and print it out.\n",
    "            \n",
    "**Answer**:-        "
   ]
  },
  {
   "cell_type": "code",
   "execution_count": 7,
   "id": "b139ae25",
   "metadata": {},
   "outputs": [
    {
     "name": "stdout",
     "output_type": "stream",
     "text": [
      "{'a': 1, 'b': 2, 'c': 3}\n",
      "<class 'dict'>\n"
     ]
    }
   ],
   "source": [
    "plain = {'a': 1, 'b': 2, 'c': 3}\n",
    "print(plain)\n",
    "print(type(plain))"
   ]
  },
  {
   "cell_type": "markdown",
   "id": "428ac730",
   "metadata": {},
   "source": [
    "**Q6**.Make an OrderedDict called fancy from the same pairs listed in 5 and print it. Did it print in the same order as plain?\n",
    "\n",
    "**Answer**:-"
   ]
  },
  {
   "cell_type": "code",
   "execution_count": 8,
   "id": "af6a647a",
   "metadata": {},
   "outputs": [
    {
     "name": "stdout",
     "output_type": "stream",
     "text": [
      "OrderedDict([('a', 1), ('b', 2), ('c', 3)])\n"
     ]
    }
   ],
   "source": [
    "from collections import OrderedDict\n",
    "fancy = OrderedDict(plain)\n",
    "print(fancy)"
   ]
  },
  {
   "cell_type": "markdown",
   "id": "5bd8b4ea",
   "metadata": {},
   "source": [
    "from output of above two results we can see that fancy print the same order as plain \n",
    "\n",
    "* **Note**:- OrderedDict preserves the order in which the keys are inserted. A regular dict doesn’t track the insertion order"
   ]
  },
  {
   "cell_type": "markdown",
   "id": "ebd18074",
   "metadata": {},
   "source": [
    "**Q7**. Make a default dictionary called dict_of_lists and pass it the argument list. Make the list dict_of_lists['a'] and append the value 'something for a' to it in one assignment. Print dict_of_lists['a'].\n",
    "\n",
    "**Answer**:-"
   ]
  },
  {
   "cell_type": "code",
   "execution_count": 9,
   "id": "5b2a028d",
   "metadata": {},
   "outputs": [
    {
     "data": {
      "text/plain": [
       "['something for a']"
      ]
     },
     "execution_count": 9,
     "metadata": {},
     "output_type": "execute_result"
    }
   ],
   "source": [
    "from collections import defaultdict\n",
    "dict_of_lists = defaultdict(list)\n",
    "dict_of_lists['a'].append('something for a')\n",
    "dict_of_lists['a']"
   ]
  }
 ],
 "metadata": {
  "kernelspec": {
   "display_name": "Python 3 (ipykernel)",
   "language": "python",
   "name": "python3"
  },
  "language_info": {
   "codemirror_mode": {
    "name": "ipython",
    "version": 3
   },
   "file_extension": ".py",
   "mimetype": "text/x-python",
   "name": "python",
   "nbconvert_exporter": "python",
   "pygments_lexer": "ipython3",
   "version": "3.9.7"
  }
 },
 "nbformat": 4,
 "nbformat_minor": 5
}
