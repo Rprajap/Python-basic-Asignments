{
 "cells": [
  {
   "cell_type": "markdown",
   "id": "1ecf853e",
   "metadata": {},
   "source": [
    "__Q.__1.What are the two values of the Boolean data type? How do you write them?"
   ]
  },
  {
   "cell_type": "markdown",
   "id": "8f4be5b2",
   "metadata": {},
   "source": [
    "**Answer**:-"
   ]
  },
  {
   "cell_type": "markdown",
   "id": "50285439",
   "metadata": {},
   "source": [
    " Boolean datatype is one of the built-in data types in python, which represents one of the two values i.e. True or False. Generally, it is used to represent the truth values of the expressions. For example, 1==1 is True whereas 2<1 is False."
   ]
  },
  {
   "cell_type": "markdown",
   "id": "6f2a6ce1",
   "metadata": {},
   "source": [
    "**Example:Boolean datatype**"
   ]
  },
  {
   "cell_type": "code",
   "execution_count": 1,
   "id": "1077820c",
   "metadata": {},
   "outputs": [
    {
     "name": "stdout",
     "output_type": "stream",
     "text": [
      "True\n",
      "False\n"
     ]
    }
   ],
   "source": [
    "x=True\n",
    "y=False\n",
    "print(x>y)\n",
    "print(x==y)"
   ]
  },
  {
   "cell_type": "markdown",
   "id": "d26c6e32",
   "metadata": {},
   "source": [
    "__Q.__2 What are the three different types of Boolean operators?"
   ]
  },
  {
   "cell_type": "markdown",
   "id": "91b64667",
   "metadata": {},
   "source": [
    "**Answer**:-  Three different types of Boolean operators are"
   ]
  },
  {
   "cell_type": "markdown",
   "id": "9f5ad864",
   "metadata": {},
   "source": [
    "AND\n",
    "\n",
    "OR\n",
    "\n",
    "NOT\n"
   ]
  },
  {
   "cell_type": "code",
   "execution_count": 2,
   "id": "a66f5ebc",
   "metadata": {},
   "outputs": [
    {
     "name": "stdout",
     "output_type": "stream",
     "text": [
      "False\n",
      "True\n",
      "False\n"
     ]
    }
   ],
   "source": [
    "# AND operator\n",
    "x=True\n",
    "y=False\n",
    "print(x and y)\n",
    "\n",
    "# OR operator\n",
    "print(x or y)\n",
    "\n",
    "# NOT operator\n",
    "print(not x)\n"
   ]
  },
  {
   "cell_type": "markdown",
   "id": "08b3dcbd",
   "metadata": {},
   "source": [
    "\n",
    "\n",
    "__Q.__3. Make a list of each Boolean operator's truth tables (i.e. every possible combination of Boolean values for the operator and what it evaluate ).\n"
   ]
  },
  {
   "cell_type": "markdown",
   "id": "01ce4368",
   "metadata": {},
   "source": [
    "**Answer**:-"
   ]
  },
  {
   "cell_type": "code",
   "execution_count": 3,
   "id": "3fc43ddf",
   "metadata": {},
   "outputs": [
    {
     "name": "stdout",
     "output_type": "stream",
     "text": [
      " True and True is True\n",
      " True and False is False\n",
      " False and True is False\n",
      " False and False is False\n",
      " True or True is True\n",
      " True or False is True\n",
      " False or True is True\n",
      " False or False is False\n",
      "not True is False\n",
      "not False is True\n"
     ]
    }
   ],
   "source": [
    "A = True\n",
    "B = False\n",
    "# AND Operator\n",
    "\n",
    "print(f\" {A} and {A} is {A and A}\")\n",
    "print(f\" {A} and {B} is {A and B}\")\n",
    "print(f\" {B} and {A} is {B and A}\")\n",
    "print(f\" {B} and {B} is {B and B}\")\n",
    "\n",
    "# or Operator\n",
    "print(f\" {A} or {A} is {A or A}\")\n",
    "print(f\" {A} or {B} is {A or B}\")\n",
    "print(f\" {B} or {A} is {B or A}\")\n",
    "print(f\" {B} or {B} is {B or B}\")\n",
    "\n",
    "# Not Operator\n",
    "print(f\"not {A} is {not A}\")\n",
    "print(f\"not {B} is {not B}\")"
   ]
  },
  {
   "cell_type": "markdown",
   "id": "cb40021e",
   "metadata": {},
   "source": [
    "__Q.__4. What are the values of the following expressions?\n",
    "\n",
    "(5 > 4) and (3 == 5)\n",
    "\n",
    "not (5 > 4)\n",
    "\n",
    "(5 > 4) or (3 == 5)\n",
    "\n",
    "not ((5 > 4) or (3 == 5))\n",
    "\n",
    "(True and True) and (True == False)\n",
    "\n",
    "(not False) or (not True)\n"
   ]
  },
  {
   "cell_type": "markdown",
   "id": "f949ca6c",
   "metadata": {},
   "source": [
    "**Answer**:-"
   ]
  },
  {
   "cell_type": "code",
   "execution_count": 5,
   "id": "59b5c429",
   "metadata": {},
   "outputs": [
    {
     "data": {
      "text/plain": [
       "False"
      ]
     },
     "execution_count": 5,
     "metadata": {},
     "output_type": "execute_result"
    }
   ],
   "source": [
    "# (5 > 4) and (3 == 5)\n",
    "(5 > 4) and (3 == 5)"
   ]
  },
  {
   "cell_type": "code",
   "execution_count": 6,
   "id": "1d634fa7",
   "metadata": {},
   "outputs": [
    {
     "data": {
      "text/plain": [
       "False"
      ]
     },
     "execution_count": 6,
     "metadata": {},
     "output_type": "execute_result"
    }
   ],
   "source": [
    "#not (5 > 4)\n",
    "not (5 > 4)"
   ]
  },
  {
   "cell_type": "code",
   "execution_count": 7,
   "id": "ef08d4bb",
   "metadata": {},
   "outputs": [
    {
     "data": {
      "text/plain": [
       "True"
      ]
     },
     "execution_count": 7,
     "metadata": {},
     "output_type": "execute_result"
    }
   ],
   "source": [
    "# (5 > 4) or (3 == 5)\n",
    "(5 > 4) or (3 == 5)"
   ]
  },
  {
   "cell_type": "code",
   "execution_count": null,
   "id": "b6c3ec11",
   "metadata": {},
   "outputs": [],
   "source": [
    "# not ((5 > 4) or (3 == 5))\n",
    "not ((5 > 4) or (3 == 5))"
   ]
  },
  {
   "cell_type": "code",
   "execution_count": 8,
   "id": "ef6c3400",
   "metadata": {},
   "outputs": [
    {
     "data": {
      "text/plain": [
       "False"
      ]
     },
     "execution_count": 8,
     "metadata": {},
     "output_type": "execute_result"
    }
   ],
   "source": [
    "# (True and True) and (True == False)\n",
    "(True and True) and (True == False)"
   ]
  },
  {
   "cell_type": "code",
   "execution_count": 9,
   "id": "beb5b974",
   "metadata": {},
   "outputs": [
    {
     "data": {
      "text/plain": [
       "True"
      ]
     },
     "execution_count": 9,
     "metadata": {},
     "output_type": "execute_result"
    }
   ],
   "source": [
    "# (not False) or (not True)\n",
    "(not False) or (not True)"
   ]
  },
  {
   "cell_type": "markdown",
   "id": "3f0d8c9a",
   "metadata": {},
   "source": [
    "__Q.__5. What are the six comparison operators?"
   ]
  },
  {
   "cell_type": "markdown",
   "id": "7b3ced63",
   "metadata": {},
   "source": [
    "**Answer**:-"
   ]
  },
  {
   "cell_type": "markdown",
   "id": "61881bcc",
   "metadata": {},
   "source": [
    "- Six Coparision are as below\n",
    "    * Equal (==)\n",
    "    * Not Equal (!=)\n",
    "    * Greater Than (>)\n",
    "    * Greater Than Equal To (>=)\n",
    "    * Less Than (<)\n",
    "    * Less Than Equal To (<=)"
   ]
  },
  {
   "cell_type": "markdown",
   "id": "365882ed",
   "metadata": {},
   "source": [
    "**Example**:-"
   ]
  },
  {
   "cell_type": "code",
   "execution_count": 10,
   "id": "4dfaa4c5",
   "metadata": {},
   "outputs": [
    {
     "name": "stdout",
     "output_type": "stream",
     "text": [
      "False\n"
     ]
    }
   ],
   "source": [
    "# Equal (==)\n",
    "x=25\n",
    "y=30\n",
    "print(x==y)"
   ]
  },
  {
   "cell_type": "code",
   "execution_count": 11,
   "id": "37c40844",
   "metadata": {},
   "outputs": [
    {
     "name": "stdout",
     "output_type": "stream",
     "text": [
      "True\n"
     ]
    }
   ],
   "source": [
    "# Not Equal (!=)\n",
    "x=25\n",
    "y=30\n",
    "print(x!=y)"
   ]
  },
  {
   "cell_type": "code",
   "execution_count": 12,
   "id": "ce5a0c67",
   "metadata": {},
   "outputs": [
    {
     "name": "stdout",
     "output_type": "stream",
     "text": [
      "False\n"
     ]
    }
   ],
   "source": [
    "# Greater Than (>)\n",
    "x=25\n",
    "y=30\n",
    "print(x>y)"
   ]
  },
  {
   "cell_type": "code",
   "execution_count": 13,
   "id": "78eb86d9",
   "metadata": {},
   "outputs": [
    {
     "name": "stdout",
     "output_type": "stream",
     "text": [
      "True\n"
     ]
    }
   ],
   "source": [
    "# Greater Than or  Equal To (>=)\n",
    "x=25\n",
    "y=30\n",
    "print(y>=x)"
   ]
  },
  {
   "cell_type": "code",
   "execution_count": 14,
   "id": "092d61e2",
   "metadata": {},
   "outputs": [
    {
     "name": "stdout",
     "output_type": "stream",
     "text": [
      "True\n"
     ]
    }
   ],
   "source": [
    "# Less Than (<)\n",
    "x=25\n",
    "y=30\n",
    "print(x<y)"
   ]
  },
  {
   "cell_type": "code",
   "execution_count": 15,
   "id": "b8ca5456",
   "metadata": {},
   "outputs": [
    {
     "name": "stdout",
     "output_type": "stream",
     "text": [
      "True\n"
     ]
    }
   ],
   "source": [
    "# Less Than  or Equal To \n",
    "x=25\n",
    "y=30\n",
    "print(x<=y)\n"
   ]
  },
  {
   "cell_type": "markdown",
   "id": "1636abb8",
   "metadata": {},
   "source": [
    "__Q.__6. How do you tell the difference between the equal to and assignment operators?Describe a condition and when you would use one."
   ]
  },
  {
   "cell_type": "markdown",
   "id": "cebb725e",
   "metadata": {},
   "source": [
    "**Answer**:-"
   ]
  },
  {
   "cell_type": "markdown",
   "id": "6ca94d6f",
   "metadata": {},
   "source": [
    " Assignment operator is used to assign a value to a variable where as equal to operator is used to compare value which returns to True or False based on condition"
   ]
  },
  {
   "cell_type": "markdown",
   "id": "3e2ff4e7",
   "metadata": {},
   "source": [
    "**Example**:-"
   ]
  },
  {
   "cell_type": "code",
   "execution_count": 1,
   "id": "cf4faa05",
   "metadata": {},
   "outputs": [
    {
     "name": "stdout",
     "output_type": "stream",
     "text": [
      "2\n"
     ]
    },
    {
     "data": {
      "text/plain": [
       "False"
      ]
     },
     "execution_count": 1,
     "metadata": {},
     "output_type": "execute_result"
    }
   ],
   "source": [
    "# Assignment operator\n",
    "x=2\n",
    "print(x)\n",
    "# Equal to operator\n",
    "a=25\n",
    "b=26\n",
    "a==b\n"
   ]
  },
  {
   "cell_type": "markdown",
   "id": "f0d47c00",
   "metadata": {},
   "source": [
    "__Q.__7 Identify the three blocks in this code:\n",
    "    spam = 0\n",
    "\n",
    "    if spam == 10:\n",
    "\n",
    "    print('eggs')\n",
    "\n",
    "    if spam > 5:\n",
    "\n",
    "    print('bacon')\n",
    "\n",
    "    else:\n",
    "\n",
    "    print('ham')\n",
    "\n",
    "    print('spam')\n",
    "\n",
    "    print('spam')"
   ]
  },
  {
   "cell_type": "markdown",
   "id": "3d90caea",
   "metadata": {},
   "source": [
    "**Answer**:-"
   ]
  },
  {
   "cell_type": "code",
   "execution_count": 2,
   "id": "3a37ba0e",
   "metadata": {},
   "outputs": [
    {
     "name": "stdout",
     "output_type": "stream",
     "text": [
      "ham\n",
      "spam\n",
      "spam\n"
     ]
    }
   ],
   "source": [
    "# spam = 0  given statement\n",
    "spam = 0\n",
    "# first block\n",
    "if spam == 10:\n",
    "    print('eggs')\n",
    "# Second block\n",
    "if spam > 5:\n",
    "    print('bacon')\n",
    "# third block\n",
    "else:\n",
    "    print('ham')\n",
    "    print('spam')\n",
    "    print('spam')"
   ]
  },
  {
   "cell_type": "markdown",
   "id": "21cdaa7f",
   "metadata": {},
   "source": [
    "__Q.__8. Write code that prints Hello if 1 is stored in spam, prints Howdy if 2 is stored in spam, and prints Greetings! if anything else is stored in spam."
   ]
  },
  {
   "cell_type": "markdown",
   "id": "486397d4",
   "metadata": {},
   "source": [
    "**Answer**:-"
   ]
  },
  {
   "cell_type": "code",
   "execution_count": 3,
   "id": "e7763b3b",
   "metadata": {},
   "outputs": [
    {
     "name": "stdout",
     "output_type": "stream",
     "text": [
      "Enter spam value :5\n",
      "Greetings!\n"
     ]
    }
   ],
   "source": [
    "spam=int(input('Enter spam value :'))\n",
    "if spam==1:\n",
    "    print('Hello')\n",
    "if spam==2:\n",
    "    print('Howdy')\n",
    "else:\n",
    "    print('Greetings!')\n",
    "    "
   ]
  },
  {
   "cell_type": "markdown",
   "id": "e154801c",
   "metadata": {},
   "source": [
    "__Q.__9. If your programme is stuck in an endless loop, what keys you’ll press?"
   ]
  },
  {
   "cell_type": "markdown",
   "id": "830ab6d1",
   "metadata": {},
   "source": [
    "__Q.__10. How can you tell the difference between break and continue?"
   ]
  },
  {
   "cell_type": "markdown",
   "id": "d5d24d1f",
   "metadata": {},
   "source": [
    "**Answer**:-"
   ]
  },
  {
   "cell_type": "markdown",
   "id": "c240f72f",
   "metadata": {},
   "source": [
    "Break statment is used to break the running loop at given condition to exit from loop where as continue statment is used to skip the running loop at given condition and continue to run the loop"
   ]
  },
  {
   "cell_type": "markdown",
   "id": "d891e6f6",
   "metadata": {},
   "source": [
    "**Example**"
   ]
  },
  {
   "cell_type": "code",
   "execution_count": 4,
   "id": "917291b0",
   "metadata": {},
   "outputs": [
    {
     "name": "stdout",
     "output_type": "stream",
     "text": [
      "0\n",
      "1\n",
      "2\n",
      "3\n",
      "4\n"
     ]
    }
   ],
   "source": [
    "# Break ststement \n",
    "for i in range(10):\n",
    "    if i==5:\n",
    "        break\n",
    "    else:\n",
    "        print(i)\n",
    "        i=i+1\n",
    "   "
   ]
  },
  {
   "cell_type": "code",
   "execution_count": 12,
   "id": "7eb20c30",
   "metadata": {},
   "outputs": [
    {
     "name": "stdout",
     "output_type": "stream",
     "text": [
      "0\n",
      "1\n",
      "2\n",
      "3\n",
      "4\n",
      "6\n",
      "7\n",
      "8\n",
      "9\n"
     ]
    }
   ],
   "source": [
    "# continue statement\n",
    "for i in range(10):\n",
    "    if i==5:\n",
    "        continue\n",
    "    print(i)\n",
    "    i=i+1\n",
    "  \n",
    "        "
   ]
  },
  {
   "cell_type": "markdown",
   "id": "b240d922",
   "metadata": {},
   "source": [
    "__Q.__11. In a for loop, what is the difference between range(10), range(0, 10), and range(0, 10, 1)?"
   ]
  },
  {
   "cell_type": "markdown",
   "id": "d742a7a9",
   "metadata": {},
   "source": [
    "**Answer**:-"
   ]
  },
  {
   "cell_type": "code",
   "execution_count": 13,
   "id": "f9b779b0",
   "metadata": {},
   "outputs": [
    {
     "name": "stdout",
     "output_type": "stream",
     "text": [
      "0\n",
      "1\n",
      "2\n",
      "3\n",
      "4\n",
      "5\n",
      "6\n",
      "7\n",
      "8\n",
      "9\n"
     ]
    }
   ],
   "source": [
    "#range(10)\n",
    "for i in range(10):\n",
    "    print(i)"
   ]
  },
  {
   "cell_type": "code",
   "execution_count": 14,
   "id": "3d8c594a",
   "metadata": {},
   "outputs": [
    {
     "name": "stdout",
     "output_type": "stream",
     "text": [
      "0\n",
      "1\n",
      "2\n",
      "3\n",
      "4\n",
      "5\n",
      "6\n",
      "7\n",
      "8\n",
      "9\n"
     ]
    }
   ],
   "source": [
    "# range(0, 10)\n",
    "for i in range(0,10):\n",
    "    print(i)"
   ]
  },
  {
   "cell_type": "code",
   "execution_count": 15,
   "id": "f0f84b04",
   "metadata": {},
   "outputs": [
    {
     "name": "stdout",
     "output_type": "stream",
     "text": [
      "0\n",
      "1\n",
      "2\n",
      "3\n",
      "4\n",
      "5\n",
      "6\n",
      "7\n",
      "8\n",
      "9\n"
     ]
    }
   ],
   "source": [
    "#range(0, 10, 1)\n",
    "for i in range(0, 10, 1):\n",
    "    print(i)"
   ]
  },
  {
   "cell_type": "markdown",
   "id": "119106ca",
   "metadata": {},
   "source": [
    " From above result there is no diffrence in range(10),range(0,10) and range(0,10,1)\n",
    "range(0,10,1), in this 0 indicate starting point, 10 indicate (10-1)th point and 1 indicate step value"
   ]
  },
  {
   "cell_type": "markdown",
   "id": "5f34453d",
   "metadata": {},
   "source": [
    "__Q.__12. Write a short program that prints the numbers 1 to 10 using a for loop. Then write an equivalent program that prints the numbers 1 to 10 using a while loop."
   ]
  },
  {
   "cell_type": "markdown",
   "id": "63e241ff",
   "metadata": {},
   "source": [
    "**Answer**:-"
   ]
  },
  {
   "cell_type": "code",
   "execution_count": 16,
   "id": "7de9b5a3",
   "metadata": {},
   "outputs": [
    {
     "name": "stdout",
     "output_type": "stream",
     "text": [
      "1\n",
      "2\n",
      "3\n",
      "4\n",
      "5\n",
      "6\n",
      "7\n",
      "8\n",
      "9\n",
      "10\n"
     ]
    }
   ],
   "source": [
    "# for loop\n",
    "for i in range(1,11):\n",
    "    print(i)\n"
   ]
  },
  {
   "cell_type": "code",
   "execution_count": 1,
   "id": "501e41ce",
   "metadata": {},
   "outputs": [
    {
     "name": "stdout",
     "output_type": "stream",
     "text": [
      "1\n",
      "2\n",
      "3\n",
      "4\n",
      "5\n",
      "6\n",
      "7\n",
      "8\n",
      "9\n",
      "10\n"
     ]
    }
   ],
   "source": [
    "# while loop\n",
    "i=1\n",
    "while i<=10:\n",
    "    print(i)\n",
    "    i=i+1"
   ]
  },
  {
   "cell_type": "markdown",
   "id": "b859590c",
   "metadata": {},
   "source": [
    "__Q.__13 If you had a function named bacon() inside a module named spam, how would you call it after importing spam?"
   ]
  },
  {
   "cell_type": "markdown",
   "id": "886d3a49",
   "metadata": {},
   "source": [
    "**Answer**:-"
   ]
  },
  {
   "cell_type": "markdown",
   "id": "1e834e24",
   "metadata": {},
   "source": [
    " import  module spam\n",
    " \n",
    " import spam\n",
    " \n",
    " calling function bacon()\n",
    " \n",
    " a=spam.bacon()"
   ]
  },
  {
   "cell_type": "code",
   "execution_count": null,
   "id": "c83d823a",
   "metadata": {},
   "outputs": [],
   "source": []
  },
  {
   "cell_type": "code",
   "execution_count": null,
   "id": "72e19a14",
   "metadata": {},
   "outputs": [],
   "source": []
  },
  {
   "cell_type": "code",
   "execution_count": null,
   "id": "5a871b59",
   "metadata": {},
   "outputs": [],
   "source": []
  },
  {
   "cell_type": "code",
   "execution_count": null,
   "id": "c37d0d19",
   "metadata": {},
   "outputs": [],
   "source": []
  },
  {
   "cell_type": "code",
   "execution_count": null,
   "id": "488c4b0e",
   "metadata": {},
   "outputs": [],
   "source": []
  },
  {
   "cell_type": "code",
   "execution_count": null,
   "id": "9710f749",
   "metadata": {},
   "outputs": [],
   "source": []
  },
  {
   "cell_type": "code",
   "execution_count": null,
   "id": "94881e09",
   "metadata": {},
   "outputs": [],
   "source": []
  },
  {
   "cell_type": "code",
   "execution_count": null,
   "id": "1991df32",
   "metadata": {},
   "outputs": [],
   "source": []
  },
  {
   "cell_type": "code",
   "execution_count": null,
   "id": "1aa68d68",
   "metadata": {},
   "outputs": [],
   "source": []
  },
  {
   "cell_type": "code",
   "execution_count": null,
   "id": "db945dae",
   "metadata": {},
   "outputs": [],
   "source": []
  },
  {
   "cell_type": "code",
   "execution_count": null,
   "id": "60564432",
   "metadata": {},
   "outputs": [],
   "source": []
  },
  {
   "cell_type": "code",
   "execution_count": null,
   "id": "0116281e",
   "metadata": {},
   "outputs": [],
   "source": []
  },
  {
   "cell_type": "code",
   "execution_count": null,
   "id": "63375c4d",
   "metadata": {},
   "outputs": [],
   "source": []
  },
  {
   "cell_type": "code",
   "execution_count": null,
   "id": "7fc3db80",
   "metadata": {},
   "outputs": [],
   "source": []
  },
  {
   "cell_type": "code",
   "execution_count": null,
   "id": "d98c1b27",
   "metadata": {},
   "outputs": [],
   "source": []
  },
  {
   "cell_type": "code",
   "execution_count": null,
   "id": "9edd3b4c",
   "metadata": {},
   "outputs": [],
   "source": []
  },
  {
   "cell_type": "code",
   "execution_count": null,
   "id": "0836a534",
   "metadata": {},
   "outputs": [],
   "source": []
  },
  {
   "cell_type": "code",
   "execution_count": null,
   "id": "ee00e6c2",
   "metadata": {},
   "outputs": [],
   "source": []
  },
  {
   "cell_type": "code",
   "execution_count": null,
   "id": "1406a18e",
   "metadata": {},
   "outputs": [],
   "source": []
  },
  {
   "cell_type": "code",
   "execution_count": null,
   "id": "8a2b90c9",
   "metadata": {},
   "outputs": [],
   "source": []
  },
  {
   "cell_type": "code",
   "execution_count": null,
   "id": "f3ee1c3c",
   "metadata": {},
   "outputs": [],
   "source": []
  },
  {
   "cell_type": "code",
   "execution_count": null,
   "id": "5f1dda28",
   "metadata": {},
   "outputs": [],
   "source": []
  },
  {
   "cell_type": "code",
   "execution_count": null,
   "id": "6a6b4769",
   "metadata": {},
   "outputs": [],
   "source": []
  },
  {
   "cell_type": "code",
   "execution_count": null,
   "id": "57002b71",
   "metadata": {},
   "outputs": [],
   "source": []
  },
  {
   "cell_type": "code",
   "execution_count": null,
   "id": "9122b243",
   "metadata": {},
   "outputs": [],
   "source": []
  }
 ],
 "metadata": {
  "kernelspec": {
   "display_name": "Python 3 (ipykernel)",
   "language": "python",
   "name": "python3"
  },
  "language_info": {
   "codemirror_mode": {
    "name": "ipython",
    "version": 3
   },
   "file_extension": ".py",
   "mimetype": "text/x-python",
   "name": "python",
   "nbconvert_exporter": "python",
   "pygments_lexer": "ipython3",
   "version": "3.9.7"
  }
 },
 "nbformat": 4,
 "nbformat_minor": 5
}
