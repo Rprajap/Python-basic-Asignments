{
 "cells": [
  {
   "cell_type": "markdown",
   "id": "97d4fe6a",
   "metadata": {},
   "source": [
    "Q.1. What is the result of the code, and why?\n",
    "\n",
    "def func(a, b = 6, c = 8):\n",
    "    \n",
    "    print(a, b, c)\n",
    "    \n",
    "func(1, 2)"
   ]
  },
  {
   "cell_type": "markdown",
   "id": "f55b37ac",
   "metadata": {},
   "source": [
    "**Answer**:-"
   ]
  },
  {
   "cell_type": "code",
   "execution_count": 1,
   "id": "73e1aa9a",
   "metadata": {},
   "outputs": [
    {
     "name": "stdout",
     "output_type": "stream",
     "text": [
      "1 2 8\n"
     ]
    }
   ],
   "source": [
    "def func(a, b = 6, c = 8):\n",
    "    print(a, b, c)\n",
    "func(1, 2)"
   ]
  },
  {
   "cell_type": "markdown",
   "id": "849a7a56",
   "metadata": {},
   "source": [
    "Here  func has three parameter a,b=6,c=8. while calling function  we sent 2 values therefore preference is given to the input user gives.\n",
    "So, a = 1, b = 2, and c as  default value of parameter c as  8."
   ]
  },
  {
   "cell_type": "markdown",
   "id": "0d943458",
   "metadata": {},
   "source": [
    "**Q2**. What is the result of this code, and why?\n",
    "\n",
    "def func(a, b, c = 5):\n",
    "    \n",
    "    print(a, b, c)\n",
    "    \n",
    "func(1, c = 3, b = 2)"
   ]
  },
  {
   "cell_type": "markdown",
   "id": "fd1b2442",
   "metadata": {},
   "source": [
    "**Answer**:-"
   ]
  },
  {
   "cell_type": "code",
   "execution_count": 3,
   "id": "c6a3d5af",
   "metadata": {},
   "outputs": [
    {
     "name": "stdout",
     "output_type": "stream",
     "text": [
      "1 2 3\n"
     ]
    }
   ],
   "source": [
    "def func(a, b, c = 5):\n",
    "    print(a, b, c)\n",
    "func(1, c = 3, b = 2)"
   ]
  },
  {
   "cell_type": "markdown",
   "id": "019d3197",
   "metadata": {},
   "source": [
    "We have passed the value a = 1, b = 2 & c = 3.While calling func \n",
    "Position doesnt matter as long as we have mentioned the variable along with its value ."
   ]
  },
  {
   "cell_type": "markdown",
   "id": "668900c7",
   "metadata": {},
   "source": [
    "**Q3**. How about this code: what is its result, and why?\n",
    "\n",
    "def func(a, *pargs):\n",
    "    \n",
    "    print(a, pargs)\n",
    "    \n",
    "func(1, 2, 3)"
   ]
  },
  {
   "cell_type": "markdown",
   "id": "1550fbe9",
   "metadata": {},
   "source": [
    "**Answer**:-"
   ]
  },
  {
   "cell_type": "code",
   "execution_count": 4,
   "id": "4e630089",
   "metadata": {},
   "outputs": [
    {
     "name": "stdout",
     "output_type": "stream",
     "text": [
      "1 (2, 3)\n"
     ]
    }
   ],
   "source": [
    "def func(a, *pargs):\n",
    "    print(a, pargs)\n",
    "func(1, 2, 3)"
   ]
  },
  {
   "cell_type": "markdown",
   "id": "e8f600c4",
   "metadata": {},
   "source": [
    "Here a = 1. *pargs returns as many argument user gives as input in form of tuples."
   ]
  },
  {
   "cell_type": "markdown",
   "id": "98603cd7",
   "metadata": {},
   "source": [
    "**Q4**. What does this code print, and why?\n",
    "\n",
    "def func(a, **kargs):\n",
    "    \n",
    "    print(a, kargs)\n",
    "    \n",
    "func(a = 1, c = 3, b = 2)"
   ]
  },
  {
   "cell_type": "markdown",
   "id": "9d34ff47",
   "metadata": {},
   "source": [
    "**Answer**:-"
   ]
  },
  {
   "cell_type": "code",
   "execution_count": 5,
   "id": "1509e6b7",
   "metadata": {},
   "outputs": [
    {
     "name": "stdout",
     "output_type": "stream",
     "text": [
      "1 {'c': 3, 'b': 2}\n"
     ]
    }
   ],
   "source": [
    "def func(a, **kargs):\n",
    "    print(a, kargs)\n",
    "func(a = 1, c = 3, b = 2)"
   ]
  },
  {
   "cell_type": "markdown",
   "id": "7b3025ec",
   "metadata": {},
   "source": [
    "Here a = 1, **kargs returns as many argument user gives as input in form of dictionary."
   ]
  },
  {
   "cell_type": "markdown",
   "id": "bbf1d933",
   "metadata": {},
   "source": [
    "**Q5**. What gets printed by this, and explain?\n",
    "\n",
    "def func(a, b, c = 8, d = 5):\n",
    "    \n",
    "    print(a, b, c, d)\n",
    "    \n",
    "func(1, *(5, 6))"
   ]
  },
  {
   "cell_type": "markdown",
   "id": "8a5c3153",
   "metadata": {},
   "source": [
    "**Answer**:-"
   ]
  },
  {
   "cell_type": "code",
   "execution_count": 6,
   "id": "bc5a8225",
   "metadata": {},
   "outputs": [
    {
     "name": "stdout",
     "output_type": "stream",
     "text": [
      "1 5 6 5\n"
     ]
    }
   ],
   "source": [
    "def func(a, b, c = 8, d = 5):\n",
    "    print(a, b, c, d)\n",
    "func(1, *(5, 6))"
   ]
  },
  {
   "cell_type": "markdown",
   "id": "d5ae4ae3",
   "metadata": {},
   "source": [
    "* '*' is the unpacking operator and are operators that unpack the values from iterable objects in Python.\n",
    "* The single asterisk operator * can be used on any iterable that Python provides,\n",
    "* While the double asterisk operator ** can only be used on dictionaries.\n",
    "* In the example the value *(5,6) will be unpacked and will be assigned to b and c and passed as arguments, d = 5 will taken by defaults are keyword arguments."
   ]
  },
  {
   "cell_type": "markdown",
   "id": "766de742",
   "metadata": {},
   "source": [
    "Q.6. What is the result of this, and explain?\n",
    "\n",
    "def func(a, b, c):\n",
    "    \n",
    "    a = 2; b[0] = 'x'; c['a'] = 'y'\n",
    "\n",
    "l = 1; m = [1]; n = {'a':0}\n",
    "\n",
    "func(l, m, n)\n",
    "\n",
    "l, m, n"
   ]
  },
  {
   "cell_type": "markdown",
   "id": "00e1a55d",
   "metadata": {},
   "source": [
    "**Answer**:-"
   ]
  },
  {
   "cell_type": "code",
   "execution_count": 7,
   "id": "335b5210",
   "metadata": {},
   "outputs": [
    {
     "data": {
      "text/plain": [
       "(1, ['x'], {'a': 'y'})"
      ]
     },
     "execution_count": 7,
     "metadata": {},
     "output_type": "execute_result"
    }
   ],
   "source": [
    "def func(a, b, c): \n",
    "    a = 2; b[0] = 'x'; c['a'] = 'y'\n",
    "\n",
    "l = 1; m = [1]; n = {'a':0}\n",
    "func(l, m, n)\n",
    "l, m, n"
   ]
  },
  {
   "cell_type": "markdown",
   "id": "d6527008",
   "metadata": {},
   "source": [
    "Here in func(l, m, n) we passed l = 1, m is passed as list contain 1 element i.e b[0]='x', n is passed as dictionary "
   ]
  }
 ],
 "metadata": {
  "kernelspec": {
   "display_name": "Python 3 (ipykernel)",
   "language": "python",
   "name": "python3"
  },
  "language_info": {
   "codemirror_mode": {
    "name": "ipython",
    "version": 3
   },
   "file_extension": ".py",
   "mimetype": "text/x-python",
   "name": "python",
   "nbconvert_exporter": "python",
   "pygments_lexer": "ipython3",
   "version": "3.9.7"
  }
 },
 "nbformat": 4,
 "nbformat_minor": 5
}
