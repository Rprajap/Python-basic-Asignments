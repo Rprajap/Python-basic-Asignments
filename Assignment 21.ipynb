{
 "cells": [
  {
   "cell_type": "markdown",
   "id": "5e603d43",
   "metadata": {},
   "source": [
    "**Q1**. Add the current date to the text file today.txt as a string.\n",
    "\n",
    "**Answer** :-"
   ]
  },
  {
   "cell_type": "code",
   "execution_count": 2,
   "id": "ad42612e",
   "metadata": {},
   "outputs": [
    {
     "data": {
      "text/plain": [
       "'2022-06-26'"
      ]
     },
     "execution_count": 2,
     "metadata": {},
     "output_type": "execute_result"
    }
   ],
   "source": [
    "import datetime\n",
    "from datetime import date\n",
    "now = date.today()\n",
    "cur_date = now.isoformat()\n",
    "cur_date"
   ]
  },
  {
   "cell_type": "code",
   "execution_count": 3,
   "id": "605d9f3e",
   "metadata": {},
   "outputs": [],
   "source": [
    "with open('today.txt','w') as file:\n",
    "    file.write(cur_date)"
   ]
  },
  {
   "cell_type": "code",
   "execution_count": 4,
   "id": "2983315e",
   "metadata": {},
   "outputs": [],
   "source": [
    "file.close()"
   ]
  },
  {
   "cell_type": "markdown",
   "id": "0ea337e3",
   "metadata": {},
   "source": [
    "**Q2**. Read the text file today.txt into the string today_string.\n",
    "\n",
    "**Answer** :-"
   ]
  },
  {
   "cell_type": "code",
   "execution_count": 5,
   "id": "67eb08e5",
   "metadata": {},
   "outputs": [
    {
     "data": {
      "text/plain": [
       "'2022-06-26'"
      ]
     },
     "execution_count": 5,
     "metadata": {},
     "output_type": "execute_result"
    }
   ],
   "source": [
    "with open('today.txt','r') as file:\n",
    "    today_string = file.read()\n",
    "today_string"
   ]
  },
  {
   "cell_type": "markdown",
   "id": "1e60f765",
   "metadata": {},
   "source": [
    "**Q3**. Parse the date from today_string.\n",
    "\n",
    "**Answer** :-"
   ]
  },
  {
   "cell_type": "code",
   "execution_count": 9,
   "id": "08a20496",
   "metadata": {},
   "outputs": [
    {
     "data": {
      "text/plain": [
       "datetime.datetime(2022, 6, 26, 0, 0)"
      ]
     },
     "execution_count": 9,
     "metadata": {},
     "output_type": "execute_result"
    }
   ],
   "source": [
    "from datetime import datetime\n",
    "format = '%Y-%m-%d'\n",
    "datetime.strptime(today_string,format)"
   ]
  },
  {
   "cell_type": "markdown",
   "id": "607e9843",
   "metadata": {},
   "source": [
    "**Q4**. List the files in your current directory.\n",
    "  \n",
    "**Answer** :-"
   ]
  },
  {
   "cell_type": "code",
   "execution_count": 12,
   "id": "59ec25ea",
   "metadata": {},
   "outputs": [
    {
     "data": {
      "text/plain": [
       "['.ipynb_checkpoints',\n",
       " 'aaignment-04.ipynb',\n",
       " 'Assigmnent 14.ipynb',\n",
       " 'Assignment 02.ipynb',\n",
       " 'Assignment 03.ipynb',\n",
       " 'Assignment 05.ipynb',\n",
       " 'Assignment 06.ipynb',\n",
       " 'Assignment 07.ipynb',\n",
       " 'Assignment 08.ipynb',\n",
       " 'Assignment 09.ipynb',\n",
       " 'Assignment 10.ipynb',\n",
       " 'Assignment 11.ipynb',\n",
       " 'Assignment 12.ipynb',\n",
       " 'Assignment 13.ipynb',\n",
       " 'Assignment 16.ipynb',\n",
       " 'Assignment 17.ipynb',\n",
       " 'Assignment 18.ipynb',\n",
       " 'Assignment 19.ipynb',\n",
       " 'Assignment 20.ipynb',\n",
       " 'Assignment 21.ipynb',\n",
       " 'assignment-01.ipynb',\n",
       " 'Assignment. 15.ipynb',\n",
       " 'Assignmentproject',\n",
       " 'books.csv',\n",
       " 'books.db',\n",
       " 'car2.jpg',\n",
       " 'car2.png',\n",
       " 'design1.png',\n",
       " 'doc.docx',\n",
       " 'heading.docx',\n",
       " 'my_image.png',\n",
       " 'sample.docx',\n",
       " 'test.txt',\n",
       " 'today.txt',\n",
       " 'zoo.py',\n",
       " '__pycache__']"
      ]
     },
     "execution_count": 12,
     "metadata": {},
     "output_type": "execute_result"
    }
   ],
   "source": [
    "import os\n",
    "os.listdir()"
   ]
  },
  {
   "cell_type": "markdown",
   "id": "2d80aedc",
   "metadata": {},
   "source": [
    "**Q5**. Create a list of all of the files in your parent directory (minimum five files should be available).\n",
    "\n",
    "**Answer** :-"
   ]
  },
  {
   "cell_type": "code",
   "execution_count": 13,
   "id": "ce082ae8",
   "metadata": {},
   "outputs": [
    {
     "data": {
      "text/plain": [
       "['.idea',\n",
       " '.ipynb_checkpoints',\n",
       " '05.03.2022 pandas.ipynb',\n",
       " '06.02.2022 sql.ipynb',\n",
       " '06.03.2022 PANDAS.ipynb',\n",
       " '08-01-2022 function.ipynb',\n",
       " '09.01.2022 file operation.ipynb',\n",
       " '12.02.2022 opps class discoussion.ipynb',\n",
       " '12.03.2022 pandas .ipynb',\n",
       " '13.02.2022(object oriented programming.. custom excetion ).ipynb',\n",
       " '13.03.2022  numpy.ipynb',\n",
       " '15.01.2022 exception handling.ipynb',\n",
       " '16..01.2022 (exception handling).ipynb',\n",
       " '16.01.2022.ipynb',\n",
       " '19.12.2021 conditional statement.ipynb',\n",
       " '20.12.21.ipynb',\n",
       " '21.12.21.ipynb',\n",
       " '23.12.2021.ipynb',\n",
       " '26.03.2022  .ipynb',\n",
       " '3-dog.png',\n",
       " 'abc.png',\n",
       " 'Analysis - Titanic Dataset.xls',\n",
       " 'analysis of ipl datra set.ipynb',\n",
       " 'annual-enterprise-survey-2020-financial-year-provisional-csv (2).csv',\n",
       " 'annual-enterprise-survey-2020-financial-year-provisional-size-bands-csv.csv',\n",
       " 'Assignment',\n",
       " 'Assignmentproject',\n",
       " 'Assignments-02.ipynb.bak',\n",
       " 'bank.csv',\n",
       " 'car.data',\n",
       " 'car.png',\n",
       " 'car1.png',\n",
       " 'car2.png',\n",
       " 'cat.png',\n",
       " 'code with hary',\n",
       " 'Coffee.csv',\n",
       " 'Coffee.xl.xls',\n",
       " 'Coffee.xls',\n",
       " 'cricketdata.csv',\n",
       " 'Crop.mp4',\n",
       " 'data manipulation  05.03.2022.ipynb',\n",
       " 'DEEPAK LOCAL ALL FABRIC PRICE 2021.xlsx',\n",
       " 'deliveries-Copy1.csv',\n",
       " 'deliveries.csv',\n",
       " 'design.png',\n",
       " 'diamonds-Copy1.csv',\n",
       " 'diamonds.csv',\n",
       " 'eda lecture',\n",
       " 'example.db',\n",
       " 'Exception Handling.ipynb',\n",
       " 'Fifa Dataset Analysis.ipynb',\n",
       " 'file handling .ipynb',\n",
       " 'geeta-Copy1.txt',\n",
       " 'geeta.txt',\n",
       " 'glass.data',\n",
       " 'google-Copy1.txt',\n",
       " 'google.txt',\n",
       " 'google.txt.txt',\n",
       " 'gui progarmming Lecture-1.ipynb',\n",
       " 'Home work.ipynb',\n",
       " 'Homework.ipynb',\n",
       " 'hoops concepts.ipynb',\n",
       " 'ineuron lecture',\n",
       " 'IPL Ball-by-Ball 2008-2020-Copy1.csv',\n",
       " 'IPL Ball-by-Ball 2008-2020.csv',\n",
       " 'IPL-Copy1.csv',\n",
       " 'IPL.csv',\n",
       " 'iris-Copy1.csv',\n",
       " 'iris.csv',\n",
       " 'iterator generator (1).ipynb',\n",
       " 'json_responce.csv',\n",
       " 'logging (1) (1).ipynb',\n",
       " 'Logging (1).ipynb',\n",
       " 'Logging.ipynb',\n",
       " 'logo.png',\n",
       " 'Matplot lib visualisation',\n",
       " 'module.py',\n",
       " 'mpongo db 13.02.2022.ipynb',\n",
       " 'my sql  05.02.2022.ipynb',\n",
       " 'my video',\n",
       " 'mysql rivision .ipynb',\n",
       " 'my_figure.png',\n",
       " 'my_module.py',\n",
       " 'nature.jpg',\n",
       " 'NBV.CSV',\n",
       " 'Pakages.ipynb',\n",
       " 'pandas 26.02.2022.ipynb',\n",
       " 'pandas 27.03.2022.ipynb',\n",
       " 'pandas...ipynb',\n",
       " 'pandas.ipynb',\n",
       " 'players_20-Copy1.csv',\n",
       " 'players_20.csv',\n",
       " 'practice problem python basic.ipynb',\n",
       " 'Problem statement.ipynb',\n",
       " 'Python by Durga Sir',\n",
       " 'Python by Durga Sir.py',\n",
       " 'Python programing basic assignment',\n",
       " 'python.pdf',\n",
       " 'RAMDAS  RESUME NEW-1.pdf',\n",
       " 'Ramdas (2).txt',\n",
       " 'Ramdas-Copy1.csv',\n",
       " 'Ramdas.csv',\n",
       " 'Ramdas.log',\n",
       " 'Ramdas.txt',\n",
       " 'Ramdas2.log',\n",
       " 'Ramdas3.log',\n",
       " 'regional-gross-domestic-product-year-ended-march-2020.csv',\n",
       " 'RESUME.docx',\n",
       " 'Resume.pdf',\n",
       " 'sample.docx',\n",
       " 'Scatter plot with Seaborn Library.ipynb',\n",
       " 'Science',\n",
       " 'scrape review practice.ipynb',\n",
       " 'Scraping review.ipynb',\n",
       " 'sql database connector.ipynb',\n",
       " 'standared logging with function.ipynb',\n",
       " 'structure  trangular.ipynb',\n",
       " 'sunar.mp4',\n",
       " 'test-Copy1.log',\n",
       " 'test-Copy1.txt',\n",
       " 'test.log',\n",
       " 'test.py.txt',\n",
       " 'test.txt',\n",
       " 'test2-Copy1.log',\n",
       " 'test2-Copy1.txt',\n",
       " 'test2.log',\n",
       " 'test2.py',\n",
       " 'test2.txt',\n",
       " 'test3',\n",
       " 'test3-Copy1',\n",
       " 'test3-Copy1.log',\n",
       " 'test3-Copy1.txt',\n",
       " 'test3.log',\n",
       " 'test3.txt',\n",
       " 'test6-Copy1.text',\n",
       " 'test6.text',\n",
       " 'text file operation .ipynb',\n",
       " 'text file.ipynb',\n",
       " 'text2-Copy1.py',\n",
       " 'train.mp4',\n",
       " 'tuple,set ,dictionary.ipynb',\n",
       " 'unesh',\n",
       " 'Untitled10.ipynb',\n",
       " 'Untitled11.ipynb',\n",
       " 'Untitled12.ipynb',\n",
       " 'Untitled13.ipynb',\n",
       " 'Untitled14.ipynb',\n",
       " 'Untitled2.ipynb',\n",
       " 'Untitled3.ipynb',\n",
       " 'Visualisation with Seaborn',\n",
       " 'visulisation with seaborn library.ipynb',\n",
       " 'XYZ.ipynb',\n",
       " '__pycache__']"
      ]
     },
     "execution_count": 13,
     "metadata": {},
     "output_type": "execute_result"
    }
   ],
   "source": [
    "os.listdir('..')"
   ]
  },
  {
   "cell_type": "markdown",
   "id": "392178fd",
   "metadata": {},
   "source": [
    "**Q6**. Use multiprocessing to create three separate processes. Make each one wait a random number of seconds between one and five, print the current time, and then exit.\n",
    "\n",
    "**Answer** :-"
   ]
  },
  {
   "cell_type": "code",
   "execution_count": 14,
   "id": "0ab5b642",
   "metadata": {},
   "outputs": [],
   "source": [
    "import multiprocessing\n",
    "\n",
    "def PrintSec(seconds):\n",
    "    from datetime import datetime\n",
    "    from time import sleep\n",
    "    sleep(seconds)\n",
    "    print('wait', seconds, 'seconds, time is', datetime.utcnow())\n",
    "    \n",
    "if __name__ == '__main__':\n",
    "    import random    \n",
    "    for n in range(3):\n",
    "        seconds = random.random()\n",
    "        proc = multiprocessing.Process(target=PrintSec, args=(seconds,))\n",
    "        proc.start()"
   ]
  },
  {
   "cell_type": "code",
   "execution_count": 2,
   "id": "2ad0b58e",
   "metadata": {},
   "outputs": [
    {
     "name": "stderr",
     "output_type": "stream",
     "text": [
      "Traceback (most recent call last):\n",
      "  File \"D:\\python program\\Assignment\\multi.py\", line 28, in <module>\n",
      "    \"execution_count\": null,\n",
      "NameError: name 'null' is not defined\n"
     ]
    }
   ],
   "source": [
    "!python multi.py"
   ]
  },
  {
   "cell_type": "markdown",
   "id": "26d50ed0",
   "metadata": {},
   "source": [
    "**Q7**. Create a date object of your day of birth.\n",
    "\n",
    "**Answer** :-"
   ]
  },
  {
   "cell_type": "code",
   "execution_count": 16,
   "id": "4a8bd089",
   "metadata": {},
   "outputs": [
    {
     "data": {
      "text/plain": [
       "datetime.date(1997, 6, 7)"
      ]
     },
     "execution_count": 16,
     "metadata": {},
     "output_type": "execute_result"
    }
   ],
   "source": [
    "my_date = date(1997, 6, 7)\n",
    "my_date"
   ]
  },
  {
   "cell_type": "markdown",
   "id": "be06db1e",
   "metadata": {},
   "source": [
    "**Q8**. What day of the week was your day of birth?\n",
    " \n",
    "**Answer** :-"
   ]
  },
  {
   "cell_type": "code",
   "execution_count": 17,
   "id": "f239aa71",
   "metadata": {},
   "outputs": [
    {
     "data": {
      "text/plain": [
       "5"
      ]
     },
     "execution_count": 17,
     "metadata": {},
     "output_type": "execute_result"
    }
   ],
   "source": [
    "my_date.weekday()"
   ]
  },
  {
   "cell_type": "markdown",
   "id": "9930cd0c",
   "metadata": {},
   "source": [
    "**Q9**. When will you be (or when were you) 10,000 days old?\n",
    "\n",
    "**Answer** :-"
   ]
  },
  {
   "cell_type": "code",
   "execution_count": 18,
   "id": "ef642b47",
   "metadata": {},
   "outputs": [
    {
     "data": {
      "text/plain": [
       "datetime.date(2024, 10, 23)"
      ]
     },
     "execution_count": 18,
     "metadata": {},
     "output_type": "execute_result"
    }
   ],
   "source": [
    "from datetime import timedelta\n",
    "day10000 = my_date + timedelta(days = 10000)\n",
    "day10000"
   ]
  }
 ],
 "metadata": {
  "kernelspec": {
   "display_name": "Python 3 (ipykernel)",
   "language": "python",
   "name": "python3"
  },
  "language_info": {
   "codemirror_mode": {
    "name": "ipython",
    "version": 3
   },
   "file_extension": ".py",
   "mimetype": "text/x-python",
   "name": "python",
   "nbconvert_exporter": "python",
   "pygments_lexer": "ipython3",
   "version": "3.9.7"
  }
 },
 "nbformat": 4,
 "nbformat_minor": 5
}
