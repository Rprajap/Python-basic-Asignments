{
 "cells": [
  {
   "cell_type": "markdown",
   "id": "2865e3b8",
   "metadata": {},
   "source": [
    "**Q1**. What is the difference between enclosing a list comprehension in square brackets and parentheses?\n",
    "\n",
    "**Answer** :-\n",
    "\n",
    "The difference between enclosing a list comprehension in square brackets and parentheses is :\n",
    "\n",
    "* List Comprehension with square brackets produces list.\n",
    "\n",
    "* List Comprehension with parentheses creates generators."
   ]
  },
  {
   "cell_type": "markdown",
   "id": "56d2007b",
   "metadata": {},
   "source": [
    "**Example**:-"
   ]
  },
  {
   "cell_type": "code",
   "execution_count": 1,
   "id": "58b07081",
   "metadata": {},
   "outputs": [
    {
     "data": {
      "text/plain": [
       "[0, 1, 2, 3, 4, 5, 6, 7]"
      ]
     },
     "execution_count": 1,
     "metadata": {},
     "output_type": "execute_result"
    }
   ],
   "source": [
    "lst = [i for i in range(8)]\n",
    "lst"
   ]
  },
  {
   "cell_type": "code",
   "execution_count": 2,
   "id": "b76fea1c",
   "metadata": {},
   "outputs": [
    {
     "data": {
      "text/plain": [
       "<generator object <genexpr> at 0x000001ED4ABCA200>"
      ]
     },
     "execution_count": 2,
     "metadata": {},
     "output_type": "execute_result"
    }
   ],
   "source": [
    "lstParanthesis = (i for i in range(8))\n",
    "lstParanthesis"
   ]
  },
  {
   "cell_type": "markdown",
   "id": "e8c0434d",
   "metadata": {},
   "source": [
    "**Q2**. What is the relationship between generators and iterators?\n",
    "\n",
    "**Answer** :-\n",
    "\n",
    "The relationship between generators and iterators is :\n",
    "\n",
    "* Generators simplifies creation of iterators.\n",
    "* Generator is a function that generates a sequence of results instead of a single value.\n",
    "* When yield statement is executed the function generates a next value in a list.\n",
    "* Generator is also an iterator but don’t have to worry about the iterator protocol.\n"
   ]
  },
  {
   "cell_type": "code",
   "execution_count": 3,
   "id": "c44770c3",
   "metadata": {},
   "outputs": [
    {
     "name": "stdout",
     "output_type": "stream",
     "text": [
      "Pigeon\n",
      "Sparrow\n",
      "Parrot\n"
     ]
    }
   ],
   "source": [
    "# Iterator Example :\n",
    "\n",
    "iter_list = iter(['Pigeon', 'Sparrow', 'Parrot'])\n",
    "print(next(iter_list))\n",
    "print(next(iter_list))\n",
    "print(next(iter_list))"
   ]
  },
  {
   "cell_type": "code",
   "execution_count": 4,
   "id": "5bb24712",
   "metadata": {},
   "outputs": [
    {
     "name": "stdout",
     "output_type": "stream",
     "text": [
      "The square of numbers 1,2,3 are : \n",
      "1\n",
      "4\n",
      "9\n"
     ]
    }
   ],
   "source": [
    "# Generator example :\n",
    "\n",
    "def CubeNumbers(n):\n",
    "    for i in range(1, n+1):\n",
    "        yield i*i\n",
    "\n",
    "a = CubeNumbers(3)\n",
    "  \n",
    "print(\"The square of numbers 1,2,3 are : \")\n",
    "print(next(a))\n",
    "print(next(a))\n",
    "print(next(a))"
   ]
  },
  {
   "cell_type": "markdown",
   "id": "bca2b214",
   "metadata": {},
   "source": [
    "**Q3**. What are the signs that a function is a generator function?\n",
    "\n",
    "**Answer** :-\n",
    "\n",
    "If a function contains yield statement (it may contain other yield or return statements), it is called a generator function."
   ]
  },
  {
   "cell_type": "markdown",
   "id": "69451d5f",
   "metadata": {},
   "source": [
    "**Q4**. What is the purpose of a yield statement?\n",
    "\n",
    "**Answer** :-\n",
    "\n",
    "A yield statement looks much like a return statement, except that instead of stopping execution of the function and returning.\n",
    "Yield instead provides a value to the code looping over the generator and pauses execution of the generator function."
   ]
  },
  {
   "cell_type": "markdown",
   "id": "b33a3412",
   "metadata": {},
   "source": [
    "**Q5**. What is the relationship between map calls and list comprehensions? Make a comparison and contrast between the two.\n",
    "\n",
    "**Answer** :-\n",
    "\n",
    "List comprehension are used when a list of results is required as map only returns a map object and does not return any list.\n",
    "List comprehension is faster than map when we need to evaluate expressions that are too long or complicated to express.\n",
    "Map is faster in case of calling an already defined function (as no lambda is required)."
   ]
  }
 ],
 "metadata": {
  "kernelspec": {
   "display_name": "Python 3 (ipykernel)",
   "language": "python",
   "name": "python3"
  },
  "language_info": {
   "codemirror_mode": {
    "name": "ipython",
    "version": 3
   },
   "file_extension": ".py",
   "mimetype": "text/x-python",
   "name": "python",
   "nbconvert_exporter": "python",
   "pygments_lexer": "ipython3",
   "version": "3.9.7"
  }
 },
 "nbformat": 4,
 "nbformat_minor": 5
}
